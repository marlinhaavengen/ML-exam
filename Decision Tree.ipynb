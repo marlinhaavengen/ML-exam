{
 "cells": [
  {
   "cell_type": "markdown",
   "id": "37bf8f0d",
   "metadata": {},
   "source": [
    "# Machine Learning Final Exam -  Decision Tree"
   ]
  },
  {
   "cell_type": "code",
   "execution_count": 178,
   "id": "1d9c2ab3",
   "metadata": {},
   "outputs": [],
   "source": [
    "from sklearn.model_selection import train_test_split\n",
    "from sklearn.tree import DecisionTreeClassifier\n",
    "from sklearn.metrics import classification_report\n",
    "import pandas as pd\n",
    "import numpy as np\n",
    "from sklearn.model_selection import GridSearchCV\n",
    "from sklearn.model_selection import cross_validate\n",
    "from sklearn.metrics import make_scorer, precision_score, recall_score, f1_score, precision_recall_fscore_support\n",
    "from sklearn.model_selection import cross_val_predict\n",
    "from sklearn.metrics import classification_report\n",
    "from sklearn.model_selection import KFold\n",
    "from sklearn.metrics import accuracy_score\n",
    "from imblearn.over_sampling import SMOTE\n",
    "import matplotlib.pyplot as plt\n",
    "from sklearn.metrics import confusion_matrix"
   ]
  },
  {
   "cell_type": "code",
   "execution_count": 179,
   "id": "0d169bb9",
   "metadata": {},
   "outputs": [],
   "source": [
    "df_full = pd.read_csv('Habitable_Full_Balanced.csv')\n",
    "df_train = pd.read_csv('Habitable_Train_Balanced.csv')\n",
    "df_test = pd.read_csv('Habitable_Test.csv')\n",
    "df_val = pd.read_csv('Habitable_Val.csv')"
   ]
  },
  {
   "cell_type": "code",
   "execution_count": 180,
   "id": "2cf8c860",
   "metadata": {},
   "outputs": [
    {
     "name": "stdout",
     "output_type": "stream",
     "text": [
      "Value counts for df_full:\n",
      "Habitable\n",
      "0    5145\n",
      "1    1544\n",
      "Name: count, dtype: int64\n",
      "\n",
      "Value counts for df_train:\n",
      "Habitable\n",
      "0    3608\n",
      "1    1082\n",
      "Name: count, dtype: int64\n",
      "\n",
      "Value counts for df_test:\n",
      "Habitable\n",
      "0    770\n",
      "1     12\n",
      "Name: count, dtype: int64\n",
      "\n",
      "Value counts for df_val:\n",
      "Habitable\n",
      "0    767\n",
      "1     14\n",
      "Name: count, dtype: int64\n",
      "\n"
     ]
    }
   ],
   "source": [
    "print(f\"Value counts for df_full:\\n{df_full['Habitable'].value_counts()}\\n\")\n",
    "print(f\"Value counts for df_train:\\n{df_train['Habitable'].value_counts()}\\n\")\n",
    "print(f\"Value counts for df_test:\\n{df_test['Habitable'].value_counts()}\\n\")\n",
    "print(f\"Value counts for df_val:\\n{df_val['Habitable'].value_counts()}\\n\")\n"
   ]
  },
  {
   "cell_type": "markdown",
   "id": "2141378a",
   "metadata": {},
   "source": [
    "**Preparation:**\n",
    "\n",
    "Four files were imported. A training file that was already balanced in advance with synthetic data by SMOTE and a test and validation file, both of which contain the original, unbalanced data so as not to generate bias. In addition, an entire file containing balanced data using SMOTE was imported, which is used to perform cross validation. "
   ]
  },
  {
   "cell_type": "markdown",
   "id": "4b76bbe9",
   "metadata": {},
   "source": [
    "## Overview of Decision Tree Model\n"
   ]
  },
  {
   "cell_type": "code",
   "execution_count": 184,
   "id": "d4a0cd17",
   "metadata": {},
   "outputs": [],
   "source": [
    "model= DecisionTreeClassifier()"
   ]
  },
  {
   "cell_type": "code",
   "execution_count": 185,
   "id": "ecabb1d8",
   "metadata": {},
   "outputs": [
    {
     "name": "stdout",
     "output_type": "stream",
     "text": [
      "Parameters currently in use:\n",
      "\n",
      "ccp_alpha: 0.0\n",
      "class_weight: None\n",
      "criterion: gini\n",
      "max_depth: None\n",
      "max_features: None\n",
      "max_leaf_nodes: None\n",
      "min_impurity_decrease: 0.0\n",
      "min_samples_leaf: 1\n",
      "min_samples_split: 2\n",
      "min_weight_fraction_leaf: 0.0\n",
      "random_state: None\n",
      "splitter: best\n"
     ]
    }
   ],
   "source": [
    "print('Parameters currently in use:\\n')\n",
    "for param, value in model.get_params().items():\n",
    "    print(f\"{param}: {value}\")"
   ]
  },
  {
   "cell_type": "markdown",
   "id": "4a4a67ea",
   "metadata": {},
   "source": [
    "### Overview of Decision Tree Parameters:\n",
    "\n",
    "**ccp_alpha:** This is the complexity parameter used for Minimal Cost-Complexity Pruning (CCP). It specifies the non-negative cost complexity parameter of the Decision Tree. Increasing ccp_alpha increases the pruning strength, potentially resulting in a simpler tree that generalizes better to unseen data.\n",
    "\n",
    "\n",
    "**class_weight:** This parameter allows you to specify weights for each class in the input data. It can be used to address class imbalance by giving more weight to minority classes, thereby affecting the impurity calculation during tree construction and potentially improving model performance on imbalanced datasets.\n",
    "\n",
    "**criterion:** This specifies the function to measure the quality of a split. It can take two values: 'gini' for the Gini impurity and 'entropy' for the information gain. These criteria determine how the decision tree selects the best feature to split on at each node.\n",
    "\n",
    "\n",
    "**max_depth:** This parameter specifies the maximum depth of the decision tree. If set to None (default), nodes are expanded until all leaves are pure or until all leaves contain less than min_samples_split samples.\n",
    "\n",
    "\n",
    "**max_features:** This parameter specifies the number of features to consider when looking for the best split. It can take various values like 'auto', 'sqrt', 'log2', or an integer. If set to None (default), all features will be considered for splitting at each node.\n",
    "\n",
    "\n",
    "**max_leaf_nodes:** This parameter specifies the maximum number of leaf nodes in the decision tree. If set, the tree will be pruned such that it has no more than this number of leaf nodes.\n",
    "\n",
    "\n",
    "**min_impurity_decrease:** This parameter specifies a threshold for early stopping of tree growth. A split will only be considered if it induces a decrease of the impurity greater than or equal to this value.\n",
    "\n",
    "\n",
    "**min_samples_leaf:** This parameter specifies the minimum number of samples required to be at a leaf node. If set to an integer, it ensures that each leaf node has at least that number of samples.\n",
    "\n",
    "\n",
    "**min_samples_split:** This parameter specifies the minimum number of samples required to split an internal node. If set to an integer, it ensures that a node is split only if it contains at least that number of samples.\n",
    "\n",
    "\n",
    "**min_weight_fraction_leaf:** This parameter specifies the minimum weighted fraction of the total number of samples required to be at a leaf node. It works similarly to min_samples_leaf, but the samples are weighted.\n",
    "\n",
    "\n",
    "**random_state:** This parameter sets the seed for random number generation. It ensures reproducibility of the results.\n",
    "\n",
    "\n",
    "**splitter:** This parameter specifies the strategy used to choose the split at each node. It can take two values: 'best' to choose the best split based on the selected criterion, or 'random' to choose the best random split."
   ]
  },
  {
   "cell_type": "markdown",
   "id": "46c565c6",
   "metadata": {},
   "source": [
    "## 1. Default Model - All Features"
   ]
  },
  {
   "cell_type": "code",
   "execution_count": 186,
   "id": "90c812a6",
   "metadata": {},
   "outputs": [],
   "source": [
    "# Define features (X) and target (y)\n",
    "X_train = df_train.drop(columns=['Habitable'])\n",
    "y_train = df_train['Habitable']\n",
    "\n",
    "\n",
    "X_test = df_test.drop(columns=['Habitable'])\n",
    "y_test = df_test['Habitable']\n",
    "\n",
    "X_val = df_val.drop(columns=['Habitable'])\n",
    "y_val = df_val['Habitable']"
   ]
  },
  {
   "cell_type": "code",
   "execution_count": 187,
   "id": "a92049cf",
   "metadata": {},
   "outputs": [
    {
     "data": {
      "text/html": [
       "<style>#sk-container-id-2 {color: black;background-color: white;}#sk-container-id-2 pre{padding: 0;}#sk-container-id-2 div.sk-toggleable {background-color: white;}#sk-container-id-2 label.sk-toggleable__label {cursor: pointer;display: block;width: 100%;margin-bottom: 0;padding: 0.3em;box-sizing: border-box;text-align: center;}#sk-container-id-2 label.sk-toggleable__label-arrow:before {content: \"▸\";float: left;margin-right: 0.25em;color: #696969;}#sk-container-id-2 label.sk-toggleable__label-arrow:hover:before {color: black;}#sk-container-id-2 div.sk-estimator:hover label.sk-toggleable__label-arrow:before {color: black;}#sk-container-id-2 div.sk-toggleable__content {max-height: 0;max-width: 0;overflow: hidden;text-align: left;background-color: #f0f8ff;}#sk-container-id-2 div.sk-toggleable__content pre {margin: 0.2em;color: black;border-radius: 0.25em;background-color: #f0f8ff;}#sk-container-id-2 input.sk-toggleable__control:checked~div.sk-toggleable__content {max-height: 200px;max-width: 100%;overflow: auto;}#sk-container-id-2 input.sk-toggleable__control:checked~label.sk-toggleable__label-arrow:before {content: \"▾\";}#sk-container-id-2 div.sk-estimator input.sk-toggleable__control:checked~label.sk-toggleable__label {background-color: #d4ebff;}#sk-container-id-2 div.sk-label input.sk-toggleable__control:checked~label.sk-toggleable__label {background-color: #d4ebff;}#sk-container-id-2 input.sk-hidden--visually {border: 0;clip: rect(1px 1px 1px 1px);clip: rect(1px, 1px, 1px, 1px);height: 1px;margin: -1px;overflow: hidden;padding: 0;position: absolute;width: 1px;}#sk-container-id-2 div.sk-estimator {font-family: monospace;background-color: #f0f8ff;border: 1px dotted black;border-radius: 0.25em;box-sizing: border-box;margin-bottom: 0.5em;}#sk-container-id-2 div.sk-estimator:hover {background-color: #d4ebff;}#sk-container-id-2 div.sk-parallel-item::after {content: \"\";width: 100%;border-bottom: 1px solid gray;flex-grow: 1;}#sk-container-id-2 div.sk-label:hover label.sk-toggleable__label {background-color: #d4ebff;}#sk-container-id-2 div.sk-serial::before {content: \"\";position: absolute;border-left: 1px solid gray;box-sizing: border-box;top: 0;bottom: 0;left: 50%;z-index: 0;}#sk-container-id-2 div.sk-serial {display: flex;flex-direction: column;align-items: center;background-color: white;padding-right: 0.2em;padding-left: 0.2em;position: relative;}#sk-container-id-2 div.sk-item {position: relative;z-index: 1;}#sk-container-id-2 div.sk-parallel {display: flex;align-items: stretch;justify-content: center;background-color: white;position: relative;}#sk-container-id-2 div.sk-item::before, #sk-container-id-2 div.sk-parallel-item::before {content: \"\";position: absolute;border-left: 1px solid gray;box-sizing: border-box;top: 0;bottom: 0;left: 50%;z-index: -1;}#sk-container-id-2 div.sk-parallel-item {display: flex;flex-direction: column;z-index: 1;position: relative;background-color: white;}#sk-container-id-2 div.sk-parallel-item:first-child::after {align-self: flex-end;width: 50%;}#sk-container-id-2 div.sk-parallel-item:last-child::after {align-self: flex-start;width: 50%;}#sk-container-id-2 div.sk-parallel-item:only-child::after {width: 0;}#sk-container-id-2 div.sk-dashed-wrapped {border: 1px dashed gray;margin: 0 0.4em 0.5em 0.4em;box-sizing: border-box;padding-bottom: 0.4em;background-color: white;}#sk-container-id-2 div.sk-label label {font-family: monospace;font-weight: bold;display: inline-block;line-height: 1.2em;}#sk-container-id-2 div.sk-label-container {text-align: center;}#sk-container-id-2 div.sk-container {/* jupyter's `normalize.less` sets `[hidden] { display: none; }` but bootstrap.min.css set `[hidden] { display: none !important; }` so we also need the `!important` here to be able to override the default hidden behavior on the sphinx rendered scikit-learn.org. See: https://github.com/scikit-learn/scikit-learn/issues/21755 */display: inline-block !important;position: relative;}#sk-container-id-2 div.sk-text-repr-fallback {display: none;}</style><div id=\"sk-container-id-2\" class=\"sk-top-container\"><div class=\"sk-text-repr-fallback\"><pre>DecisionTreeClassifier(random_state=42)</pre><b>In a Jupyter environment, please rerun this cell to show the HTML representation or trust the notebook. <br />On GitHub, the HTML representation is unable to render, please try loading this page with nbviewer.org.</b></div><div class=\"sk-container\" hidden><div class=\"sk-item\"><div class=\"sk-estimator sk-toggleable\"><input class=\"sk-toggleable__control sk-hidden--visually\" id=\"sk-estimator-id-2\" type=\"checkbox\" checked><label for=\"sk-estimator-id-2\" class=\"sk-toggleable__label sk-toggleable__label-arrow\">DecisionTreeClassifier</label><div class=\"sk-toggleable__content\"><pre>DecisionTreeClassifier(random_state=42)</pre></div></div></div></div></div>"
      ],
      "text/plain": [
       "DecisionTreeClassifier(random_state=42)"
      ]
     },
     "execution_count": 187,
     "metadata": {},
     "output_type": "execute_result"
    }
   ],
   "source": [
    "model_default= DecisionTreeClassifier(random_state=42)\n",
    "model_default.fit(X_train, y_train)"
   ]
  },
  {
   "cell_type": "code",
   "execution_count": 188,
   "id": "bec181e4",
   "metadata": {},
   "outputs": [
    {
     "name": "stdout",
     "output_type": "stream",
     "text": [
      "Training set classification report:\n",
      "              precision    recall  f1-score   support\n",
      "\n",
      "           0       1.00      1.00      1.00      3608\n",
      "           1       1.00      1.00      1.00      1082\n",
      "\n",
      "    accuracy                           1.00      4690\n",
      "   macro avg       1.00      1.00      1.00      4690\n",
      "weighted avg       1.00      1.00      1.00      4690\n",
      "\n"
     ]
    }
   ],
   "source": [
    "# Print classification report for training set\n",
    "y_train_pred = model_default.predict(X_train)\n",
    "print(\"Training set classification report:\")\n",
    "print(classification_report(y_train, y_train_pred))"
   ]
  },
  {
   "cell_type": "code",
   "execution_count": 189,
   "id": "183fcf1d",
   "metadata": {},
   "outputs": [
    {
     "name": "stdout",
     "output_type": "stream",
     "text": [
      "Validation set classification report:\n",
      "              precision    recall  f1-score   support\n",
      "\n",
      "           0       0.99      0.99      0.99       767\n",
      "           1       0.38      0.43      0.40        14\n",
      "\n",
      "    accuracy                           0.98       781\n",
      "   macro avg       0.68      0.71      0.69       781\n",
      "weighted avg       0.98      0.98      0.98       781\n",
      "\n"
     ]
    }
   ],
   "source": [
    "# Print classification report for validation set\n",
    "y_val_pred = model_default.predict(X_val)\n",
    "print(\"Validation set classification report:\")\n",
    "print(classification_report(y_val, y_val_pred))"
   ]
  },
  {
   "cell_type": "markdown",
   "id": "3300f858",
   "metadata": {},
   "source": [
    "**Perfrom Cross-Validation:**"
   ]
  },
  {
   "cell_type": "code",
   "execution_count": 377,
   "id": "0403a642",
   "metadata": {},
   "outputs": [
    {
     "name": "stdout",
     "output_type": "stream",
     "text": [
      "For fold 1, we look on the macro avg:\n",
      "Accuracy: 0.9820627802690582\n",
      "Precision: 0.9779439835080932\n",
      "Recall: 0.9714290197062885\n",
      "F1 Score: 0.974636433430116\n",
      "\n",
      "Confusion Matrix:\n",
      "[[1019    9]\n",
      " [  15  295]]\n",
      "\n",
      "For fold 2, we look on the macro avg:\n",
      "Accuracy: 0.9790732436472347\n",
      "Precision: 0.9672304506087612\n",
      "Recall: 0.9736873918354881\n",
      "F1 Score: 0.9704091723351352\n",
      "\n",
      "Confusion Matrix:\n",
      "[[1017   17]\n",
      " [  11  293]]\n",
      "\n",
      "For fold 3, we look on the macro avg:\n",
      "Accuracy: 0.9865470852017937\n",
      "Precision: 0.9820831433348534\n",
      "Recall: 0.9798827386206027\n",
      "F1 Score: 0.980977325072587\n",
      "\n",
      "Confusion Matrix:\n",
      "[[1022    8]\n",
      " [  10  298]]\n",
      "\n",
      "For fold 4, we look on the macro avg:\n",
      "Accuracy: 0.9872944693572496\n",
      "Precision: 0.9792851953541473\n",
      "Recall: 0.9848124300111982\n",
      "F1 Score: 0.9820135550707367\n",
      "\n",
      "Confusion Matrix:\n",
      "[[1023   11]\n",
      " [   6  298]]\n",
      "\n",
      "For fold 5, we look on the macro avg:\n",
      "Accuracy: 0.9798055347793567\n",
      "Precision: 0.9689054423837032\n",
      "Recall: 0.9759352182741743\n",
      "F1 Score: 0.9723576936948526\n",
      "\n",
      "Confusion Matrix:\n",
      "[[1002   17]\n",
      " [  10  308]]\n",
      "\n",
      "Mean Macro Accuracy across all folds: 0.9829566226509385\n",
      "Mean Macro Precision across all folds: 0.9750896430379117\n",
      "Mean Macro Recall across all folds: 0.9771493596895505\n",
      "Mean Macro F1 Score across all folds: 0.9760788359206855\n"
     ]
    }
   ],
   "source": [
    "# K-fold cross-validation\n",
    "X_full = df_full.drop(columns=['Habitable'])\n",
    "y_full = df_full['Habitable']\n",
    "\n",
    "kf = KFold(n_splits=5, shuffle=True, random_state=42)\n",
    "\n",
    "# Initialize Decision Tree Classifier \n",
    "model= DecisionTreeClassifier(random_state=42)\n",
    "\n",
    "# Store evaluation metrics for each fold\n",
    "fold_accuracies= []\n",
    "fold_precisions = []\n",
    "fold_recalls = []\n",
    "fold_f1_scores = []\n",
    "\n",
    "for fold, (train_index, test_index) in enumerate(kf.split(X_full), 1):\n",
    "    X_train = X_full.iloc[train_index]\n",
    "    y_train = y_full[train_index]\n",
    "    X_test = X_full.iloc[test_index]\n",
    "    y_test = y_full[test_index]\n",
    "\n",
    "    # Fit the model on the training data\n",
    "    model.fit(X_train, y_train)\n",
    "\n",
    "    # Make predictions on the test data\n",
    "    y_pred = model.predict(X_test)\n",
    "\n",
    "    # Calculate evaluation metrics\n",
    "    accuracy = accuracy_score(y_test, y_pred)\n",
    "    precision = precision_score(y_test, y_pred, average='macro')\n",
    "    recall = recall_score(y_test, y_pred, average='macro')\n",
    "    f1 = f1_score(y_test, y_pred, average='macro')\n",
    "\n",
    "    # Append metrics to respective lists\n",
    "    fold_accuracies.append(accuracy)\n",
    "    fold_precisions.append(precision)\n",
    "    fold_recalls.append(recall)\n",
    "    fold_f1_scores.append(f1)\n",
    "    \n",
    "    \n",
    "    print(f'For fold {fold}, we look on the macro avg:')\n",
    "    print(f'Accuracy: {accuracy}')\n",
    "    print(f'Precision: {precision}')\n",
    "    print(f'Recall: {recall}')\n",
    "    print(f'F1 Score: {f1}')\n",
    "    print()\n",
    "\n",
    "    # Print confusion matrix\n",
    "    cm = confusion_matrix(y_test, y_pred)\n",
    "    print(f'Confusion Matrix:\\n{cm}\\n')\n",
    "\n",
    "    \n",
    "\n",
    "# Mean evaluation metrics across all folds\n",
    "mean_accuracy = sum(fold_accuracies) / len(fold_accuracies)\n",
    "mean_precision = sum(fold_precisions) / len(fold_precisions)\n",
    "mean_recall = sum(fold_recalls) / len(fold_recalls)\n",
    "mean_f1 = sum(fold_f1_scores) / len(fold_f1_scores)\n",
    "\n",
    "print(f'Mean Macro Accuracy across all folds: {mean_accuracy}')\n",
    "print(f'Mean Macro Precision across all folds: {mean_precision}')\n",
    "print(f'Mean Macro Recall across all folds: {mean_recall}')\n",
    "print(f'Mean Macro F1 Score across all folds: {mean_f1}')"
   ]
  },
  {
   "cell_type": "markdown",
   "id": "f09fe223",
   "metadata": {},
   "source": [
    "**Results:**\n",
    "While the model demonstrates high accuracy on the training set, it struggles with generalization, as evidenced by the lower precision, recall, and F1 scores on the validation set and during cross-validation. This is expected in highly imbalanced datasets, where the model tends to favor the majority class and may struggle to accurately predict the minority class. "
   ]
  },
  {
   "cell_type": "markdown",
   "id": "80c4b38e",
   "metadata": {},
   "source": [
    "## 2. Complexity Reduction"
   ]
  },
  {
   "cell_type": "code",
   "execution_count": 193,
   "id": "b2fd01b6",
   "metadata": {},
   "outputs": [
    {
     "data": {
      "image/png": "[encoded data removed]",
      "text/plain": [
       "<Figure size 1000x600 with 1 Axes>"
      ]
     },
     "metadata": {},
     "output_type": "display_data"
    }
   ],
   "source": [
    "# Get feature importances\n",
    "importances = model_default.feature_importances_\n",
    "features = X_train.columns\n",
    "indices = np.argsort(importances)\n",
    "\n",
    "# Plot the feature importances\n",
    "plt.figure(figsize=(10, 6))\n",
    "plt.barh(range(len(features)), importances[indices], align='center')\n",
    "plt.yticks(range(len(features)), np.array(features)[indices])\n",
    "plt.xlabel('Feature Importance')\n",
    "plt.ylabel('Features')\n",
    "plt.title('Feature Importances')\n",
    "plt.show()\n"
   ]
  },
  {
   "cell_type": "markdown",
   "id": "2cbdc8c3",
   "metadata": {},
   "source": [
    "**Results:**\n",
    "\n",
    "Analyzing the importance of the individual features in the decision tree model, we can see that some features have a greater influence on the classification than others. In particular, the features \"Distance\" and \"Orbital_Earth\" have a strong influence on the model, followed by \"Mass Earth\", \"Radius Earth\" and \"Stellar Magnitude\". \n",
    "The next step is to check how the model behaves when the complexity is reduced. "
   ]
  },
  {
   "cell_type": "markdown",
   "id": "36ec880f",
   "metadata": {},
   "source": [
    "### Selecting the top 5 Features:"
   ]
  },
  {
   "cell_type": "code",
   "execution_count": 370,
   "id": "e0b8b9fa",
   "metadata": {},
   "outputs": [],
   "source": [
    "# Define features (X) and target (y)\n",
    "X_train_5 = df_train[['distance', 'orbital_radius', 'mass_earth', 'radius_earth', 'stellar_magnitude']]\n",
    "y_train_5 = df_train['Habitable']\n",
    "\n",
    "X_test_5 = df_test[['distance', 'orbital_radius', 'mass_earth', 'radius_earth', 'stellar_magnitude']]\n",
    "y_test_5 = df_test['Habitable']\n",
    "\n",
    "X_val_5 = df_val[['distance', 'orbital_radius', 'mass_earth', 'radius_earth', 'stellar_magnitude']]\n",
    "y_val_5 = df_val['Habitable']"
   ]
  },
  {
   "cell_type": "code",
   "execution_count": 371,
   "id": "a2a827a4",
   "metadata": {},
   "outputs": [
    {
     "data": {
      "text/html": [
       "<style>#sk-container-id-6 {color: black;background-color: white;}#sk-container-id-6 pre{padding: 0;}#sk-container-id-6 div.sk-toggleable {background-color: white;}#sk-container-id-6 label.sk-toggleable__label {cursor: pointer;display: block;width: 100%;margin-bottom: 0;padding: 0.3em;box-sizing: border-box;text-align: center;}#sk-container-id-6 label.sk-toggleable__label-arrow:before {content: \"▸\";float: left;margin-right: 0.25em;color: #696969;}#sk-container-id-6 label.sk-toggleable__label-arrow:hover:before {color: black;}#sk-container-id-6 div.sk-estimator:hover label.sk-toggleable__label-arrow:before {color: black;}#sk-container-id-6 div.sk-toggleable__content {max-height: 0;max-width: 0;overflow: hidden;text-align: left;background-color: #f0f8ff;}#sk-container-id-6 div.sk-toggleable__content pre {margin: 0.2em;color: black;border-radius: 0.25em;background-color: #f0f8ff;}#sk-container-id-6 input.sk-toggleable__control:checked~div.sk-toggleable__content {max-height: 200px;max-width: 100%;overflow: auto;}#sk-container-id-6 input.sk-toggleable__control:checked~label.sk-toggleable__label-arrow:before {content: \"▾\";}#sk-container-id-6 div.sk-estimator input.sk-toggleable__control:checked~label.sk-toggleable__label {background-color: #d4ebff;}#sk-container-id-6 div.sk-label input.sk-toggleable__control:checked~label.sk-toggleable__label {background-color: #d4ebff;}#sk-container-id-6 input.sk-hidden--visually {border: 0;clip: rect(1px 1px 1px 1px);clip: rect(1px, 1px, 1px, 1px);height: 1px;margin: -1px;overflow: hidden;padding: 0;position: absolute;width: 1px;}#sk-container-id-6 div.sk-estimator {font-family: monospace;background-color: #f0f8ff;border: 1px dotted black;border-radius: 0.25em;box-sizing: border-box;margin-bottom: 0.5em;}#sk-container-id-6 div.sk-estimator:hover {background-color: #d4ebff;}#sk-container-id-6 div.sk-parallel-item::after {content: \"\";width: 100%;border-bottom: 1px solid gray;flex-grow: 1;}#sk-container-id-6 div.sk-label:hover label.sk-toggleable__label {background-color: #d4ebff;}#sk-container-id-6 div.sk-serial::before {content: \"\";position: absolute;border-left: 1px solid gray;box-sizing: border-box;top: 0;bottom: 0;left: 50%;z-index: 0;}#sk-container-id-6 div.sk-serial {display: flex;flex-direction: column;align-items: center;background-color: white;padding-right: 0.2em;padding-left: 0.2em;position: relative;}#sk-container-id-6 div.sk-item {position: relative;z-index: 1;}#sk-container-id-6 div.sk-parallel {display: flex;align-items: stretch;justify-content: center;background-color: white;position: relative;}#sk-container-id-6 div.sk-item::before, #sk-container-id-6 div.sk-parallel-item::before {content: \"\";position: absolute;border-left: 1px solid gray;box-sizing: border-box;top: 0;bottom: 0;left: 50%;z-index: -1;}#sk-container-id-6 div.sk-parallel-item {display: flex;flex-direction: column;z-index: 1;position: relative;background-color: white;}#sk-container-id-6 div.sk-parallel-item:first-child::after {align-self: flex-end;width: 50%;}#sk-container-id-6 div.sk-parallel-item:last-child::after {align-self: flex-start;width: 50%;}#sk-container-id-6 div.sk-parallel-item:only-child::after {width: 0;}#sk-container-id-6 div.sk-dashed-wrapped {border: 1px dashed gray;margin: 0 0.4em 0.5em 0.4em;box-sizing: border-box;padding-bottom: 0.4em;background-color: white;}#sk-container-id-6 div.sk-label label {font-family: monospace;font-weight: bold;display: inline-block;line-height: 1.2em;}#sk-container-id-6 div.sk-label-container {text-align: center;}#sk-container-id-6 div.sk-container {/* jupyter's `normalize.less` sets `[hidden] { display: none; }` but bootstrap.min.css set `[hidden] { display: none !important; }` so we also need the `!important` here to be able to override the default hidden behavior on the sphinx rendered scikit-learn.org. See: https://github.com/scikit-learn/scikit-learn/issues/21755 */display: inline-block !important;position: relative;}#sk-container-id-6 div.sk-text-repr-fallback {display: none;}</style><div id=\"sk-container-id-6\" class=\"sk-top-container\"><div class=\"sk-text-repr-fallback\"><pre>DecisionTreeClassifier(random_state=42)</pre><b>In a Jupyter environment, please rerun this cell to show the HTML representation or trust the notebook. <br />On GitHub, the HTML representation is unable to render, please try loading this page with nbviewer.org.</b></div><div class=\"sk-container\" hidden><div class=\"sk-item\"><div class=\"sk-estimator sk-toggleable\"><input class=\"sk-toggleable__control sk-hidden--visually\" id=\"sk-estimator-id-6\" type=\"checkbox\" checked><label for=\"sk-estimator-id-6\" class=\"sk-toggleable__label sk-toggleable__label-arrow\">DecisionTreeClassifier</label><div class=\"sk-toggleable__content\"><pre>DecisionTreeClassifier(random_state=42)</pre></div></div></div></div></div>"
      ],
      "text/plain": [
       "DecisionTreeClassifier(random_state=42)"
      ]
     },
     "execution_count": 371,
     "metadata": {},
     "output_type": "execute_result"
    }
   ],
   "source": [
    "model_five_features= DecisionTreeClassifier(random_state=42)\n",
    "model_five_features.fit(X_train_5, y_train_5)"
   ]
  },
  {
   "cell_type": "code",
   "execution_count": 372,
   "id": "07b48ac0",
   "metadata": {
    "scrolled": true
   },
   "outputs": [
    {
     "name": "stdout",
     "output_type": "stream",
     "text": [
      "Training set classification report:\n",
      "              precision    recall  f1-score   support\n",
      "\n",
      "           0       1.00      1.00      1.00      3608\n",
      "           1       1.00      1.00      1.00      1082\n",
      "\n",
      "    accuracy                           1.00      4690\n",
      "   macro avg       1.00      1.00      1.00      4690\n",
      "weighted avg       1.00      1.00      1.00      4690\n",
      "\n"
     ]
    }
   ],
   "source": [
    "# Print classification report for training set\n",
    "y_train_pred_5 = model_five_features.predict(X_train_5)\n",
    "print(\"Training set classification report:\")\n",
    "print(classification_report(y_train_5, y_train_pred_5))"
   ]
  },
  {
   "cell_type": "code",
   "execution_count": 197,
   "id": "2c932900",
   "metadata": {},
   "outputs": [
    {
     "name": "stdout",
     "output_type": "stream",
     "text": [
      "Validation set classification report:\n",
      "              precision    recall  f1-score   support\n",
      "\n",
      "           0       0.99      0.99      0.99       767\n",
      "           1       0.41      0.50      0.45        14\n",
      "\n",
      "    accuracy                           0.98       781\n",
      "   macro avg       0.70      0.74      0.72       781\n",
      "weighted avg       0.98      0.98      0.98       781\n",
      "\n"
     ]
    }
   ],
   "source": [
    "# Print classification report for validation set\n",
    "y_val_pred_5 = model_five_features.predict(X_val_5)\n",
    "print(\"Validation set classification report:\")\n",
    "print(classification_report(y_val_5, y_val_pred_5))"
   ]
  },
  {
   "cell_type": "markdown",
   "id": "9c253842",
   "metadata": {},
   "source": [
    "**Perform Cross-Validation:**"
   ]
  },
  {
   "cell_type": "code",
   "execution_count": 378,
   "id": "624fdd17",
   "metadata": {
    "scrolled": true
   },
   "outputs": [
    {
     "name": "stdout",
     "output_type": "stream",
     "text": [
      "Mean Macro Accuracy across all folds: 0.9832560235138124\n",
      "Mean Macro Precision across all folds: 0.9744511141707222\n",
      "Mean Macro Recall across all folds: 0.9786795899451987\n",
      "Mean Macro F1 Score across all folds: 0.9765242241110277\n"
     ]
    }
   ],
   "source": [
    "X_full = df_full[['distance', 'orbital_radius', 'mass_earth', 'radius_earth', 'stellar_magnitude']]\n",
    "y_full = df_full['Habitable']\n",
    "\n",
    "kf = KFold(n_splits=5, shuffle=True, random_state=42)\n",
    "\n",
    "# Initialize Decision Tree Classifier \n",
    "model= DecisionTreeClassifier(random_state=42)\n",
    "\n",
    "\n",
    "# Store evaluation metrics for each fold\n",
    "fold_accuracies= []\n",
    "fold_precisions = []\n",
    "fold_recalls = []\n",
    "fold_f1_scores = []\n",
    "\n",
    "for fold, (train_index, test_index) in enumerate(kf.split(X_full), 1):\n",
    "    X_train = X_full.iloc[train_index]\n",
    "    y_train = y_full[train_index]\n",
    "    X_test = X_full.iloc[test_index]\n",
    "    y_test = y_full[test_index]\n",
    "\n",
    "    # Fit the model on the training data\n",
    "    model.fit(X_train, y_train)\n",
    "\n",
    "    # Make predictions on the test data\n",
    "    y_pred = model.predict(X_test)\n",
    "\n",
    "    # Calculate evaluation metrics\n",
    "    accuracy = accuracy_score(y_test, y_pred)\n",
    "    precision = precision_score(y_test, y_pred, average='macro')\n",
    "    recall = recall_score(y_test, y_pred, average='macro')\n",
    "    f1 = f1_score(y_test, y_pred, average='macro')\n",
    "\n",
    "    # Append metrics to respective lists\n",
    "    fold_accuracies.append(accuracy)\n",
    "    fold_precisions.append(precision)\n",
    "    fold_recalls.append(recall)\n",
    "    fold_f1_scores.append(f1)\n",
    "\n",
    "# Mean evaluation metrics across all folds\n",
    "mean_accuracy = sum(fold_accuracies) / len(fold_accuracies)\n",
    "mean_precision = sum(fold_precisions) / len(fold_precisions)\n",
    "mean_recall = sum(fold_recalls) / len(fold_recalls)\n",
    "mean_f1 = sum(fold_f1_scores) / len(fold_f1_scores)\n",
    "\n",
    "print(f'Mean Macro Accuracy across all folds: {mean_accuracy}')\n",
    "print(f'Mean Macro Precision across all folds: {mean_precision}')\n",
    "print(f'Mean Macro Recall across all folds: {mean_recall}')\n",
    "print(f'Mean Macro F1 Score across all folds: {mean_f1}')"
   ]
  },
  {
   "cell_type": "markdown",
   "id": "cc6633ec",
   "metadata": {},
   "source": [
    "### Selecting the top 4 Features:"
   ]
  },
  {
   "cell_type": "code",
   "execution_count": 200,
   "id": "e3e1ea2b",
   "metadata": {},
   "outputs": [],
   "source": [
    "# Define features (X) and target (y)\n",
    "X_train_4 = df_train[['distance', 'orbital_radius', 'mass_earth', 'radius_earth']]\n",
    "y_train_4 = df_train['Habitable']\n",
    "\n",
    "X_test_4 = df_test[['distance', 'orbital_radius', 'mass_earth', 'radius_earth']]\n",
    "y_test_4 = df_test['Habitable']\n",
    "\n",
    "X_val_4 = df_val[['distance', 'orbital_radius', 'mass_earth', 'radius_earth']]\n",
    "y_val_4 = df_val['Habitable']"
   ]
  },
  {
   "cell_type": "code",
   "execution_count": 201,
   "id": "1d8066dc",
   "metadata": {},
   "outputs": [
    {
     "data": {
      "text/html": [
       "<style>#sk-container-id-4 {color: black;background-color: white;}#sk-container-id-4 pre{padding: 0;}#sk-container-id-4 div.sk-toggleable {background-color: white;}#sk-container-id-4 label.sk-toggleable__label {cursor: pointer;display: block;width: 100%;margin-bottom: 0;padding: 0.3em;box-sizing: border-box;text-align: center;}#sk-container-id-4 label.sk-toggleable__label-arrow:before {content: \"▸\";float: left;margin-right: 0.25em;color: #696969;}#sk-container-id-4 label.sk-toggleable__label-arrow:hover:before {color: black;}#sk-container-id-4 div.sk-estimator:hover label.sk-toggleable__label-arrow:before {color: black;}#sk-container-id-4 div.sk-toggleable__content {max-height: 0;max-width: 0;overflow: hidden;text-align: left;background-color: #f0f8ff;}#sk-container-id-4 div.sk-toggleable__content pre {margin: 0.2em;color: black;border-radius: 0.25em;background-color: #f0f8ff;}#sk-container-id-4 input.sk-toggleable__control:checked~div.sk-toggleable__content {max-height: 200px;max-width: 100%;overflow: auto;}#sk-container-id-4 input.sk-toggleable__control:checked~label.sk-toggleable__label-arrow:before {content: \"▾\";}#sk-container-id-4 div.sk-estimator input.sk-toggleable__control:checked~label.sk-toggleable__label {background-color: #d4ebff;}#sk-container-id-4 div.sk-label input.sk-toggleable__control:checked~label.sk-toggleable__label {background-color: #d4ebff;}#sk-container-id-4 input.sk-hidden--visually {border: 0;clip: rect(1px 1px 1px 1px);clip: rect(1px, 1px, 1px, 1px);height: 1px;margin: -1px;overflow: hidden;padding: 0;position: absolute;width: 1px;}#sk-container-id-4 div.sk-estimator {font-family: monospace;background-color: #f0f8ff;border: 1px dotted black;border-radius: 0.25em;box-sizing: border-box;margin-bottom: 0.5em;}#sk-container-id-4 div.sk-estimator:hover {background-color: #d4ebff;}#sk-container-id-4 div.sk-parallel-item::after {content: \"\";width: 100%;border-bottom: 1px solid gray;flex-grow: 1;}#sk-container-id-4 div.sk-label:hover label.sk-toggleable__label {background-color: #d4ebff;}#sk-container-id-4 div.sk-serial::before {content: \"\";position: absolute;border-left: 1px solid gray;box-sizing: border-box;top: 0;bottom: 0;left: 50%;z-index: 0;}#sk-container-id-4 div.sk-serial {display: flex;flex-direction: column;align-items: center;background-color: white;padding-right: 0.2em;padding-left: 0.2em;position: relative;}#sk-container-id-4 div.sk-item {position: relative;z-index: 1;}#sk-container-id-4 div.sk-parallel {display: flex;align-items: stretch;justify-content: center;background-color: white;position: relative;}#sk-container-id-4 div.sk-item::before, #sk-container-id-4 div.sk-parallel-item::before {content: \"\";position: absolute;border-left: 1px solid gray;box-sizing: border-box;top: 0;bottom: 0;left: 50%;z-index: -1;}#sk-container-id-4 div.sk-parallel-item {display: flex;flex-direction: column;z-index: 1;position: relative;background-color: white;}#sk-container-id-4 div.sk-parallel-item:first-child::after {align-self: flex-end;width: 50%;}#sk-container-id-4 div.sk-parallel-item:last-child::after {align-self: flex-start;width: 50%;}#sk-container-id-4 div.sk-parallel-item:only-child::after {width: 0;}#sk-container-id-4 div.sk-dashed-wrapped {border: 1px dashed gray;margin: 0 0.4em 0.5em 0.4em;box-sizing: border-box;padding-bottom: 0.4em;background-color: white;}#sk-container-id-4 div.sk-label label {font-family: monospace;font-weight: bold;display: inline-block;line-height: 1.2em;}#sk-container-id-4 div.sk-label-container {text-align: center;}#sk-container-id-4 div.sk-container {/* jupyter's `normalize.less` sets `[hidden] { display: none; }` but bootstrap.min.css set `[hidden] { display: none !important; }` so we also need the `!important` here to be able to override the default hidden behavior on the sphinx rendered scikit-learn.org. See: https://github.com/scikit-learn/scikit-learn/issues/21755 */display: inline-block !important;position: relative;}#sk-container-id-4 div.sk-text-repr-fallback {display: none;}</style><div id=\"sk-container-id-4\" class=\"sk-top-container\"><div class=\"sk-text-repr-fallback\"><pre>DecisionTreeClassifier(random_state=42)</pre><b>In a Jupyter environment, please rerun this cell to show the HTML representation or trust the notebook. <br />On GitHub, the HTML representation is unable to render, please try loading this page with nbviewer.org.</b></div><div class=\"sk-container\" hidden><div class=\"sk-item\"><div class=\"sk-estimator sk-toggleable\"><input class=\"sk-toggleable__control sk-hidden--visually\" id=\"sk-estimator-id-4\" type=\"checkbox\" checked><label for=\"sk-estimator-id-4\" class=\"sk-toggleable__label sk-toggleable__label-arrow\">DecisionTreeClassifier</label><div class=\"sk-toggleable__content\"><pre>DecisionTreeClassifier(random_state=42)</pre></div></div></div></div></div>"
      ],
      "text/plain": [
       "DecisionTreeClassifier(random_state=42)"
      ]
     },
     "execution_count": 201,
     "metadata": {},
     "output_type": "execute_result"
    }
   ],
   "source": [
    "model_four_features= DecisionTreeClassifier(random_state=42)\n",
    "model_four_features.fit(X_train_4, y_train_4)"
   ]
  },
  {
   "cell_type": "code",
   "execution_count": 202,
   "id": "902649ab",
   "metadata": {},
   "outputs": [
    {
     "name": "stdout",
     "output_type": "stream",
     "text": [
      "Training set classification report:\n",
      "              precision    recall  f1-score   support\n",
      "\n",
      "           0       1.00      1.00      1.00      3608\n",
      "           1       1.00      1.00      1.00      1082\n",
      "\n",
      "    accuracy                           1.00      4690\n",
      "   macro avg       1.00      1.00      1.00      4690\n",
      "weighted avg       1.00      1.00      1.00      4690\n",
      "\n"
     ]
    }
   ],
   "source": [
    "# Print classification report for training set\n",
    "y_train_pred_4 = model_four_features.predict(X_train_4)\n",
    "print(\"Training set classification report:\")\n",
    "print(classification_report(y_train_4, y_train_pred_4))"
   ]
  },
  {
   "cell_type": "code",
   "execution_count": 203,
   "id": "5308f0b4",
   "metadata": {},
   "outputs": [
    {
     "name": "stdout",
     "output_type": "stream",
     "text": [
      "Validation set classification report:\n",
      "              precision    recall  f1-score   support\n",
      "\n",
      "           0       0.99      0.99      0.99       767\n",
      "           1       0.44      0.50      0.47        14\n",
      "\n",
      "    accuracy                           0.98       781\n",
      "   macro avg       0.71      0.74      0.73       781\n",
      "weighted avg       0.98      0.98      0.98       781\n",
      "\n"
     ]
    }
   ],
   "source": [
    "# Print classification report for validation set\n",
    "y_val_pred_4 = model_four_features.predict(X_val_4)\n",
    "print(\"Validation set classification report:\")\n",
    "print(classification_report(y_val_4, y_val_pred_4))"
   ]
  },
  {
   "cell_type": "markdown",
   "id": "76341e9b",
   "metadata": {},
   "source": [
    "**Perform Cross-Validation:**"
   ]
  },
  {
   "cell_type": "code",
   "execution_count": 379,
   "id": "472dae42",
   "metadata": {},
   "outputs": [
    {
     "name": "stdout",
     "output_type": "stream",
     "text": [
      "Mean Macro Accuracy across all folds: 0.972042913378344\n",
      "Mean Macro Precision across all folds: 0.9591296474169428\n",
      "Mean Macro Recall across all folds: 0.9625784855324573\n",
      "Mean Macro F1 Score across all folds: 0.9608257995356029\n"
     ]
    }
   ],
   "source": [
    "X_full = df_full[['distance', 'orbital_radius', 'mass_earth', 'radius_earth']]\n",
    "y_full = df_full['Habitable']\n",
    "\n",
    "kf = KFold(n_splits=5)\n",
    "\n",
    "# Initialize Decision Tree Classifier \n",
    "kf = KFold(n_splits=5, shuffle=True, random_state=42)\n",
    "\n",
    "# Store evaluation metrics for each fold\n",
    "fold_accuracies= []\n",
    "fold_precisions = []\n",
    "fold_recalls = []\n",
    "fold_f1_scores = []\n",
    "\n",
    "for fold, (train_index, test_index) in enumerate(kf.split(X_full), 1):\n",
    "    X_train = X_full.iloc[train_index]\n",
    "    y_train = y_full[train_index]\n",
    "    X_test = X_full.iloc[test_index]\n",
    "    y_test = y_full[test_index]\n",
    "\n",
    "    # Fit the model on the training data\n",
    "    model.fit(X_train, y_train)\n",
    "\n",
    "    # Make predictions on the test data\n",
    "    y_pred = model.predict(X_test)\n",
    "\n",
    "    # Calculate evaluation metrics\n",
    "    accuracy = accuracy_score(y_test, y_pred)\n",
    "    precision = precision_score(y_test, y_pred, average='macro')\n",
    "    recall = recall_score(y_test, y_pred, average='macro')\n",
    "    f1 = f1_score(y_test, y_pred, average='macro')\n",
    "\n",
    "    # Append metrics to respective lists\n",
    "    fold_accuracies.append(accuracy)\n",
    "    fold_precisions.append(precision)\n",
    "    fold_recalls.append(recall)\n",
    "    fold_f1_scores.append(f1)\n",
    "\n",
    "# Mean evaluation metrics across all folds\n",
    "mean_accuracy = sum(fold_accuracies) / len(fold_accuracies)\n",
    "mean_precision = sum(fold_precisions) / len(fold_precisions)\n",
    "mean_recall = sum(fold_recalls) / len(fold_recalls)\n",
    "mean_f1 = sum(fold_f1_scores) / len(fold_f1_scores)\n",
    "\n",
    "print(f'Mean Macro Accuracy across all folds: {mean_accuracy}')\n",
    "print(f'Mean Macro Precision across all folds: {mean_precision}')\n",
    "print(f'Mean Macro Recall across all folds: {mean_recall}')\n",
    "print(f'Mean Macro F1 Score across all folds: {mean_f1}')"
   ]
  },
  {
   "cell_type": "markdown",
   "id": "b6e3e20d",
   "metadata": {},
   "source": [
    "### Selecting the top 3 Features:"
   ]
  },
  {
   "cell_type": "code",
   "execution_count": 206,
   "id": "20f58966",
   "metadata": {},
   "outputs": [],
   "source": [
    "# Define features (X) and target (y)\n",
    "X_train_3 = df_train[['distance', 'orbital_radius', 'mass_earth']]\n",
    "y_train_3 = df_train['Habitable']\n",
    "\n",
    "X_test_3 = df_test[['distance', 'orbital_radius', 'mass_earth']]\n",
    "y_test_3 = df_test['Habitable']\n",
    "\n",
    "X_val_3 = df_val[['distance', 'orbital_radius', 'mass_earth']]\n",
    "y_val_3 = df_val['Habitable']"
   ]
  },
  {
   "cell_type": "code",
   "execution_count": 207,
   "id": "5096685f",
   "metadata": {},
   "outputs": [
    {
     "data": {
      "text/html": [
       "<style>#sk-container-id-5 {color: black;background-color: white;}#sk-container-id-5 pre{padding: 0;}#sk-container-id-5 div.sk-toggleable {background-color: white;}#sk-container-id-5 label.sk-toggleable__label {cursor: pointer;display: block;width: 100%;margin-bottom: 0;padding: 0.3em;box-sizing: border-box;text-align: center;}#sk-container-id-5 label.sk-toggleable__label-arrow:before {content: \"▸\";float: left;margin-right: 0.25em;color: #696969;}#sk-container-id-5 label.sk-toggleable__label-arrow:hover:before {color: black;}#sk-container-id-5 div.sk-estimator:hover label.sk-toggleable__label-arrow:before {color: black;}#sk-container-id-5 div.sk-toggleable__content {max-height: 0;max-width: 0;overflow: hidden;text-align: left;background-color: #f0f8ff;}#sk-container-id-5 div.sk-toggleable__content pre {margin: 0.2em;color: black;border-radius: 0.25em;background-color: #f0f8ff;}#sk-container-id-5 input.sk-toggleable__control:checked~div.sk-toggleable__content {max-height: 200px;max-width: 100%;overflow: auto;}#sk-container-id-5 input.sk-toggleable__control:checked~label.sk-toggleable__label-arrow:before {content: \"▾\";}#sk-container-id-5 div.sk-estimator input.sk-toggleable__control:checked~label.sk-toggleable__label {background-color: #d4ebff;}#sk-container-id-5 div.sk-label input.sk-toggleable__control:checked~label.sk-toggleable__label {background-color: #d4ebff;}#sk-container-id-5 input.sk-hidden--visually {border: 0;clip: rect(1px 1px 1px 1px);clip: rect(1px, 1px, 1px, 1px);height: 1px;margin: -1px;overflow: hidden;padding: 0;position: absolute;width: 1px;}#sk-container-id-5 div.sk-estimator {font-family: monospace;background-color: #f0f8ff;border: 1px dotted black;border-radius: 0.25em;box-sizing: border-box;margin-bottom: 0.5em;}#sk-container-id-5 div.sk-estimator:hover {background-color: #d4ebff;}#sk-container-id-5 div.sk-parallel-item::after {content: \"\";width: 100%;border-bottom: 1px solid gray;flex-grow: 1;}#sk-container-id-5 div.sk-label:hover label.sk-toggleable__label {background-color: #d4ebff;}#sk-container-id-5 div.sk-serial::before {content: \"\";position: absolute;border-left: 1px solid gray;box-sizing: border-box;top: 0;bottom: 0;left: 50%;z-index: 0;}#sk-container-id-5 div.sk-serial {display: flex;flex-direction: column;align-items: center;background-color: white;padding-right: 0.2em;padding-left: 0.2em;position: relative;}#sk-container-id-5 div.sk-item {position: relative;z-index: 1;}#sk-container-id-5 div.sk-parallel {display: flex;align-items: stretch;justify-content: center;background-color: white;position: relative;}#sk-container-id-5 div.sk-item::before, #sk-container-id-5 div.sk-parallel-item::before {content: \"\";position: absolute;border-left: 1px solid gray;box-sizing: border-box;top: 0;bottom: 0;left: 50%;z-index: -1;}#sk-container-id-5 div.sk-parallel-item {display: flex;flex-direction: column;z-index: 1;position: relative;background-color: white;}#sk-container-id-5 div.sk-parallel-item:first-child::after {align-self: flex-end;width: 50%;}#sk-container-id-5 div.sk-parallel-item:last-child::after {align-self: flex-start;width: 50%;}#sk-container-id-5 div.sk-parallel-item:only-child::after {width: 0;}#sk-container-id-5 div.sk-dashed-wrapped {border: 1px dashed gray;margin: 0 0.4em 0.5em 0.4em;box-sizing: border-box;padding-bottom: 0.4em;background-color: white;}#sk-container-id-5 div.sk-label label {font-family: monospace;font-weight: bold;display: inline-block;line-height: 1.2em;}#sk-container-id-5 div.sk-label-container {text-align: center;}#sk-container-id-5 div.sk-container {/* jupyter's `normalize.less` sets `[hidden] { display: none; }` but bootstrap.min.css set `[hidden] { display: none !important; }` so we also need the `!important` here to be able to override the default hidden behavior on the sphinx rendered scikit-learn.org. See: https://github.com/scikit-learn/scikit-learn/issues/21755 */display: inline-block !important;position: relative;}#sk-container-id-5 div.sk-text-repr-fallback {display: none;}</style><div id=\"sk-container-id-5\" class=\"sk-top-container\"><div class=\"sk-text-repr-fallback\"><pre>DecisionTreeClassifier(random_state=42)</pre><b>In a Jupyter environment, please rerun this cell to show the HTML representation or trust the notebook. <br />On GitHub, the HTML representation is unable to render, please try loading this page with nbviewer.org.</b></div><div class=\"sk-container\" hidden><div class=\"sk-item\"><div class=\"sk-estimator sk-toggleable\"><input class=\"sk-toggleable__control sk-hidden--visually\" id=\"sk-estimator-id-5\" type=\"checkbox\" checked><label for=\"sk-estimator-id-5\" class=\"sk-toggleable__label sk-toggleable__label-arrow\">DecisionTreeClassifier</label><div class=\"sk-toggleable__content\"><pre>DecisionTreeClassifier(random_state=42)</pre></div></div></div></div></div>"
      ],
      "text/plain": [
       "DecisionTreeClassifier(random_state=42)"
      ]
     },
     "execution_count": 207,
     "metadata": {},
     "output_type": "execute_result"
    }
   ],
   "source": [
    "model_three_features= DecisionTreeClassifier(random_state=42)\n",
    "model_three_features.fit(X_train_3, y_train_3)"
   ]
  },
  {
   "cell_type": "code",
   "execution_count": 208,
   "id": "5746d0b3",
   "metadata": {},
   "outputs": [
    {
     "name": "stdout",
     "output_type": "stream",
     "text": [
      "Training set classification report:\n",
      "              precision    recall  f1-score   support\n",
      "\n",
      "           0       1.00      1.00      1.00      3608\n",
      "           1       1.00      1.00      1.00      1082\n",
      "\n",
      "    accuracy                           1.00      4690\n",
      "   macro avg       1.00      1.00      1.00      4690\n",
      "weighted avg       1.00      1.00      1.00      4690\n",
      "\n"
     ]
    }
   ],
   "source": [
    "# Print classification report for training set\n",
    "y_train_pred_3 = model_three_features.predict(X_train_3)\n",
    "print(\"Training set classification report:\")\n",
    "print(classification_report(y_train_3, y_train_pred_3))"
   ]
  },
  {
   "cell_type": "code",
   "execution_count": 209,
   "id": "c347450a",
   "metadata": {},
   "outputs": [
    {
     "name": "stdout",
     "output_type": "stream",
     "text": [
      "Validation set classification report:\n",
      "              precision    recall  f1-score   support\n",
      "\n",
      "           0       0.99      0.98      0.98       767\n",
      "           1       0.28      0.50      0.36        14\n",
      "\n",
      "    accuracy                           0.97       781\n",
      "   macro avg       0.64      0.74      0.67       781\n",
      "weighted avg       0.98      0.97      0.97       781\n",
      "\n"
     ]
    }
   ],
   "source": [
    "# Print classification report for validation set\n",
    "y_val_pred_3 = model_three_features.predict(X_val_3)\n",
    "print(\"Validation set classification report:\")\n",
    "print(classification_report(y_val_3, y_val_pred_3))"
   ]
  },
  {
   "cell_type": "markdown",
   "id": "46963eee",
   "metadata": {},
   "source": [
    "**Perform Cross-Validation:**"
   ]
  },
  {
   "cell_type": "code",
   "execution_count": 380,
   "id": "1acb0fcd",
   "metadata": {},
   "outputs": [
    {
     "name": "stdout",
     "output_type": "stream",
     "text": [
      "Mean Macro Accuracy across all folds: 0.9680067035383637\n",
      "Mean Macro Precision across all folds: 0.9525053728534829\n",
      "Mean Macro Recall across all folds: 0.9581738911549957\n",
      "Mean Macro F1 Score across all folds: 0.9552783920693562\n"
     ]
    }
   ],
   "source": [
    "X_full = df_full[['distance', 'orbital_radius', 'mass_earth']]\n",
    "y_full = df_full['Habitable']\n",
    "\n",
    "kf = KFold(n_splits=5, shuffle=True, random_state=42)\n",
    "\n",
    "# Initialize Decision Tree Classifier \n",
    "model= DecisionTreeClassifier(random_state=42)\n",
    "\n",
    "# Store evaluation metrics for each fold\n",
    "fold_accuracies= []\n",
    "fold_precisions = []\n",
    "fold_recalls = []\n",
    "fold_f1_scores = []\n",
    "\n",
    "for fold, (train_index, test_index) in enumerate(kf.split(X_full), 1):\n",
    "    X_train = X_full.iloc[train_index]\n",
    "    y_train = y_full[train_index]\n",
    "    X_test = X_full.iloc[test_index]\n",
    "    y_test = y_full[test_index]\n",
    "\n",
    "    # Fit the model on the training data\n",
    "    model.fit(X_train, y_train)\n",
    "\n",
    "    # Make predictions on the test data\n",
    "    y_pred = model.predict(X_test)\n",
    "\n",
    "    # Calculate evaluation metrics\n",
    "    accuracy = accuracy_score(y_test, y_pred)\n",
    "    precision = precision_score(y_test, y_pred, average='macro')\n",
    "    recall = recall_score(y_test, y_pred, average='macro')\n",
    "    f1 = f1_score(y_test, y_pred, average='macro')\n",
    "\n",
    "    # Append metrics to respective lists\n",
    "    fold_accuracies.append(accuracy)\n",
    "    fold_precisions.append(precision)\n",
    "    fold_recalls.append(recall)\n",
    "    fold_f1_scores.append(f1)\n",
    "\n",
    "# Mean evaluation metrics across all folds\n",
    "mean_accuracy = sum(fold_accuracies) / len(fold_accuracies)\n",
    "mean_precision = sum(fold_precisions) / len(fold_precisions)\n",
    "mean_recall = sum(fold_recalls) / len(fold_recalls)\n",
    "mean_f1 = sum(fold_f1_scores) / len(fold_f1_scores)\n",
    "\n",
    "print(f'Mean Macro Accuracy across all folds: {mean_accuracy}')\n",
    "print(f'Mean Macro Precision across all folds: {mean_precision}')\n",
    "print(f'Mean Macro Recall across all folds: {mean_recall}')\n",
    "print(f'Mean Macro F1 Score across all folds: {mean_f1}')"
   ]
  },
  {
   "cell_type": "markdown",
   "id": "9ddf8e7c",
   "metadata": {},
   "source": [
    "### Model Selection: \n",
    "\n",
    "In evaluating the decision tree models with varying complexities resulting from different feature selections, several key observations emerge. Notably, when reducing the dimensionality of the feature space, we observe a notable improvement in precision, recall, and F1-score across the models with 5 and 4 features. This suggests that simplifying the model's input features leads to a more focused and effective decision-making process. On the other hand, when reducing the model's complexity too much (e.g. as seen with the 3 features), the performance decreases compared to the default model. \n",
    "\n",
    "Of particular significance is the performance of the model utilizing  five features. Despite the reduction in feature space, this model consistently achieves a high precision, recall, and F1-scores throughout all sets while maintaining a commendable level of accuracy. This outcome underscores the importance of feature selection in optimizing the model's predictive capabilities.\n",
    "\n"
   ]
  },
  {
   "cell_type": "markdown",
   "id": "d7eef0ea",
   "metadata": {},
   "source": [
    "## 3. Model Pruning"
   ]
  },
  {
   "cell_type": "markdown",
   "id": "11bb1e2c",
   "metadata": {},
   "source": [
    "## 3.1 Class Weights\n",
    "This parameter allows you to specify weights for each class in the input data. It can be used to address class imbalance by giving more weight to minority classes, thereby affecting the impurity calculation during tree construction and potentially improving model performance on imbalanced datasets."
   ]
  },
  {
   "cell_type": "code",
   "execution_count": 211,
   "id": "55925b1c",
   "metadata": {},
   "outputs": [
    {
     "name": "stdout",
     "output_type": "stream",
     "text": [
      "Best Parameters: {'class_weight': {0: 1, 1: 5}}\n"
     ]
    }
   ],
   "source": [
    "param_grid = {\n",
    "    'class_weight': [None, 'balanced', {0: 1, 1: 2}, {0: 1, 1: 5}, {0: 1, 1: 10}]  \n",
    "}\n",
    "\n",
    "# Initialize GridSearchCV\n",
    "grid_search = GridSearchCV(estimator=model_five_features, param_grid=param_grid, cv=5, scoring='f1')\n",
    "\n",
    "# Perform GridSearchCV\n",
    "grid_search.fit(X_train_5, y_train_5)\n",
    "\n",
    "# Get best parameters\n",
    "best_params = grid_search.best_params_\n",
    "\n",
    "# Print best parameters\n",
    "print(\"Best Parameters:\", best_params)\n",
    "\n"
   ]
  },
  {
   "cell_type": "markdown",
   "id": "3fc8f84c",
   "metadata": {},
   "source": [
    "### 3.1.1 Class Weight Ratio: 1:2"
   ]
  },
  {
   "cell_type": "code",
   "execution_count": 213,
   "id": "a77eb6c0",
   "metadata": {},
   "outputs": [
    {
     "name": "stdout",
     "output_type": "stream",
     "text": [
      "Training set classification report with 1:2 weight ratio:\n",
      "              precision    recall  f1-score   support\n",
      "\n",
      "           0       1.00      1.00      1.00      3608\n",
      "           1       1.00      1.00      1.00      1082\n",
      "\n",
      "    accuracy                           1.00      4690\n",
      "   macro avg       1.00      1.00      1.00      4690\n",
      "weighted avg       1.00      1.00      1.00      4690\n",
      "\n",
      "Validation set classification report with 1:2 weight ratio:\n",
      "              precision    recall  f1-score   support\n",
      "\n",
      "           0       0.99      0.99      0.99       767\n",
      "           1       0.44      0.50      0.47        14\n",
      "\n",
      "    accuracy                           0.98       781\n",
      "   macro avg       0.71      0.74      0.73       781\n",
      "weighted avg       0.98      0.98      0.98       781\n",
      "\n"
     ]
    }
   ],
   "source": [
    "# Define the weight ratio (1:2 for minority:majority class)\n",
    "weight_ratio = {0: 1, 1: 2}\n",
    "\n",
    "# Initialize Decision Tree Classifier with the specified weight ratio\n",
    "model_1_to_2 = DecisionTreeClassifier(random_state=42, class_weight=weight_ratio)\n",
    "\n",
    "# Fit the model on the full training data\n",
    "model_1_to_2.fit(X_train_5, y_train_5)\n",
    "\n",
    "# Make predictions on the validation set\n",
    "y_val_pred_1_to_2 = model_1_to_2.predict(X_val_5)\n",
    "\n",
    "# Print classification report for train set using the model with 1:2 weight ratio\n",
    "print(\"Training set classification report with 1:2 weight ratio:\")\n",
    "print(classification_report(y_train_5, y_train_pred_5))\n",
    "\n",
    "# Print classification report for validation set using the model with 1:2 weight ratio\n",
    "print(\"Validation set classification report with 1:2 weight ratio:\")\n",
    "print(classification_report(y_val_5, y_val_pred_1_to_2))"
   ]
  },
  {
   "cell_type": "code",
   "execution_count": 381,
   "id": "1f520eec",
   "metadata": {},
   "outputs": [
    {
     "name": "stdout",
     "output_type": "stream",
     "text": [
      "Mean Macro Accuracy across all folds: 0.9850495218865609\n",
      "Mean Macro Precision across all folds: 0.97721454165693\n",
      "Mean Macro Recall across all folds: 0.9809908558890428\n",
      "Mean Macro F1 Score across all folds: 0.9790633180550377\n"
     ]
    }
   ],
   "source": [
    "X_full = df_full[['distance', 'orbital_radius', 'mass_earth', 'radius_earth', 'stellar_magnitude']]\n",
    "y_full = df_full['Habitable']\n",
    "\n",
    "kf = KFold(n_splits=5, shuffle=True, random_state=42)\n",
    "# Define the weight ratio (1:2 for minority:majority class)\n",
    "weight_ratio = {0: 1, 1: 2}\n",
    "\n",
    "# Initialize Decision Tree Classifier with the specified weight ratio\n",
    "model = DecisionTreeClassifier(random_state=42, class_weight=weight_ratio)\n",
    "\n",
    "# Store evaluation metrics for each fold\n",
    "fold_accuracies= []\n",
    "fold_precisions = []\n",
    "fold_recalls = []\n",
    "fold_f1_scores = []\n",
    "\n",
    "for fold, (train_index, test_index) in enumerate(kf.split(X_full), 1):\n",
    "    X_train = X_full.iloc[train_index]\n",
    "    y_train = y_full[train_index]\n",
    "    X_test = X_full.iloc[test_index]\n",
    "    y_test = y_full[test_index]\n",
    "\n",
    "    # Fit the model on the training data\n",
    "    model.fit(X_train, y_train)\n",
    "\n",
    "    # Make predictions on the test data\n",
    "    y_pred = model.predict(X_test)\n",
    "\n",
    "    # Calculate evaluation metrics\n",
    "    accuracy = accuracy_score(y_test, y_pred)\n",
    "    precision = precision_score(y_test, y_pred, average='macro')\n",
    "    recall = recall_score(y_test, y_pred, average='macro')\n",
    "    f1 = f1_score(y_test, y_pred, average='macro')\n",
    "\n",
    "    # Append metrics to respective lists\n",
    "    fold_accuracies.append(accuracy)\n",
    "    fold_precisions.append(precision)\n",
    "    fold_recalls.append(recall)\n",
    "    fold_f1_scores.append(f1)\n",
    "\n",
    "# Mean evaluation metrics across all folds\n",
    "mean_accuracy = sum(fold_accuracies) / len(fold_accuracies)\n",
    "mean_precision = sum(fold_precisions) / len(fold_precisions)\n",
    "mean_recall = sum(fold_recalls) / len(fold_recalls)\n",
    "mean_f1 = sum(fold_f1_scores) / len(fold_f1_scores)\n",
    "\n",
    "print(f'Mean Macro Accuracy across all folds: {mean_accuracy}')\n",
    "print(f'Mean Macro Precision across all folds: {mean_precision}')\n",
    "print(f'Mean Macro Recall across all folds: {mean_recall}')\n",
    "print(f'Mean Macro F1 Score across all folds: {mean_f1}')"
   ]
  },
  {
   "cell_type": "markdown",
   "id": "977667cf",
   "metadata": {},
   "source": [
    "### 3.1.2 Class Weight Ratio: 1:5"
   ]
  },
  {
   "cell_type": "code",
   "execution_count": 214,
   "id": "edde732f",
   "metadata": {},
   "outputs": [
    {
     "name": "stdout",
     "output_type": "stream",
     "text": [
      "Training set classification report with 1:5 weight ratio:\n",
      "              precision    recall  f1-score   support\n",
      "\n",
      "           0       1.00      1.00      1.00      3608\n",
      "           1       1.00      1.00      1.00      1082\n",
      "\n",
      "    accuracy                           1.00      4690\n",
      "   macro avg       1.00      1.00      1.00      4690\n",
      "weighted avg       1.00      1.00      1.00      4690\n",
      "\n",
      "Validation set classification report with 1:5 weight ratio:\n",
      "              precision    recall  f1-score   support\n",
      "\n",
      "           0       0.99      0.99      0.99       767\n",
      "           1       0.54      0.50      0.52        14\n",
      "\n",
      "    accuracy                           0.98       781\n",
      "   macro avg       0.76      0.75      0.76       781\n",
      "weighted avg       0.98      0.98      0.98       781\n",
      "\n"
     ]
    }
   ],
   "source": [
    "# Define the weight ratio (1:5 for minority:majority class)\n",
    "weight_ratio = {0: 1, 1: 5}\n",
    "\n",
    "# Initialize Decision Tree Classifier with the specified weight ratio\n",
    "model_1_to_5 = DecisionTreeClassifier(random_state=42, class_weight=weight_ratio)\n",
    "\n",
    "# Fit the model on the full training data\n",
    "model_1_to_5.fit(X_train_5, y_train_5)\n",
    "\n",
    "# Make predictions on the validation set\n",
    "y_val_pred_1_to_5 = model_1_to_5.predict(X_val_5)\n",
    "\n",
    "# Print classification report for train set using the model with 1:5 weight ratio\n",
    "print(\"Training set classification report with 1:5 weight ratio:\")\n",
    "print(classification_report(y_train_5, y_train_pred_5))\n",
    "\n",
    "# Print classification report for validation set using the model with 1:5 weight ratio\n",
    "print(\"Validation set classification report with 1:5 weight ratio:\")\n",
    "print(classification_report(y_val_5, y_val_pred_1_to_5))"
   ]
  },
  {
   "cell_type": "code",
   "execution_count": 382,
   "id": "69d1daee",
   "metadata": {},
   "outputs": [
    {
     "name": "stdout",
     "output_type": "stream",
     "text": [
      "Mean Macro Accuracy across all folds: 0.9853493699501259\n",
      "Mean Macro Precision across all folds: 0.9765541126349143\n",
      "Mean Macro Recall across all folds: 0.9825605244447931\n",
      "Mean Macro F1 Score across all folds: 0.9794844480620863\n"
     ]
    }
   ],
   "source": [
    "X_full = df_full[['distance', 'orbital_radius', 'mass_earth', 'radius_earth', 'stellar_magnitude']]\n",
    "y_full = df_full['Habitable']\n",
    "\n",
    "kf = KFold(n_splits=5, shuffle=True, random_state=42)\n",
    "# Define the weight ratio \n",
    "weight_ratio = {0: 1, 1: 5}\n",
    "\n",
    "# Initialize Decision Tree Classifier with the specified weight ratio\n",
    "model = DecisionTreeClassifier(random_state=42, class_weight=weight_ratio)\n",
    "\n",
    "# Store evaluation metrics for each fold\n",
    "fold_accuracies= []\n",
    "fold_precisions = []\n",
    "fold_recalls = []\n",
    "fold_f1_scores = []\n",
    "\n",
    "for fold, (train_index, test_index) in enumerate(kf.split(X_full), 1):\n",
    "    X_train = X_full.iloc[train_index]\n",
    "    y_train = y_full[train_index]\n",
    "    X_test = X_full.iloc[test_index]\n",
    "    y_test = y_full[test_index]\n",
    "\n",
    "    # Fit the model on the training data\n",
    "    model.fit(X_train, y_train)\n",
    "\n",
    "    # Make predictions on the test data\n",
    "    y_pred = model.predict(X_test)\n",
    "\n",
    "    # Calculate evaluation metrics\n",
    "    accuracy = accuracy_score(y_test, y_pred)\n",
    "    precision = precision_score(y_test, y_pred, average='macro')\n",
    "    recall = recall_score(y_test, y_pred, average='macro')\n",
    "    f1 = f1_score(y_test, y_pred, average='macro')\n",
    "\n",
    "    # Append metrics to respective lists\n",
    "    fold_accuracies.append(accuracy)\n",
    "    fold_precisions.append(precision)\n",
    "    fold_recalls.append(recall)\n",
    "    fold_f1_scores.append(f1)\n",
    "\n",
    "# Mean evaluation metrics across all folds\n",
    "mean_accuracy = sum(fold_accuracies) / len(fold_accuracies)\n",
    "mean_precision = sum(fold_precisions) / len(fold_precisions)\n",
    "mean_recall = sum(fold_recalls) / len(fold_recalls)\n",
    "mean_f1 = sum(fold_f1_scores) / len(fold_f1_scores)\n",
    "\n",
    "print(f'Mean Macro Accuracy across all folds: {mean_accuracy}')\n",
    "print(f'Mean Macro Precision across all folds: {mean_precision}')\n",
    "print(f'Mean Macro Recall across all folds: {mean_recall}')\n",
    "print(f'Mean Macro F1 Score across all folds: {mean_f1}')"
   ]
  },
  {
   "cell_type": "markdown",
   "id": "06e87628",
   "metadata": {},
   "source": [
    "### 3.1.3 Class Weight Ratio: 1:10"
   ]
  },
  {
   "cell_type": "code",
   "execution_count": 384,
   "id": "4e701b71",
   "metadata": {},
   "outputs": [
    {
     "name": "stdout",
     "output_type": "stream",
     "text": [
      "Training set classification report with 1:10 weight ratio:\n",
      "              precision    recall  f1-score   support\n",
      "\n",
      "           0       1.00      1.00      1.00      3608\n",
      "           1       1.00      1.00      1.00      1082\n",
      "\n",
      "    accuracy                           1.00      4690\n",
      "   macro avg       1.00      1.00      1.00      4690\n",
      "weighted avg       1.00      1.00      1.00      4690\n",
      "\n",
      "Validation set classification report with 1:10 weight ratio:\n",
      "              precision    recall  f1-score   support\n",
      "\n",
      "           0       0.99      0.99      0.99       767\n",
      "           1       0.54      0.50      0.52        14\n",
      "\n",
      "    accuracy                           0.98       781\n",
      "   macro avg       0.76      0.75      0.76       781\n",
      "weighted avg       0.98      0.98      0.98       781\n",
      "\n"
     ]
    }
   ],
   "source": [
    "# Define the weight ratio (1:10 for minority:majority class)\n",
    "weight_ratio = {0: 1, 1: 10}\n",
    "\n",
    "# Initialize Decision Tree Classifier with the specified weight ratio\n",
    "model_1_to_10 = DecisionTreeClassifier(random_state=42, class_weight=weight_ratio)\n",
    "\n",
    "# Fit the model on the full training data\n",
    "model_1_to_10.fit(X_train_5, y_train_5)\n",
    "\n",
    "# Make predictions on the validation set\n",
    "y_val_pred_1_to_10 = model_1_to_5.predict(X_val_5)\n",
    "\n",
    "# Print classification report for train set using the model with 1:10 weight ratio\n",
    "print(\"Training set classification report with 1:10 weight ratio:\")\n",
    "print(classification_report(y_train_5, y_train_pred_5))\n",
    "\n",
    "# Print classification report for validation set using the model with 1:10 weight ratio\n",
    "print(\"Validation set classification report with 1:10 weight ratio:\")\n",
    "print(classification_report(y_val_5, y_val_pred_1_to_5))"
   ]
  },
  {
   "cell_type": "code",
   "execution_count": 383,
   "id": "4cc66027",
   "metadata": {},
   "outputs": [
    {
     "name": "stdout",
     "output_type": "stream",
     "text": [
      "Mean Macro Accuracy across all folds: 0.9853493699501259\n",
      "Mean Macro Precision across all folds: 0.9765541126349143\n",
      "Mean Macro Recall across all folds: 0.9825605244447931\n",
      "Mean Macro F1 Score across all folds: 0.9794844480620863\n"
     ]
    }
   ],
   "source": [
    "\n",
    "X_full = df_full[['distance', 'orbital_radius', 'mass_earth', 'radius_earth', 'stellar_magnitude']]\n",
    "y_full = df_full['Habitable']\n",
    "\n",
    "kf = KFold(n_splits=5, shuffle=True, random_state=42)\n",
    "\n",
    "# Define the weight ratio \n",
    "weight_ratio = {0: 1, 1: 10}\n",
    "\n",
    "# Initialize Decision Tree Classifier with the specified weight ratio\n",
    "model_weighted = DecisionTreeClassifier(class_weight=weight_ratio)\n",
    "\n",
    "# Store evaluation metrics for each fold\n",
    "fold_accuracies= []\n",
    "fold_precisions = []\n",
    "fold_recalls = []\n",
    "fold_f1_scores = []\n",
    "\n",
    "for fold, (train_index, test_index) in enumerate(kf.split(X_full), 1):\n",
    "    X_train = X_full.iloc[train_index]\n",
    "    y_train = y_full[train_index]\n",
    "    X_test = X_full.iloc[test_index]\n",
    "    y_test = y_full[test_index]\n",
    "\n",
    "    # Fit the model on the training data\n",
    "    model.fit(X_train, y_train)\n",
    "\n",
    "    # Make predictions on the test data\n",
    "    y_pred = model.predict(X_test)\n",
    "\n",
    "    # Calculate evaluation metrics\n",
    "    accuracy = accuracy_score(y_test, y_pred)\n",
    "    precision = precision_score(y_test, y_pred, average='macro')\n",
    "    recall = recall_score(y_test, y_pred, average='macro')\n",
    "    f1 = f1_score(y_test, y_pred, average='macro')\n",
    "\n",
    "    # Append metrics to respective lists\n",
    "    fold_accuracies.append(accuracy)\n",
    "    fold_precisions.append(precision)\n",
    "    fold_recalls.append(recall)\n",
    "    fold_f1_scores.append(f1)\n",
    "\n",
    "# Mean evaluation metrics across all folds\n",
    "mean_accuracy = sum(fold_accuracies) / len(fold_accuracies)\n",
    "mean_precision = sum(fold_precisions) / len(fold_precisions)\n",
    "mean_recall = sum(fold_recalls) / len(fold_recalls)\n",
    "mean_f1 = sum(fold_f1_scores) / len(fold_f1_scores)\n",
    "\n",
    "print(f'Mean Macro Accuracy across all folds: {mean_accuracy}')\n",
    "print(f'Mean Macro Precision across all folds: {mean_precision}')\n",
    "print(f'Mean Macro Recall across all folds: {mean_recall}')\n",
    "print(f'Mean Macro F1 Score across all folds: {mean_f1}')"
   ]
  },
  {
   "cell_type": "markdown",
   "id": "31104ec6",
   "metadata": {},
   "source": [
    "## 3.2 Max Depth\n",
    "This parameter specifies the maximum depth of the decision tree. If set to None (default), nodes are expanded until all leaves are pure or until all leaves contain less than min_samples_split samples."
   ]
  },
  {
   "cell_type": "code",
   "execution_count": 218,
   "id": "7ca39932",
   "metadata": {},
   "outputs": [
    {
     "name": "stdout",
     "output_type": "stream",
     "text": [
      "Best Parameters: {'max_depth': 11}\n"
     ]
    }
   ],
   "source": [
    "param_grid = {\n",
    "    'max_depth': [ 2, 3, 5, 7, 9, 11, 16, 20, None] \n",
    "}\n",
    "\n",
    "# Initialize GridSearchCV\n",
    "grid_search = GridSearchCV(estimator=model_five_features, param_grid=param_grid, cv=5, scoring='f1')\n",
    "\n",
    "# Perform GridSearchCV\n",
    "grid_search.fit(X_train_5, y_train_5)\n",
    "\n",
    "# Get best parameters\n",
    "best_params = grid_search.best_params_\n",
    "\n",
    "# Print best parameters\n",
    "print(\"Best Parameters:\", best_params)"
   ]
  },
  {
   "cell_type": "markdown",
   "id": "2a4ac12d",
   "metadata": {},
   "source": [
    "### 3.2.1 Max Depth = 3"
   ]
  },
  {
   "cell_type": "code",
   "execution_count": 219,
   "id": "eb17cd2b",
   "metadata": {},
   "outputs": [
    {
     "name": "stdout",
     "output_type": "stream",
     "text": [
      "Training set classification report with Max Depth of 3\n",
      "              precision    recall  f1-score   support\n",
      "\n",
      "           0       0.97      0.93      0.95      3608\n",
      "           1       0.80      0.91      0.85      1082\n",
      "\n",
      "    accuracy                           0.93      4690\n",
      "   macro avg       0.88      0.92      0.90      4690\n",
      "weighted avg       0.93      0.93      0.93      4690\n",
      "\n",
      "Validation set classification report with Max Depth of 3:\n",
      "              precision    recall  f1-score   support\n",
      "\n",
      "           0       1.00      0.92      0.95       767\n",
      "           1       0.14      0.79      0.24        14\n",
      "\n",
      "    accuracy                           0.91       781\n",
      "   macro avg       0.57      0.85      0.60       781\n",
      "weighted avg       0.98      0.91      0.94       781\n",
      "\n"
     ]
    }
   ],
   "source": [
    "# Define the max depth\n",
    "max_depth = 3\n",
    "\n",
    "# Initialize Decision Tree Classifier\n",
    "model_max_depth_3 = DecisionTreeClassifier(random_state=42, max_depth=max_depth)\n",
    "\n",
    "# Fit the model on the full training data\n",
    "model_max_depth_3.fit(X_train_5, y_train_5)\n",
    "\n",
    "# Make predictions on the validation set\n",
    "y_val_pred_max_depth_3 = model_max_depth_3.predict(X_val_5)\n",
    "\n",
    "# Print classification report for train set \n",
    "print(\"Training set classification report with Max Depth of 3\")\n",
    "print(classification_report(y_train_5, model_max_depth_3.predict(X_train_5))) \n",
    "\n",
    "# Print classification report for validation set \n",
    "print(\"Validation set classification report with Max Depth of 3:\")\n",
    "print(classification_report(y_val_5, y_val_pred_max_depth_3)) "
   ]
  },
  {
   "cell_type": "code",
   "execution_count": 385,
   "id": "b499be71",
   "metadata": {},
   "outputs": [
    {
     "name": "stdout",
     "output_type": "stream",
     "text": [
      "Mean Macro Accuracy across all folds: 0.9101483252893109\n",
      "Mean Macro Precision across all folds: 0.8634389771931652\n",
      "Mean Macro Recall across all folds: 0.9033029265369045\n",
      "Mean Macro F1 Score across all folds: 0.8804853734849463\n"
     ]
    }
   ],
   "source": [
    "X_full = df_full[['distance', 'orbital_radius', 'mass_earth', 'radius_earth', 'stellar_magnitude']]\n",
    "y_full = df_full['Habitable']\n",
    "\n",
    "kf = KFold(n_splits=5, shuffle=True, random_state=42)\n",
    "\n",
    "# Define the max depth\n",
    "max_depth = 3\n",
    "\n",
    "# Initialize Decision Tree Classifier \n",
    "model = DecisionTreeClassifier(random_state=42, max_depth=max_depth)\n",
    "\n",
    "# Store evaluation metrics for each fold\n",
    "fold_accuracies= []\n",
    "fold_precisions = []\n",
    "fold_recalls = []\n",
    "fold_f1_scores = []\n",
    "\n",
    "for fold, (train_index, test_index) in enumerate(kf.split(X_full), 1):\n",
    "    X_train = X_full.iloc[train_index]\n",
    "    y_train = y_full[train_index]\n",
    "    X_test = X_full.iloc[test_index]\n",
    "    y_test = y_full[test_index]\n",
    "\n",
    "    # Fit the model on the training data\n",
    "    model.fit(X_train, y_train)\n",
    "\n",
    "    # Make predictions on the test data\n",
    "    y_pred = model.predict(X_test)\n",
    "\n",
    "    # Calculate evaluation metrics\n",
    "    accuracy = accuracy_score(y_test, y_pred)\n",
    "    precision = precision_score(y_test, y_pred, average='macro')\n",
    "    recall = recall_score(y_test, y_pred, average='macro')\n",
    "    f1 = f1_score(y_test, y_pred, average='macro')\n",
    "\n",
    "    # Append metrics to respective lists\n",
    "    fold_accuracies.append(accuracy)\n",
    "    fold_precisions.append(precision)\n",
    "    fold_recalls.append(recall)\n",
    "    fold_f1_scores.append(f1)\n",
    "\n",
    "# Mean evaluation metrics across all folds\n",
    "mean_accuracy = sum(fold_accuracies) / len(fold_accuracies)\n",
    "mean_precision = sum(fold_precisions) / len(fold_precisions)\n",
    "mean_recall = sum(fold_recalls) / len(fold_recalls)\n",
    "mean_f1 = sum(fold_f1_scores) / len(fold_f1_scores)\n",
    "\n",
    "print(f'Mean Macro Accuracy across all folds: {mean_accuracy}')\n",
    "print(f'Mean Macro Precision across all folds: {mean_precision}')\n",
    "print(f'Mean Macro Recall across all folds: {mean_recall}')\n",
    "print(f'Mean Macro F1 Score across all folds: {mean_f1}')"
   ]
  },
  {
   "cell_type": "markdown",
   "id": "ae1cd48e",
   "metadata": {},
   "source": [
    "### 3.2.2 Max Depth = 7"
   ]
  },
  {
   "cell_type": "code",
   "execution_count": 223,
   "id": "4640d39d",
   "metadata": {},
   "outputs": [
    {
     "name": "stdout",
     "output_type": "stream",
     "text": [
      "Training set classification report with Max Depth of 7\n",
      "              precision    recall  f1-score   support\n",
      "\n",
      "           0       1.00      0.99      0.99      3608\n",
      "           1       0.95      1.00      0.98      1082\n",
      "\n",
      "    accuracy                           0.99      4690\n",
      "   macro avg       0.98      0.99      0.98      4690\n",
      "weighted avg       0.99      0.99      0.99      4690\n",
      "\n",
      "Validation set classification report with Max Depth of 7:\n",
      "              precision    recall  f1-score   support\n",
      "\n",
      "           0       0.99      0.98      0.99       767\n",
      "           1       0.38      0.64      0.47        14\n",
      "\n",
      "    accuracy                           0.97       781\n",
      "   macro avg       0.68      0.81      0.73       781\n",
      "weighted avg       0.98      0.97      0.98       781\n",
      "\n"
     ]
    }
   ],
   "source": [
    "# Define the max depth\n",
    "max_depth = 7\n",
    "\n",
    "# Initialize Decision Tree Classifier \n",
    "model_max_depth_7 = DecisionTreeClassifier(random_state=42, max_depth=max_depth)\n",
    "\n",
    "# Fit the model on the full training data\n",
    "model_max_depth_7.fit(X_train_5, y_train_5)\n",
    "\n",
    "# Make predictions on the validation set\n",
    "y_val_pred_max_depth_7 = model_max_depth_7.predict(X_val_5)\n",
    "\n",
    "# Print classification report for train set \n",
    "print(\"Training set classification report with Max Depth of 7\")\n",
    "print(classification_report(y_train_5, model_max_depth_7.predict(X_train_5)))\n",
    "\n",
    "# Print classification report for validation set \n",
    "print(\"Validation set classification report with Max Depth of 7:\")\n",
    "print(classification_report(y_val_5, y_val_pred_max_depth_7)) \n"
   ]
  },
  {
   "cell_type": "code",
   "execution_count": 386,
   "id": "f4bd436a",
   "metadata": {},
   "outputs": [
    {
     "name": "stdout",
     "output_type": "stream",
     "text": [
      "Mean Macro Accuracy across all folds: 0.9733890992595475\n",
      "Mean Macro Precision across all folds: 0.9541705952127243\n",
      "Mean Macro Recall across all folds: 0.9734343970456232\n",
      "Mean Macro F1 Score across all folds: 0.9633168140826008\n"
     ]
    }
   ],
   "source": [
    "X_full = df_full[['distance', 'orbital_radius', 'mass_earth', 'radius_earth', 'stellar_magnitude']]\n",
    "y_full = df_full['Habitable']\n",
    "\n",
    "kf = KFold(n_splits=5, shuffle=True, random_state=42)\n",
    "\n",
    "# Define the max depth\n",
    "max_depth = 7\n",
    "\n",
    "# Initialize Decision Tree Classifier \n",
    "model= DecisionTreeClassifier(random_state=42, max_depth=max_depth)\n",
    "\n",
    "# Store evaluation metrics for each fold\n",
    "fold_accuracies= []\n",
    "fold_precisions = []\n",
    "fold_recalls = []\n",
    "fold_f1_scores = []\n",
    "\n",
    "for fold, (train_index, test_index) in enumerate(kf.split(X_full), 1):\n",
    "    X_train = X_full.iloc[train_index]\n",
    "    y_train = y_full[train_index]\n",
    "    X_test = X_full.iloc[test_index]\n",
    "    y_test = y_full[test_index]\n",
    "\n",
    "    # Fit the model on the training data\n",
    "    model.fit(X_train, y_train)\n",
    "\n",
    "    # Make predictions on the test data\n",
    "    y_pred = model.predict(X_test)\n",
    "\n",
    "    # Calculate evaluation metrics\n",
    "    accuracy = accuracy_score(y_test, y_pred)\n",
    "    precision = precision_score(y_test, y_pred, average='macro')\n",
    "    recall = recall_score(y_test, y_pred, average='macro')\n",
    "    f1 = f1_score(y_test, y_pred, average='macro')\n",
    "\n",
    "    # Append metrics to respective lists\n",
    "    fold_accuracies.append(accuracy)\n",
    "    fold_precisions.append(precision)\n",
    "    fold_recalls.append(recall)\n",
    "    fold_f1_scores.append(f1)\n",
    "\n",
    "# Mean evaluation metrics across all folds\n",
    "mean_accuracy = sum(fold_accuracies) / len(fold_accuracies)\n",
    "mean_precision = sum(fold_precisions) / len(fold_precisions)\n",
    "mean_recall = sum(fold_recalls) / len(fold_recalls)\n",
    "mean_f1 = sum(fold_f1_scores) / len(fold_f1_scores)\n",
    "\n",
    "print(f'Mean Macro Accuracy across all folds: {mean_accuracy}')\n",
    "print(f'Mean Macro Precision across all folds: {mean_precision}')\n",
    "print(f'Mean Macro Recall across all folds: {mean_recall}')\n",
    "print(f'Mean Macro F1 Score across all folds: {mean_f1}')"
   ]
  },
  {
   "cell_type": "markdown",
   "id": "b131a23f",
   "metadata": {},
   "source": [
    "### 3.2.3 Max Depth = 25"
   ]
  },
  {
   "cell_type": "code",
   "execution_count": 415,
   "id": "a9fac2d3",
   "metadata": {},
   "outputs": [
    {
     "name": "stdout",
     "output_type": "stream",
     "text": [
      "Training set classification report with Max Depth of 25\n",
      "              precision    recall  f1-score   support\n",
      "\n",
      "           0       1.00      1.00      1.00      3608\n",
      "           1       1.00      1.00      1.00      1082\n",
      "\n",
      "    accuracy                           1.00      4690\n",
      "   macro avg       1.00      1.00      1.00      4690\n",
      "weighted avg       1.00      1.00      1.00      4690\n",
      "\n",
      "Validation set classification report with Max Depth of 25:\n",
      "              precision    recall  f1-score   support\n",
      "\n",
      "           0       0.99      0.99      0.99       767\n",
      "           1       0.41      0.50      0.45        14\n",
      "\n",
      "    accuracy                           0.98       781\n",
      "   macro avg       0.70      0.74      0.72       781\n",
      "weighted avg       0.98      0.98      0.98       781\n",
      "\n"
     ]
    }
   ],
   "source": [
    "# Define the max depth\n",
    "max_depth = 25\n",
    "\n",
    "# Initialize Decision Tree Classifier\n",
    "model_max_depth_25 = DecisionTreeClassifier(random_state=42, max_depth=max_depth)\n",
    "\n",
    "# Fit the model on the full training data\n",
    "model_max_depth_25.fit(X_train_5, y_train_5)\n",
    "\n",
    "# Make predictions on the validation set\n",
    "y_val_pred_max_depth_25 = model_max_depth_25.predict(X_val_5)\n",
    "\n",
    "# Print classification report for train set \n",
    "print(\"Training set classification report with Max Depth of 25\")\n",
    "print(classification_report(y_train_5, model_max_depth_25.predict(X_train_5))) \n",
    "\n",
    "# Print classification report for validation set \n",
    "print(\"Validation set classification report with Max Depth of 25:\")\n",
    "print(classification_report(y_val_5, y_val_pred_max_depth_25)) \n"
   ]
  },
  {
   "cell_type": "code",
   "execution_count": 416,
   "id": "ede919a1",
   "metadata": {},
   "outputs": [
    {
     "name": "stdout",
     "output_type": "stream",
     "text": [
      "Mean Macro Accuracy across all folds: 0.9832560235138124\n",
      "Mean Macro Precision across all folds: 0.9744511141707222\n",
      "Mean Macro Recall across all folds: 0.9786795899451987\n",
      "Mean Macro F1 Score across all folds: 0.9765242241110277\n"
     ]
    }
   ],
   "source": [
    "X_full = df_full[['distance', 'orbital_radius', 'mass_earth', 'radius_earth', 'stellar_magnitude']]\n",
    "y_full = df_full['Habitable']\n",
    "\n",
    "kf = KFold(n_splits=5, shuffle=True, random_state=42)\n",
    "\n",
    "# Define the max depth\n",
    "max_depth = 25\n",
    "\n",
    "# Initialize Decision Tree Classifier \n",
    "model= DecisionTreeClassifier(random_state=42, max_depth=max_depth)\n",
    "\n",
    "# Store evaluation metrics for each fold\n",
    "fold_accuracies= []\n",
    "fold_precisions = []\n",
    "fold_recalls = []\n",
    "fold_f1_scores = []\n",
    "\n",
    "for fold, (train_index, test_index) in enumerate(kf.split(X_full), 1):\n",
    "    X_train = X_full.iloc[train_index]\n",
    "    y_train = y_full[train_index]\n",
    "    X_test = X_full.iloc[test_index]\n",
    "    y_test = y_full[test_index]\n",
    "\n",
    "    # Fit the model on the training data\n",
    "    model.fit(X_train, y_train)\n",
    "\n",
    "    # Make predictions on the test data\n",
    "    y_pred = model.predict(X_test)\n",
    "\n",
    "    # Calculate evaluation metrics\n",
    "    accuracy = accuracy_score(y_test, y_pred)\n",
    "    precision = precision_score(y_test, y_pred, average='macro')\n",
    "    recall = recall_score(y_test, y_pred, average='macro')\n",
    "    f1 = f1_score(y_test, y_pred, average='macro')\n",
    "\n",
    "    # Append metrics to respective lists\n",
    "    fold_accuracies.append(accuracy)\n",
    "    fold_precisions.append(precision)\n",
    "    fold_recalls.append(recall)\n",
    "    fold_f1_scores.append(f1)\n",
    "\n",
    "# Mean evaluation metrics across all folds\n",
    "mean_accuracy = sum(fold_accuracies) / len(fold_accuracies)\n",
    "mean_precision = sum(fold_precisions) / len(fold_precisions)\n",
    "mean_recall = sum(fold_recalls) / len(fold_recalls)\n",
    "mean_f1 = sum(fold_f1_scores) / len(fold_f1_scores)\n",
    "\n",
    "print(f'Mean Macro Accuracy across all folds: {mean_accuracy}')\n",
    "print(f'Mean Macro Precision across all folds: {mean_precision}')\n",
    "print(f'Mean Macro Recall across all folds: {mean_recall}')\n",
    "print(f'Mean Macro F1 Score across all folds: {mean_f1}')"
   ]
  },
  {
   "cell_type": "markdown",
   "id": "6ae5eac4",
   "metadata": {},
   "source": [
    "## 3.3 Min Samples Split\n",
    "This parameter specifies the minimum number of samples required to split an internal node. If set to an integer, it ensures that a node is split only if it contains at least that number of samples."
   ]
  },
  {
   "cell_type": "code",
   "execution_count": 228,
   "id": "64fb0555",
   "metadata": {},
   "outputs": [
    {
     "name": "stdout",
     "output_type": "stream",
     "text": [
      "Best Parameters: {'min_samples_split': 2}\n"
     ]
    }
   ],
   "source": [
    "param_grid = {\n",
    "    'min_samples_split': [2, 5, 10, 20, 50, 100]\n",
    "}\n",
    "\n",
    "# Initialize GridSearchCV\n",
    "grid_search = GridSearchCV(estimator=model_five_features, param_grid=param_grid, cv=5, scoring='f1')\n",
    "\n",
    "# Perform GridSearchCV\n",
    "grid_search.fit(X_train_5, y_train_5)\n",
    "\n",
    "# Get best parameters\n",
    "best_params = grid_search.best_params_\n",
    "\n",
    "# Print best parameters\n",
    "print(\"Best Parameters:\", best_params)"
   ]
  },
  {
   "cell_type": "markdown",
   "id": "659f9d4b",
   "metadata": {},
   "source": [
    "### 3.3.1 Min Samples Split = 4"
   ]
  },
  {
   "cell_type": "code",
   "execution_count": 417,
   "id": "61f24808",
   "metadata": {},
   "outputs": [
    {
     "name": "stdout",
     "output_type": "stream",
     "text": [
      "Training set classification report with Min Samples Split of 4\n",
      "              precision    recall  f1-score   support\n",
      "\n",
      "           0       1.00      1.00      1.00      3608\n",
      "           1       1.00      1.00      1.00      1082\n",
      "\n",
      "    accuracy                           1.00      4690\n",
      "   macro avg       1.00      1.00      1.00      4690\n",
      "weighted avg       1.00      1.00      1.00      4690\n",
      "\n",
      "Validation set classification report with Min Samples Split of 4:\n",
      "              precision    recall  f1-score   support\n",
      "\n",
      "           0       0.99      0.99      0.99       767\n",
      "           1       0.40      0.43      0.41        14\n",
      "\n",
      "    accuracy                           0.98       781\n",
      "   macro avg       0.69      0.71      0.70       781\n",
      "weighted avg       0.98      0.98      0.98       781\n",
      "\n"
     ]
    }
   ],
   "source": [
    "# Define the min samples split\n",
    "min_samples_split = 4\n",
    "\n",
    "# Initialize Decision Tree Classifier\n",
    "model_min_samples_split_4= DecisionTreeClassifier(random_state=42, min_samples_split=min_samples_split)\n",
    "\n",
    "# Fit the model on the full training data\n",
    "model_min_samples_split_4.fit(X_train_5, y_train_5)\n",
    "\n",
    "# Make predictions on the validation set\n",
    "y_val_pred_min_samples_split_4 = model_min_samples_split_4.predict(X_val_5)\n",
    "\n",
    "# Print classification report for train set \n",
    "print(\"Training set classification report with Min Samples Split of 4\")\n",
    "print(classification_report(y_train_5, model_min_samples_split_4.predict(X_train_5))) \n",
    "\n",
    "# Print classification report for validation set \n",
    "print(\"Validation set classification report with Min Samples Split of 4:\")\n",
    "print(classification_report(y_val_5, y_val_pred_min_samples_split_4)) "
   ]
  },
  {
   "cell_type": "code",
   "execution_count": 418,
   "id": "d6f3d862",
   "metadata": {},
   "outputs": [
    {
     "name": "stdout",
     "output_type": "stream",
     "text": [
      "Mean Macro Accuracy across all folds: 0.9816115547714637\n",
      "Mean Macro Precision across all folds: 0.9726273129211587\n",
      "Mean Macro Recall across all folds: 0.9757885295913523\n",
      "Mean Macro F1 Score across all folds: 0.9741791811572748\n"
     ]
    }
   ],
   "source": [
    "X_full = df_full[['distance', 'orbital_radius', 'mass_earth', 'radius_earth', 'stellar_magnitude']]\n",
    "y_full = df_full['Habitable']\n",
    "\n",
    "kf = KFold(n_splits=5, shuffle=True, random_state=42)\n",
    "\n",
    "# Define the min samples split\n",
    "min_samples_split = 4\n",
    "\n",
    "# Initialize Decision Tree Classifier \n",
    "model = DecisionTreeClassifier(random_state=42, min_samples_split=min_samples_split)\n",
    "\n",
    "# Store evaluation metrics for each fold\n",
    "fold_accuracies= []\n",
    "fold_precisions = []\n",
    "fold_recalls = []\n",
    "fold_f1_scores = []\n",
    "\n",
    "for fold, (train_index, test_index) in enumerate(kf.split(X_full), 1):\n",
    "    X_train = X_full.iloc[train_index]\n",
    "    y_train = y_full[train_index]\n",
    "    X_test = X_full.iloc[test_index]\n",
    "    y_test = y_full[test_index]\n",
    "\n",
    "    # Fit the model on the training data\n",
    "    model.fit(X_train, y_train)\n",
    "\n",
    "    # Make predictions on the test data\n",
    "    y_pred = model.predict(X_test)\n",
    "\n",
    "    # Calculate evaluation metrics\n",
    "    accuracy = accuracy_score(y_test, y_pred)\n",
    "    precision = precision_score(y_test, y_pred, average='macro')\n",
    "    recall = recall_score(y_test, y_pred, average='macro')\n",
    "    f1 = f1_score(y_test, y_pred, average='macro')\n",
    "\n",
    "    # Append metrics to respective lists\n",
    "    fold_accuracies.append(accuracy)\n",
    "    fold_precisions.append(precision)\n",
    "    fold_recalls.append(recall)\n",
    "    fold_f1_scores.append(f1)\n",
    "\n",
    "# Mean evaluation metrics across all folds\n",
    "mean_accuracy = sum(fold_accuracies) / len(fold_accuracies)\n",
    "mean_precision = sum(fold_precisions) / len(fold_precisions)\n",
    "mean_recall = sum(fold_recalls) / len(fold_recalls)\n",
    "mean_f1 = sum(fold_f1_scores) / len(fold_f1_scores)\n",
    "\n",
    "print(f'Mean Macro Accuracy across all folds: {mean_accuracy}')\n",
    "print(f'Mean Macro Precision across all folds: {mean_precision}')\n",
    "print(f'Mean Macro Recall across all folds: {mean_recall}')\n",
    "print(f'Mean Macro F1 Score across all folds: {mean_f1}')"
   ]
  },
  {
   "cell_type": "markdown",
   "id": "7108fe21",
   "metadata": {},
   "source": [
    "### 3.3.2 Min Samples Split = 10"
   ]
  },
  {
   "cell_type": "code",
   "execution_count": 231,
   "id": "9536e06e",
   "metadata": {},
   "outputs": [
    {
     "name": "stdout",
     "output_type": "stream",
     "text": [
      "Training set classification report with Min Samples Split of 10\n",
      "              precision    recall  f1-score   support\n",
      "\n",
      "           0       1.00      1.00      1.00      3608\n",
      "           1       1.00      0.99      1.00      1082\n",
      "\n",
      "    accuracy                           1.00      4690\n",
      "   macro avg       1.00      1.00      1.00      4690\n",
      "weighted avg       1.00      1.00      1.00      4690\n",
      "\n",
      "Validation set classification report with Min Samples Split of 10:\n",
      "              precision    recall  f1-score   support\n",
      "\n",
      "           0       0.99      0.99      0.99       767\n",
      "           1       0.38      0.43      0.40        14\n",
      "\n",
      "    accuracy                           0.98       781\n",
      "   macro avg       0.68      0.71      0.69       781\n",
      "weighted avg       0.98      0.98      0.98       781\n",
      "\n"
     ]
    }
   ],
   "source": [
    "# Define the min samples split\n",
    "min_samples_split = 10\n",
    "\n",
    "# Initialize Decision Tree Classifier \n",
    "model_min_samples_split_10= DecisionTreeClassifier(random_state=42, min_samples_split=min_samples_split)\n",
    "\n",
    "# Fit the model on the full training data\n",
    "model_min_samples_split_10.fit(X_train_5, y_train_5)\n",
    "\n",
    "# Make predictions on the validation set\n",
    "y_val_pred_min_samples_split_10 = model_min_samples_split_10.predict(X_val_5)\n",
    "\n",
    "# Print classification report for train set \n",
    "print(\"Training set classification report with Min Samples Split of 10\")\n",
    "print(classification_report(y_train_5, model_min_samples_split_10.predict(X_train_5))) \n",
    "\n",
    "# Print classification report for validation set \n",
    "print(\"Validation set classification report with Min Samples Split of 10:\")\n",
    "print(classification_report(y_val_5, y_val_pred_min_samples_split_10)) "
   ]
  },
  {
   "cell_type": "code",
   "execution_count": 389,
   "id": "eb0d76c5",
   "metadata": {},
   "outputs": [
    {
     "name": "stdout",
     "output_type": "stream",
     "text": [
      "Mean Macro Accuracy across all folds: 0.9808638352154893\n",
      "Mean Macro Precision across all folds: 0.9718903958909355\n",
      "Mean Macro Recall across all folds: 0.974430301850633\n",
      "Mean Macro F1 Score across all folds: 0.9731312547058406\n"
     ]
    }
   ],
   "source": [
    "X_full = df_full[['distance', 'orbital_radius', 'mass_earth', 'radius_earth', 'stellar_magnitude']]\n",
    "y_full = df_full['Habitable']\n",
    "\n",
    "kf = KFold(n_splits=5, shuffle=True, random_state=42)\n",
    "\n",
    "# Define the min samples split\n",
    "min_samples_split = 10\n",
    "\n",
    "# Initialize Decision Tree Classifier\n",
    "model= DecisionTreeClassifier(random_state=42, min_samples_split=min_samples_split)\n",
    "\n",
    "# Store evaluation metrics for each fold\n",
    "fold_accuracies= []\n",
    "fold_precisions = []\n",
    "fold_recalls = []\n",
    "fold_f1_scores = []\n",
    "\n",
    "for fold, (train_index, test_index) in enumerate(kf.split(X_full), 1):\n",
    "    X_train = X_full.iloc[train_index]\n",
    "    y_train = y_full[train_index]\n",
    "    X_test = X_full.iloc[test_index]\n",
    "    y_test = y_full[test_index]\n",
    "\n",
    "    # Fit the model on the training data\n",
    "    model.fit(X_train, y_train)\n",
    "\n",
    "    # Make predictions on the test data\n",
    "    y_pred = model.predict(X_test)\n",
    "\n",
    "    # Calculate evaluation metrics\n",
    "    accuracy = accuracy_score(y_test, y_pred)\n",
    "    precision = precision_score(y_test, y_pred, average='macro')\n",
    "    recall = recall_score(y_test, y_pred, average='macro')\n",
    "    f1 = f1_score(y_test, y_pred, average='macro')\n",
    "\n",
    "    # Append metrics to respective lists\n",
    "    fold_accuracies.append(accuracy)\n",
    "    fold_precisions.append(precision)\n",
    "    fold_recalls.append(recall)\n",
    "    fold_f1_scores.append(f1)\n",
    "\n",
    "# Mean evaluation metrics across all folds\n",
    "mean_accuracy = sum(fold_accuracies) / len(fold_accuracies)\n",
    "mean_precision = sum(fold_precisions) / len(fold_precisions)\n",
    "mean_recall = sum(fold_recalls) / len(fold_recalls)\n",
    "mean_f1 = sum(fold_f1_scores) / len(fold_f1_scores)\n",
    "\n",
    "print(f'Mean Macro Accuracy across all folds: {mean_accuracy}')\n",
    "print(f'Mean Macro Precision across all folds: {mean_precision}')\n",
    "print(f'Mean Macro Recall across all folds: {mean_recall}')\n",
    "print(f'Mean Macro F1 Score across all folds: {mean_f1}')"
   ]
  },
  {
   "cell_type": "markdown",
   "id": "20fa85d0",
   "metadata": {},
   "source": [
    "### 3.3.3 Min Samples Split = 50"
   ]
  },
  {
   "cell_type": "code",
   "execution_count": 234,
   "id": "8ea5b6a3",
   "metadata": {},
   "outputs": [
    {
     "name": "stdout",
     "output_type": "stream",
     "text": [
      "Training set classification report with Min Samples Split of 50\n",
      "              precision    recall  f1-score   support\n",
      "\n",
      "           0       1.00      0.98      0.99      3608\n",
      "           1       0.95      0.99      0.97      1082\n",
      "\n",
      "    accuracy                           0.99      4690\n",
      "   macro avg       0.97      0.99      0.98      4690\n",
      "weighted avg       0.99      0.99      0.99      4690\n",
      "\n",
      "Validation set classification report with Min Samples Split of 50:\n",
      "              precision    recall  f1-score   support\n",
      "\n",
      "           0       0.99      0.98      0.99       767\n",
      "           1       0.33      0.57      0.42        14\n",
      "\n",
      "    accuracy                           0.97       781\n",
      "   macro avg       0.66      0.78      0.70       781\n",
      "weighted avg       0.98      0.97      0.98       781\n",
      "\n"
     ]
    }
   ],
   "source": [
    "# Define the min samples split\n",
    "min_samples_split = 50\n",
    "\n",
    "# Initialize Decision Tree Classifier \n",
    "model_min_samples_split_50= DecisionTreeClassifier(random_state=42, min_samples_split=min_samples_split)\n",
    "\n",
    "# Fit the model on the full training data\n",
    "model_min_samples_split_50.fit(X_train_5, y_train_5)\n",
    "\n",
    "# Make predictions on the validation set\n",
    "y_val_pred_min_samples_split_50 = model_min_samples_split_50.predict(X_val_5)\n",
    "\n",
    "# Print classification report for train set \n",
    "print(\"Training set classification report with Min Samples Split of 50\")\n",
    "print(classification_report(y_train_5, model_min_samples_split_50.predict(X_train_5))) \n",
    "\n",
    "# Print classification report for validation set \n",
    "print(\"Validation set classification report with Min Samples Split of 50:\")\n",
    "print(classification_report(y_val_5, y_val_pred_min_samples_split_50)) "
   ]
  },
  {
   "cell_type": "code",
   "execution_count": 390,
   "id": "896079ba",
   "metadata": {},
   "outputs": [
    {
     "name": "stdout",
     "output_type": "stream",
     "text": [
      "Mean Macro Accuracy across all folds: 0.9709974699620887\n",
      "Mean Macro Precision across all folds: 0.960229882015688\n",
      "Mean Macro Recall across all folds: 0.9580522497803908\n",
      "Mean Macro F1 Score across all folds: 0.9590846952696456\n"
     ]
    }
   ],
   "source": [
    "X_full = df_full[['distance', 'orbital_radius', 'mass_earth', 'radius_earth', 'stellar_magnitude']]\n",
    "y_full = df_full['Habitable']\n",
    "\n",
    "kf = KFold(n_splits=5, shuffle=True, random_state=42)\n",
    "\n",
    "# Define the min samples split\n",
    "min_samples_split = 50\n",
    "\n",
    "# Initialize Decision Tree Classifier\n",
    "model = DecisionTreeClassifier(random_state=42, min_samples_split=min_samples_split)\n",
    "\n",
    "# Store evaluation metrics for each fold\n",
    "fold_accuracies= []\n",
    "fold_precisions = []\n",
    "fold_recalls = []\n",
    "fold_f1_scores = []\n",
    "\n",
    "for fold, (train_index, test_index) in enumerate(kf.split(X_full), 1):\n",
    "    X_train = X_full.iloc[train_index]\n",
    "    y_train = y_full[train_index]\n",
    "    X_test = X_full.iloc[test_index]\n",
    "    y_test = y_full[test_index]\n",
    "\n",
    "    # Fit the model on the training data\n",
    "    model.fit(X_train, y_train)\n",
    "\n",
    "    # Make predictions on the test data\n",
    "    y_pred = model.predict(X_test)\n",
    "\n",
    "    # Calculate evaluation metrics\n",
    "    accuracy = accuracy_score(y_test, y_pred)\n",
    "    precision = precision_score(y_test, y_pred, average='macro')\n",
    "    recall = recall_score(y_test, y_pred, average='macro')\n",
    "    f1 = f1_score(y_test, y_pred, average='macro')\n",
    "\n",
    "    # Append metrics to respective lists\n",
    "    fold_accuracies.append(accuracy)\n",
    "    fold_precisions.append(precision)\n",
    "    fold_recalls.append(recall)\n",
    "    fold_f1_scores.append(f1)\n",
    "\n",
    "# Mean evaluation metrics across all folds\n",
    "mean_accuracy = sum(fold_accuracies) / len(fold_accuracies)\n",
    "mean_precision = sum(fold_precisions) / len(fold_precisions)\n",
    "mean_recall = sum(fold_recalls) / len(fold_recalls)\n",
    "mean_f1 = sum(fold_f1_scores) / len(fold_f1_scores)\n",
    "\n",
    "print(f'Mean Macro Accuracy across all folds: {mean_accuracy}')\n",
    "print(f'Mean Macro Precision across all folds: {mean_precision}')\n",
    "print(f'Mean Macro Recall across all folds: {mean_recall}')\n",
    "print(f'Mean Macro F1 Score across all folds: {mean_f1}')"
   ]
  },
  {
   "cell_type": "markdown",
   "id": "38324de3",
   "metadata": {},
   "source": [
    "## 3.4 CCP Alpha\n",
    "This is the complexity parameter used for Minimal Cost-Complexity Pruning (CCP). It specifies the non-negative cost complexity parameter of the Decision Tree. Increasing ccp_alpha increases the pruning strength, potentially resulting in a simpler tree that generalizes better to unseen data."
   ]
  },
  {
   "cell_type": "code",
   "execution_count": 236,
   "id": "5be770ae",
   "metadata": {},
   "outputs": [
    {
     "name": "stdout",
     "output_type": "stream",
     "text": [
      "Best Parameters: {'ccp_alpha': 0.0}\n"
     ]
    }
   ],
   "source": [
    "param_grid = {\n",
    "    'ccp_alpha': [0.0, 0.001, 0.005, 0.01, 0.05]\n",
    "}\n",
    "\n",
    "# Initialize GridSearchCV\n",
    "grid_search = GridSearchCV(estimator=model_five_features, param_grid=param_grid, cv=5, scoring='f1')\n",
    "\n",
    "# Perform GridSearchCV\n",
    "grid_search.fit(X_train_5, y_train_5)\n",
    "\n",
    "# Get best parameters\n",
    "best_params = grid_search.best_params_\n",
    "\n",
    "# Print best parameters\n",
    "print(\"Best Parameters:\", best_params)"
   ]
  },
  {
   "cell_type": "markdown",
   "id": "7fbe4ad1",
   "metadata": {},
   "source": [
    "### 3.4.1 CCP Alpha = 0.0001"
   ]
  },
  {
   "cell_type": "code",
   "execution_count": 419,
   "id": "3e2c906d",
   "metadata": {},
   "outputs": [
    {
     "name": "stdout",
     "output_type": "stream",
     "text": [
      "Training set classification report with CCP Alpha of 0.0001:\n",
      "              precision    recall  f1-score   support\n",
      "\n",
      "           0       1.00      1.00      1.00      3608\n",
      "           1       1.00      1.00      1.00      1082\n",
      "\n",
      "    accuracy                           1.00      4690\n",
      "   macro avg       1.00      1.00      1.00      4690\n",
      "weighted avg       1.00      1.00      1.00      4690\n",
      "\n",
      "Validation set classification report with CCP Alpha of 0.001:\n",
      "              precision    recall  f1-score   support\n",
      "\n",
      "           0       0.99      0.99      0.99       767\n",
      "           1       0.41      0.50      0.45        14\n",
      "\n",
      "    accuracy                           0.98       781\n",
      "   macro avg       0.70      0.74      0.72       781\n",
      "weighted avg       0.98      0.98      0.98       781\n",
      "\n"
     ]
    }
   ],
   "source": [
    "# Define the CCP Alpha\n",
    "ccp_alpha = 0.0001\n",
    "\n",
    "# Initialize Decision Tree Classifier \n",
    "model_ccp_alpha_0001= DecisionTreeClassifier(random_state=42, ccp_alpha=ccp_alpha)\n",
    "\n",
    "# Fit the model on the full training data\n",
    "model_ccp_alpha_0001.fit(X_train_5, y_train_5)\n",
    "\n",
    "# Make predictions on the validation set\n",
    "y_val_pred_ccp_alpha_0001 = model_ccp_alpha_0001.predict(X_val_5)\n",
    "\n",
    "# Print classification report for train set \n",
    "print(\"Training set classification report with CCP Alpha of 0.0001:\")\n",
    "print(classification_report(y_train_5, model_ccp_alpha_0001.predict(X_train_5))) \n",
    "\n",
    "# Print classification report for validation set \n",
    "print(\"Validation set classification report with CCP Alpha of 0.001:\")\n",
    "print(classification_report(y_val_5, y_val_pred_ccp_alpha_0001)) "
   ]
  },
  {
   "cell_type": "code",
   "execution_count": 420,
   "id": "432a7105",
   "metadata": {},
   "outputs": [
    {
     "name": "stdout",
     "output_type": "stream",
     "text": [
      "Mean Macro Accuracy across all folds: 0.9816115547714637\n",
      "Mean Macro Precision across all folds: 0.9726273129211587\n",
      "Mean Macro Recall across all folds: 0.9757885295913523\n",
      "Mean Macro F1 Score across all folds: 0.9741791811572748\n"
     ]
    }
   ],
   "source": [
    "X_full = df_full[['distance', 'orbital_radius', 'mass_earth', 'radius_earth', 'stellar_magnitude']]\n",
    "y_full = df_full['Habitable']\n",
    "\n",
    "kf = KFold(n_splits=5, shuffle=True, random_state=42)\n",
    "\n",
    "# Define the CCP Alpha\n",
    "ccp_alpha = 0.0001\n",
    "\n",
    "# Initialize Decision Tree Classifier \n",
    "model = DecisionTreeClassifier(random_state=42, min_samples_split=min_samples_split)\n",
    "\n",
    "# Store evaluation metrics for each fold\n",
    "fold_accuracies= []\n",
    "fold_precisions = []\n",
    "fold_recalls = []\n",
    "fold_f1_scores = []\n",
    "\n",
    "for fold, (train_index, test_index) in enumerate(kf.split(X_full), 1):\n",
    "    X_train = X_full.iloc[train_index]\n",
    "    y_train = y_full[train_index]\n",
    "    X_test = X_full.iloc[test_index]\n",
    "    y_test = y_full[test_index]\n",
    "\n",
    "    # Fit the model on the training data\n",
    "    model.fit(X_train, y_train)\n",
    "\n",
    "    # Make predictions on the test data\n",
    "    y_pred = model.predict(X_test)\n",
    "\n",
    "    # Calculate evaluation metrics\n",
    "    accuracy = accuracy_score(y_test, y_pred)\n",
    "    precision = precision_score(y_test, y_pred, average='macro')\n",
    "    recall = recall_score(y_test, y_pred, average='macro')\n",
    "    f1 = f1_score(y_test, y_pred, average='macro')\n",
    "\n",
    "    # Append metrics to respective lists\n",
    "    fold_accuracies.append(accuracy)\n",
    "    fold_precisions.append(precision)\n",
    "    fold_recalls.append(recall)\n",
    "    fold_f1_scores.append(f1)\n",
    "\n",
    "# Mean evaluation metrics across all folds\n",
    "mean_accuracy = sum(fold_accuracies) / len(fold_accuracies)\n",
    "mean_precision = sum(fold_precisions) / len(fold_precisions)\n",
    "mean_recall = sum(fold_recalls) / len(fold_recalls)\n",
    "mean_f1 = sum(fold_f1_scores) / len(fold_f1_scores)\n",
    "\n",
    "print(f'Mean Macro Accuracy across all folds: {mean_accuracy}')\n",
    "print(f'Mean Macro Precision across all folds: {mean_precision}')\n",
    "print(f'Mean Macro Recall across all folds: {mean_recall}')\n",
    "print(f'Mean Macro F1 Score across all folds: {mean_f1}')"
   ]
  },
  {
   "cell_type": "markdown",
   "id": "fdfd9b96",
   "metadata": {},
   "source": [
    "### 3.4.2 CCP Alpha = 0.01"
   ]
  },
  {
   "cell_type": "code",
   "execution_count": 239,
   "id": "f7300aed",
   "metadata": {},
   "outputs": [
    {
     "name": "stdout",
     "output_type": "stream",
     "text": [
      "Training set classification report with CCP Alpha of 0.01:\n",
      "              precision    recall  f1-score   support\n",
      "\n",
      "           0       0.97      0.97      0.97      3608\n",
      "           1       0.89      0.91      0.90      1082\n",
      "\n",
      "    accuracy                           0.95      4690\n",
      "   macro avg       0.93      0.94      0.93      4690\n",
      "weighted avg       0.95      0.95      0.95      4690\n",
      "\n",
      "Validation set classification report with CCP Alpha of 0.01:\n",
      "              precision    recall  f1-score   support\n",
      "\n",
      "           0       0.99      0.97      0.98       767\n",
      "           1       0.26      0.64      0.37        14\n",
      "\n",
      "    accuracy                           0.96       781\n",
      "   macro avg       0.63      0.80      0.67       781\n",
      "weighted avg       0.98      0.96      0.97       781\n",
      "\n"
     ]
    }
   ],
   "source": [
    "# Define the CCP Alpha\n",
    "ccp_alpha = 0.01\n",
    "\n",
    "# Initialize Decision Tree Classifier \n",
    "model_ccp_alpha_01= DecisionTreeClassifier(random_state=42, ccp_alpha=ccp_alpha)\n",
    "\n",
    "# Fit the model on the full training data\n",
    "model_ccp_alpha_01.fit(X_train_5, y_train_5)\n",
    "\n",
    "# Make predictions on the validation set\n",
    "y_val_pred_ccp_alpha_01 = model_ccp_alpha_01.predict(X_val_5)\n",
    "\n",
    "# Print classification report for train set \n",
    "print(\"Training set classification report with CCP Alpha of 0.01:\")\n",
    "print(classification_report(y_train_5, model_ccp_alpha_01.predict(X_train_5))) \n",
    "\n",
    "# Print classification report for validation set \n",
    "print(\"Validation set classification report with CCP Alpha of 0.01:\")\n",
    "print(classification_report(y_val_5, y_val_pred_ccp_alpha_01)) "
   ]
  },
  {
   "cell_type": "code",
   "execution_count": 392,
   "id": "c943f59e",
   "metadata": {},
   "outputs": [
    {
     "name": "stdout",
     "output_type": "stream",
     "text": [
      "Mean Macro Accuracy across all folds: 0.9709974699620887\n",
      "Mean Macro Precision across all folds: 0.960229882015688\n",
      "Mean Macro Recall across all folds: 0.9580522497803908\n",
      "Mean Macro F1 Score across all folds: 0.9590846952696456\n"
     ]
    }
   ],
   "source": [
    "X_full = df_full[['distance', 'orbital_radius', 'mass_earth', 'radius_earth', 'stellar_magnitude']]\n",
    "y_full = df_full['Habitable']\n",
    "\n",
    "kf = KFold(n_splits=5, shuffle=True, random_state=42)\n",
    "\n",
    "# Define the CCP Alpha\n",
    "ccp_alpha = 0.01\n",
    "\n",
    "# Initialize Decision Tree Classifier \n",
    "model = DecisionTreeClassifier(random_state=42, min_samples_split=min_samples_split)\n",
    "\n",
    "# Store evaluation metrics for each fold\n",
    "fold_accuracies= []\n",
    "fold_precisions = []\n",
    "fold_recalls = []\n",
    "fold_f1_scores = []\n",
    "\n",
    "for fold, (train_index, test_index) in enumerate(kf.split(X_full), 1):\n",
    "    X_train = X_full.iloc[train_index]\n",
    "    y_train = y_full[train_index]\n",
    "    X_test = X_full.iloc[test_index]\n",
    "    y_test = y_full[test_index]\n",
    "\n",
    "    # Fit the model on the training data\n",
    "    model.fit(X_train, y_train)\n",
    "\n",
    "    # Make predictions on the test data\n",
    "    y_pred = model.predict(X_test)\n",
    "\n",
    "    # Calculate evaluation metrics\n",
    "    accuracy = accuracy_score(y_test, y_pred)\n",
    "    precision = precision_score(y_test, y_pred, average='macro')\n",
    "    recall = recall_score(y_test, y_pred, average='macro')\n",
    "    f1 = f1_score(y_test, y_pred, average='macro')\n",
    "\n",
    "    # Append metrics to respective lists\n",
    "    fold_accuracies.append(accuracy)\n",
    "    fold_precisions.append(precision)\n",
    "    fold_recalls.append(recall)\n",
    "    fold_f1_scores.append(f1)\n",
    "\n",
    "# Mean evaluation metrics across all folds\n",
    "mean_accuracy = sum(fold_accuracies) / len(fold_accuracies)\n",
    "mean_precision = sum(fold_precisions) / len(fold_precisions)\n",
    "mean_recall = sum(fold_recalls) / len(fold_recalls)\n",
    "mean_f1 = sum(fold_f1_scores) / len(fold_f1_scores)\n",
    "\n",
    "print(f'Mean Macro Accuracy across all folds: {mean_accuracy}')\n",
    "print(f'Mean Macro Precision across all folds: {mean_precision}')\n",
    "print(f'Mean Macro Recall across all folds: {mean_recall}')\n",
    "print(f'Mean Macro F1 Score across all folds: {mean_f1}')"
   ]
  },
  {
   "cell_type": "markdown",
   "id": "b0efb694",
   "metadata": {},
   "source": [
    "### 3.4.3 CCP Alpha = 0.05"
   ]
  },
  {
   "cell_type": "code",
   "execution_count": 241,
   "id": "0e5a8621",
   "metadata": {},
   "outputs": [
    {
     "name": "stdout",
     "output_type": "stream",
     "text": [
      "Training set classification report with CCP Alpha of 0.05:\n",
      "              precision    recall  f1-score   support\n",
      "\n",
      "           0       0.97      0.90      0.93      3608\n",
      "           1       0.74      0.91      0.81      1082\n",
      "\n",
      "    accuracy                           0.90      4690\n",
      "   macro avg       0.85      0.90      0.87      4690\n",
      "weighted avg       0.92      0.90      0.91      4690\n",
      "\n",
      "Validation set classification report with CCP Alpha of 0.05:\n",
      "              precision    recall  f1-score   support\n",
      "\n",
      "           0       1.00      0.89      0.94       767\n",
      "           1       0.12      0.79      0.20        14\n",
      "\n",
      "    accuracy                           0.89       781\n",
      "   macro avg       0.56      0.84      0.57       781\n",
      "weighted avg       0.98      0.89      0.93       781\n",
      "\n"
     ]
    }
   ],
   "source": [
    "# Define the CCP Alpha\n",
    "ccp_alpha = 0.05\n",
    "\n",
    "# Initialize Decision Tree Classifier \n",
    "model_ccp_alpha_05= DecisionTreeClassifier(random_state=42, ccp_alpha=ccp_alpha)\n",
    "\n",
    "# Fit the model on the full training data\n",
    "model_ccp_alpha_05.fit(X_train_5, y_train_5)\n",
    "\n",
    "# Make predictions on the validation set\n",
    "y_val_pred_ccp_alpha_05 = model_ccp_alpha_05.predict(X_val_5)\n",
    "\n",
    "# Print classification report for train set \n",
    "print(\"Training set classification report with CCP Alpha of 0.05:\")\n",
    "print(classification_report(y_train_5, model_ccp_alpha_05.predict(X_train_5))) \n",
    "\n",
    "# Print classification report for validation set \n",
    "print(\"Validation set classification report with CCP Alpha of 0.05:\")\n",
    "print(classification_report(y_val_5, y_val_pred_ccp_alpha_05)) "
   ]
  },
  {
   "cell_type": "code",
   "execution_count": 393,
   "id": "dfe04dc5",
   "metadata": {},
   "outputs": [
    {
     "name": "stdout",
     "output_type": "stream",
     "text": [
      "Mean Macro Accuracy across all folds: 0.9709974699620887\n",
      "Mean Macro Precision across all folds: 0.960229882015688\n",
      "Mean Macro Recall across all folds: 0.9580522497803908\n",
      "Mean Macro F1 Score across all folds: 0.9590846952696456\n"
     ]
    }
   ],
   "source": [
    "X_full = df_full[['distance', 'orbital_radius', 'mass_earth', 'radius_earth', 'stellar_magnitude']]\n",
    "y_full = df_full['Habitable']\n",
    "\n",
    "kf = KFold(n_splits=5, shuffle=True, random_state=42)\n",
    "\n",
    "# Define the CCP Alpha\n",
    "ccp_alpha = 0.05\n",
    "\n",
    "# Initialize Decision Tree Classifier \n",
    "model = DecisionTreeClassifier(random_state=42, min_samples_split=min_samples_split)\n",
    "\n",
    "# Store evaluation metrics for each fold\n",
    "fold_accuracies= []\n",
    "fold_precisions = []\n",
    "fold_recalls = []\n",
    "fold_f1_scores = []\n",
    "\n",
    "for fold, (train_index, test_index) in enumerate(kf.split(X_full), 1):\n",
    "    X_train = X_full.iloc[train_index]\n",
    "    y_train = y_full[train_index]\n",
    "    X_test = X_full.iloc[test_index]\n",
    "    y_test = y_full[test_index]\n",
    "\n",
    "    # Fit the model on the training data\n",
    "    model.fit(X_train, y_train)\n",
    "\n",
    "    # Make predictions on the test data\n",
    "    y_pred = model.predict(X_test)\n",
    "\n",
    "    # Calculate evaluation metrics\n",
    "    accuracy = accuracy_score(y_test, y_pred)\n",
    "    precision = precision_score(y_test, y_pred, average='macro')\n",
    "    recall = recall_score(y_test, y_pred, average='macro')\n",
    "    f1 = f1_score(y_test, y_pred, average='macro')\n",
    "\n",
    "    # Append metrics to respective lists\n",
    "    fold_accuracies.append(accuracy)\n",
    "    fold_precisions.append(precision)\n",
    "    fold_recalls.append(recall)\n",
    "    fold_f1_scores.append(f1)\n",
    "\n",
    "# Mean evaluation metrics across all folds\n",
    "mean_accuracy = sum(fold_accuracies) / len(fold_accuracies)\n",
    "mean_precision = sum(fold_precisions) / len(fold_precisions)\n",
    "mean_recall = sum(fold_recalls) / len(fold_recalls)\n",
    "mean_f1 = sum(fold_f1_scores) / len(fold_f1_scores)\n",
    "\n",
    "print(f'Mean Macro Accuracy across all folds: {mean_accuracy}')\n",
    "print(f'Mean Macro Precision across all folds: {mean_precision}')\n",
    "print(f'Mean Macro Recall across all folds: {mean_recall}')\n",
    "print(f'Mean Macro F1 Score across all folds: {mean_f1}')"
   ]
  },
  {
   "cell_type": "markdown",
   "id": "e8f99154",
   "metadata": {},
   "source": [
    "## 3.5 Criterion\n",
    "This specifies the function to measure the quality of a split. It can take two values: 'gini' for the Gini impurity and 'entropy' for the information gain. These criteria determine how the decision tree selects the best feature to split on at each node."
   ]
  },
  {
   "cell_type": "code",
   "execution_count": 243,
   "id": "15b305a8",
   "metadata": {},
   "outputs": [
    {
     "name": "stdout",
     "output_type": "stream",
     "text": [
      "Best Parameters: {'criterion': 'entropy'}\n"
     ]
    }
   ],
   "source": [
    "param_grid = {\n",
    "    'criterion': ['gini', 'entropy']\n",
    "}\n",
    "\n",
    "# Initialize GridSearchCV\n",
    "grid_search = GridSearchCV(estimator=model_five_features, param_grid=param_grid, cv=5, scoring='f1')\n",
    "\n",
    "# Perform GridSearchCV\n",
    "grid_search.fit(X_train_5, y_train_5)\n",
    "\n",
    "# Get best parameters\n",
    "best_params = grid_search.best_params_\n",
    "\n",
    "# Print best parameters\n",
    "print(\"Best Parameters:\", best_params)"
   ]
  },
  {
   "cell_type": "markdown",
   "id": "a3fcbe89",
   "metadata": {},
   "source": [
    "### 3.5.1 Criterion = Gini"
   ]
  },
  {
   "cell_type": "code",
   "execution_count": 244,
   "id": "89303145",
   "metadata": {},
   "outputs": [
    {
     "name": "stdout",
     "output_type": "stream",
     "text": [
      "Training set classification report with Criterion Gini:\n",
      "              precision    recall  f1-score   support\n",
      "\n",
      "           0       1.00      1.00      1.00      3608\n",
      "           1       1.00      1.00      1.00      1082\n",
      "\n",
      "    accuracy                           1.00      4690\n",
      "   macro avg       1.00      1.00      1.00      4690\n",
      "weighted avg       1.00      1.00      1.00      4690\n",
      "\n",
      "Validation set classification report with Criterion Gini:\n",
      "              precision    recall  f1-score   support\n",
      "\n",
      "           0       0.99      0.99      0.99       767\n",
      "           1       0.41      0.50      0.45        14\n",
      "\n",
      "    accuracy                           0.98       781\n",
      "   macro avg       0.70      0.74      0.72       781\n",
      "weighted avg       0.98      0.98      0.98       781\n",
      "\n"
     ]
    }
   ],
   "source": [
    "# Define the citerion\n",
    "criterion = 'gini'\n",
    "\n",
    "# Initialize Decision Tree Classifier \n",
    "model_criterion_gini= DecisionTreeClassifier(random_state=42, criterion=criterion)\n",
    "\n",
    "# Fit the model on the full training data\n",
    "model_criterion_gini.fit(X_train_5, y_train_5)\n",
    "\n",
    "# Make predictions on the validation set\n",
    "y_val_pred_criterion_gini = model_criterion_gini.predict(X_val_5)\n",
    "\n",
    "# Print classification report for train set \n",
    "print(\"Training set classification report with Criterion Gini:\")\n",
    "print(classification_report(y_train_5, model_criterion_gini.predict(X_train_5))) \n",
    "\n",
    "# Print classification report for validation set \n",
    "print(\"Validation set classification report with Criterion Gini:\")\n",
    "print(classification_report(y_val_5, y_val_pred_criterion_gini)) "
   ]
  },
  {
   "cell_type": "code",
   "execution_count": 394,
   "id": "cf69d55c",
   "metadata": {},
   "outputs": [
    {
     "name": "stdout",
     "output_type": "stream",
     "text": [
      "Mean Macro Accuracy across all folds: 0.9832560235138124\n",
      "Mean Macro Precision across all folds: 0.9744511141707222\n",
      "Mean Macro Recall across all folds: 0.9786795899451987\n",
      "Mean Macro F1 Score across all folds: 0.9765242241110277\n"
     ]
    }
   ],
   "source": [
    "X_full = df_full[['distance', 'orbital_radius', 'mass_earth', 'radius_earth', 'stellar_magnitude']]\n",
    "y_full = df_full['Habitable']\n",
    "\n",
    "kf = KFold(n_splits=5, shuffle=True, random_state=42)\n",
    "\n",
    "# Define the criterion\n",
    "criterion = 'gini'\n",
    "\n",
    "# Initialize Decision Tree Classifier \n",
    "model= DecisionTreeClassifier(random_state=42, criterion=criterion)\n",
    "\n",
    "# Store evaluation metrics for each fold\n",
    "fold_accuracies= []\n",
    "fold_precisions = []\n",
    "fold_recalls = []\n",
    "fold_f1_scores = []\n",
    "\n",
    "for fold, (train_index, test_index) in enumerate(kf.split(X_full), 1):\n",
    "    X_train = X_full.iloc[train_index]\n",
    "    y_train = y_full[train_index]\n",
    "    X_test = X_full.iloc[test_index]\n",
    "    y_test = y_full[test_index]\n",
    "\n",
    "    # Fit the model on the training data\n",
    "    model.fit(X_train, y_train)\n",
    "\n",
    "    # Make predictions on the test data\n",
    "    y_pred = model.predict(X_test)\n",
    "\n",
    "    # Calculate evaluation metrics\n",
    "    accuracy = accuracy_score(y_test, y_pred)\n",
    "    precision = precision_score(y_test, y_pred, average='macro')\n",
    "    recall = recall_score(y_test, y_pred, average='macro')\n",
    "    f1 = f1_score(y_test, y_pred, average='macro')\n",
    "\n",
    "    # Append metrics to respective lists\n",
    "    fold_accuracies.append(accuracy)\n",
    "    fold_precisions.append(precision)\n",
    "    fold_recalls.append(recall)\n",
    "    fold_f1_scores.append(f1)\n",
    "\n",
    "# Mean evaluation metrics across all folds\n",
    "mean_accuracy = sum(fold_accuracies) / len(fold_accuracies)\n",
    "mean_precision = sum(fold_precisions) / len(fold_precisions)\n",
    "mean_recall = sum(fold_recalls) / len(fold_recalls)\n",
    "mean_f1 = sum(fold_f1_scores) / len(fold_f1_scores)\n",
    "\n",
    "print(f'Mean Macro Accuracy across all folds: {mean_accuracy}')\n",
    "print(f'Mean Macro Precision across all folds: {mean_precision}')\n",
    "print(f'Mean Macro Recall across all folds: {mean_recall}')\n",
    "print(f'Mean Macro F1 Score across all folds: {mean_f1}')"
   ]
  },
  {
   "cell_type": "markdown",
   "id": "ccbedbc7",
   "metadata": {},
   "source": [
    "### 3.5.2 Criterion = Entropy"
   ]
  },
  {
   "cell_type": "code",
   "execution_count": 246,
   "id": "b43e431a",
   "metadata": {},
   "outputs": [
    {
     "name": "stdout",
     "output_type": "stream",
     "text": [
      "Training set classification report with Criterion Entropy:\n",
      "              precision    recall  f1-score   support\n",
      "\n",
      "           0       1.00      1.00      1.00      3608\n",
      "           1       1.00      1.00      1.00      1082\n",
      "\n",
      "    accuracy                           1.00      4690\n",
      "   macro avg       1.00      1.00      1.00      4690\n",
      "weighted avg       1.00      1.00      1.00      4690\n",
      "\n",
      "Validation set classification report with Criterion Entropy:\n",
      "              precision    recall  f1-score   support\n",
      "\n",
      "           0       0.99      0.99      0.99       767\n",
      "           1       0.56      0.64      0.60        14\n",
      "\n",
      "    accuracy                           0.98       781\n",
      "   macro avg       0.78      0.82      0.80       781\n",
      "weighted avg       0.99      0.98      0.99       781\n",
      "\n"
     ]
    }
   ],
   "source": [
    "# Define the citerion\n",
    "criterion = 'entropy'\n",
    "\n",
    "# Initialize Decision Tree Classifier with the specified \n",
    "model_criterion_entropy= DecisionTreeClassifier(random_state=42, criterion=criterion)\n",
    "\n",
    "# Fit the model on the full training data\n",
    "model_criterion_entropy.fit(X_train_5, y_train_5)\n",
    "\n",
    "# Make predictions on the validation set\n",
    "y_val_pred_criterion_entropy = model_criterion_entropy.predict(X_val_5)\n",
    "\n",
    "# Print classification report for train set \n",
    "print(\"Training set classification report with Criterion Entropy:\")\n",
    "print(classification_report(y_train_5, model_criterion_entropy.predict(X_train_5))) \n",
    "\n",
    "# Print classification report for validation set \n",
    "print(\"Validation set classification report with Criterion Entropy:\")\n",
    "print(classification_report(y_val_5, y_val_pred_criterion_entropy)) "
   ]
  },
  {
   "cell_type": "code",
   "execution_count": 395,
   "id": "ab157e5b",
   "metadata": {},
   "outputs": [
    {
     "name": "stdout",
     "output_type": "stream",
     "text": [
      "Mean Macro Accuracy across all folds: 0.9859470536741449\n",
      "Mean Macro Precision across all folds: 0.9770516720066331\n",
      "Mean Macro Recall across all folds: 0.9838546336852257\n",
      "Mean Macro F1 Score across all folds: 0.9803561909244823\n"
     ]
    }
   ],
   "source": [
    "X_full = df_full[['distance', 'orbital_radius', 'mass_earth', 'radius_earth', 'stellar_magnitude']]\n",
    "y_full = df_full['Habitable']\n",
    "\n",
    "kf = KFold(n_splits=5, shuffle=True, random_state=42)\n",
    "\n",
    "# Define the criterion\n",
    "criterion = 'entropy'\n",
    "\n",
    "# Initialize Decision Tree Classifier \n",
    "model= DecisionTreeClassifier(random_state=42, criterion=criterion)\n",
    "\n",
    "# Store evaluation metrics for each fold\n",
    "fold_accuracies= []\n",
    "fold_precisions = []\n",
    "fold_recalls = []\n",
    "fold_f1_scores = []\n",
    "\n",
    "for fold, (train_index, test_index) in enumerate(kf.split(X_full), 1):\n",
    "    X_train = X_full.iloc[train_index]\n",
    "    y_train = y_full[train_index]\n",
    "    X_test = X_full.iloc[test_index]\n",
    "    y_test = y_full[test_index]\n",
    "\n",
    "    # Fit the model on the training data\n",
    "    model.fit(X_train, y_train)\n",
    "\n",
    "    # Make predictions on the test data\n",
    "    y_pred = model.predict(X_test)\n",
    "\n",
    "    # Calculate evaluation metrics\n",
    "    accuracy = accuracy_score(y_test, y_pred)\n",
    "    precision = precision_score(y_test, y_pred, average='macro')\n",
    "    recall = recall_score(y_test, y_pred, average='macro')\n",
    "    f1 = f1_score(y_test, y_pred, average='macro')\n",
    "\n",
    "    # Append metrics to respective lists\n",
    "    fold_accuracies.append(accuracy)\n",
    "    fold_precisions.append(precision)\n",
    "    fold_recalls.append(recall)\n",
    "    fold_f1_scores.append(f1)\n",
    "\n",
    "# Mean evaluation metrics across all folds\n",
    "mean_accuracy = sum(fold_accuracies) / len(fold_accuracies)\n",
    "mean_precision = sum(fold_precisions) / len(fold_precisions)\n",
    "mean_recall = sum(fold_recalls) / len(fold_recalls)\n",
    "mean_f1 = sum(fold_f1_scores) / len(fold_f1_scores)\n",
    "\n",
    "print(f'Mean Macro Accuracy across all folds: {mean_accuracy}')\n",
    "print(f'Mean Macro Precision across all folds: {mean_precision}')\n",
    "print(f'Mean Macro Recall across all folds: {mean_recall}')\n",
    "print(f'Mean Macro F1 Score across all folds: {mean_f1}')"
   ]
  },
  {
   "cell_type": "markdown",
   "id": "0726e2e1",
   "metadata": {},
   "source": [
    "## 3.6 Max_features: \n",
    "\n",
    "This parameter specifies the number of features to consider when looking for the best split. It can take various values like 'auto', 'sqrt', 'log2', or an integer. If set to None (default), all features will be considered for splitting at each node."
   ]
  },
  {
   "cell_type": "code",
   "execution_count": 248,
   "id": "d155d7bd",
   "metadata": {},
   "outputs": [
    {
     "name": "stderr",
     "output_type": "stream",
     "text": [
      "/Users/harrietsmacbook/anaconda3/lib/python3.11/site-packages/sklearn/tree/_classes.py:269: FutureWarning: `max_features='auto'` has been deprecated in 1.1 and will be removed in 1.3. To keep the past behaviour, explicitly set `max_features='sqrt'`.\n",
      "  warnings.warn(\n",
      "/Users/harrietsmacbook/anaconda3/lib/python3.11/site-packages/sklearn/tree/_classes.py:269: FutureWarning: `max_features='auto'` has been deprecated in 1.1 and will be removed in 1.3. To keep the past behaviour, explicitly set `max_features='sqrt'`.\n",
      "  warnings.warn(\n",
      "/Users/harrietsmacbook/anaconda3/lib/python3.11/site-packages/sklearn/tree/_classes.py:269: FutureWarning: `max_features='auto'` has been deprecated in 1.1 and will be removed in 1.3. To keep the past behaviour, explicitly set `max_features='sqrt'`.\n",
      "  warnings.warn(\n",
      "/Users/harrietsmacbook/anaconda3/lib/python3.11/site-packages/sklearn/tree/_classes.py:269: FutureWarning: `max_features='auto'` has been deprecated in 1.1 and will be removed in 1.3. To keep the past behaviour, explicitly set `max_features='sqrt'`.\n",
      "  warnings.warn(\n",
      "/Users/harrietsmacbook/anaconda3/lib/python3.11/site-packages/sklearn/tree/_classes.py:269: FutureWarning: `max_features='auto'` has been deprecated in 1.1 and will be removed in 1.3. To keep the past behaviour, explicitly set `max_features='sqrt'`.\n",
      "  warnings.warn(\n"
     ]
    },
    {
     "name": "stdout",
     "output_type": "stream",
     "text": [
      "Best Parameters: {'max_features': None}\n"
     ]
    }
   ],
   "source": [
    "param_grid = {\n",
    "    'max_features': ['auto', 'sqrt', 'log2', None]\n",
    "}\n",
    "\n",
    "# Initialize GridSearchCV\n",
    "grid_search = GridSearchCV(estimator=model_five_features, param_grid=param_grid, cv=5, scoring='f1')\n",
    "\n",
    "# Perform GridSearchCV\n",
    "grid_search.fit(X_train_5, y_train_5)\n",
    "\n",
    "# Get best parameters\n",
    "best_params = grid_search.best_params_\n",
    "\n",
    "# Print best parameters\n",
    "print(\"Best Parameters:\", best_params)"
   ]
  },
  {
   "cell_type": "markdown",
   "id": "f5eddc0b",
   "metadata": {},
   "source": [
    "### 3.6.1 Max Features = auto"
   ]
  },
  {
   "cell_type": "code",
   "execution_count": 249,
   "id": "03fd6471",
   "metadata": {},
   "outputs": [
    {
     "name": "stdout",
     "output_type": "stream",
     "text": [
      "Training set classification report with Max Features Auto:\n",
      "              precision    recall  f1-score   support\n",
      "\n",
      "           0       1.00      1.00      1.00      3608\n",
      "           1       1.00      1.00      1.00      1082\n",
      "\n",
      "    accuracy                           1.00      4690\n",
      "   macro avg       1.00      1.00      1.00      4690\n",
      "weighted avg       1.00      1.00      1.00      4690\n",
      "\n",
      "Validation set classification report with Max Features Auto:\n",
      "              precision    recall  f1-score   support\n",
      "\n",
      "           0       0.99      0.99      0.99       767\n",
      "           1       0.44      0.50      0.47        14\n",
      "\n",
      "    accuracy                           0.98       781\n",
      "   macro avg       0.71      0.74      0.73       781\n",
      "weighted avg       0.98      0.98      0.98       781\n",
      "\n"
     ]
    },
    {
     "name": "stderr",
     "output_type": "stream",
     "text": [
      "/Users/harrietsmacbook/anaconda3/lib/python3.11/site-packages/sklearn/tree/_classes.py:269: FutureWarning: `max_features='auto'` has been deprecated in 1.1 and will be removed in 1.3. To keep the past behaviour, explicitly set `max_features='sqrt'`.\n",
      "  warnings.warn(\n"
     ]
    }
   ],
   "source": [
    "# Define the max features\n",
    "max_features = 'auto'\n",
    "\n",
    "# Initialize Decision Tree Classifier \n",
    "model_max_features_auto= DecisionTreeClassifier(random_state=42, max_features=max_features)\n",
    "\n",
    "# Fit the model on the full training data\n",
    "model_max_features_auto.fit(X_train_5, y_train_5)\n",
    "\n",
    "# Make predictions on the validation set\n",
    "y_val_pred_max_features_auto = model_max_features_auto.predict(X_val_5)\n",
    "\n",
    "# Print classification report for train set \n",
    "print(\"Training set classification report with Max Features Auto:\")\n",
    "print(classification_report(y_train_5, model_max_features_auto.predict(X_train_5))) \n",
    "\n",
    "# Print classification report for validation set \n",
    "print(\"Validation set classification report with Max Features Auto:\")\n",
    "print(classification_report(y_val_5, y_val_pred_max_features_auto)) "
   ]
  },
  {
   "cell_type": "code",
   "execution_count": 396,
   "id": "c07f8b98",
   "metadata": {},
   "outputs": [
    {
     "name": "stdout",
     "output_type": "stream",
     "text": [
      "Mean Macro Accuracy across all folds: 0.9822094620958284\n",
      "Mean Macro Precision across all folds: 0.9720731100854678\n",
      "Mean Macro Recall across all folds: 0.9782404882256246\n",
      "Mean Macro F1 Score across all folds: 0.9751059651397431\n"
     ]
    }
   ],
   "source": [
    "X_full = df_full[['distance', 'orbital_radius', 'mass_earth', 'radius_earth', 'stellar_magnitude']]\n",
    "y_full = df_full['Habitable']\n",
    "\n",
    "kf = KFold(n_splits=5, shuffle=True, random_state=42)\n",
    "\n",
    "# Define the criterion\n",
    "max_features = 'sqrt'\n",
    "\n",
    "# Initialize Decision Tree Classifier \n",
    "model = DecisionTreeClassifier(random_state=42, max_features=max_features)\n",
    "\n",
    "# Store evaluation metrics for each fold\n",
    "fold_accuracies= []\n",
    "fold_precisions = []\n",
    "fold_recalls = []\n",
    "fold_f1_scores = []\n",
    "\n",
    "for fold, (train_index, test_index) in enumerate(kf.split(X_full), 1):\n",
    "    X_train = X_full.iloc[train_index]\n",
    "    y_train = y_full[train_index]\n",
    "    X_test = X_full.iloc[test_index]\n",
    "    y_test = y_full[test_index]\n",
    "\n",
    "    # Fit the model on the training data\n",
    "    model.fit(X_train, y_train)\n",
    "\n",
    "    # Make predictions on the test data\n",
    "    y_pred = model.predict(X_test)\n",
    "\n",
    "    # Calculate evaluation metrics\n",
    "    accuracy = accuracy_score(y_test, y_pred)\n",
    "    precision = precision_score(y_test, y_pred, average='macro')\n",
    "    recall = recall_score(y_test, y_pred, average='macro')\n",
    "    f1 = f1_score(y_test, y_pred, average='macro')\n",
    "\n",
    "    # Append metrics to respective lists\n",
    "    fold_accuracies.append(accuracy)\n",
    "    fold_precisions.append(precision)\n",
    "    fold_recalls.append(recall)\n",
    "    fold_f1_scores.append(f1)\n",
    "\n",
    "# Mean evaluation metrics across all folds\n",
    "mean_accuracy = sum(fold_accuracies) / len(fold_accuracies)\n",
    "mean_precision = sum(fold_precisions) / len(fold_precisions)\n",
    "mean_recall = sum(fold_recalls) / len(fold_recalls)\n",
    "mean_f1 = sum(fold_f1_scores) / len(fold_f1_scores)\n",
    "\n",
    "print(f'Mean Macro Accuracy across all folds: {mean_accuracy}')\n",
    "print(f'Mean Macro Precision across all folds: {mean_precision}')\n",
    "print(f'Mean Macro Recall across all folds: {mean_recall}')\n",
    "print(f'Mean Macro F1 Score across all folds: {mean_f1}')"
   ]
  },
  {
   "cell_type": "markdown",
   "id": "aa914ed8",
   "metadata": {},
   "source": [
    "### 3.6.2 Max Features = None"
   ]
  },
  {
   "cell_type": "code",
   "execution_count": 251,
   "id": "6f4984c6",
   "metadata": {},
   "outputs": [
    {
     "name": "stdout",
     "output_type": "stream",
     "text": [
      "Training set classification report with Max Features None:\n",
      "              precision    recall  f1-score   support\n",
      "\n",
      "           0       1.00      1.00      1.00      3608\n",
      "           1       1.00      1.00      1.00      1082\n",
      "\n",
      "    accuracy                           1.00      4690\n",
      "   macro avg       1.00      1.00      1.00      4690\n",
      "weighted avg       1.00      1.00      1.00      4690\n",
      "\n",
      "Validation set classification report with Max Features None:\n",
      "              precision    recall  f1-score   support\n",
      "\n",
      "           0       0.99      0.99      0.99       767\n",
      "           1       0.41      0.50      0.45        14\n",
      "\n",
      "    accuracy                           0.98       781\n",
      "   macro avg       0.70      0.74      0.72       781\n",
      "weighted avg       0.98      0.98      0.98       781\n",
      "\n"
     ]
    }
   ],
   "source": [
    "# Define the max features\n",
    "max_features = None\n",
    "\n",
    "# Initialize Decision Tree Classifier \n",
    "model_max_features_none= DecisionTreeClassifier(random_state=42, max_features=max_features)\n",
    "\n",
    "# Fit the model on the full training data\n",
    "model_max_features_none.fit(X_train_5, y_train_5)\n",
    "\n",
    "# Make predictions on the validation set\n",
    "y_val_pred_max_features_none = model_max_features_none.predict(X_val_5)\n",
    "\n",
    "# Print classification report for train set \n",
    "print(\"Training set classification report with Max Features None:\")\n",
    "print(classification_report(y_train_5, model_max_features_none.predict(X_train_5))) \n",
    "\n",
    "# Print classification report for validation set \n",
    "print(\"Validation set classification report with Max Features None:\")\n",
    "print(classification_report(y_val_5, y_val_pred_max_features_none)) "
   ]
  },
  {
   "cell_type": "code",
   "execution_count": 398,
   "id": "116ec25a",
   "metadata": {},
   "outputs": [
    {
     "name": "stdout",
     "output_type": "stream",
     "text": [
      "Mean Macro Accuracy across all folds: 0.9832560235138124\n",
      "Mean Macro Precision across all folds: 0.9744511141707222\n",
      "Mean Macro Recall across all folds: 0.9786795899451987\n",
      "Mean Macro F1 Score across all folds: 0.9765242241110277\n"
     ]
    }
   ],
   "source": [
    "X_full = df_full[['distance', 'orbital_radius', 'mass_earth', 'radius_earth', 'stellar_magnitude']]\n",
    "y_full = df_full['Habitable']\n",
    "\n",
    "kf = KFold(n_splits=5, shuffle=True, random_state=42)\n",
    "\n",
    "# Define the criterion\n",
    "max_features = None\n",
    "\n",
    "# Initialize Decision Tree Classifier \n",
    "model = DecisionTreeClassifier(random_state=42, max_features=max_features)\n",
    "\n",
    "# Store evaluation metrics for each fold\n",
    "fold_accuracies= []\n",
    "fold_precisions = []\n",
    "fold_recalls = []\n",
    "fold_f1_scores = []\n",
    "\n",
    "for fold, (train_index, test_index) in enumerate(kf.split(X_full), 1):\n",
    "    X_train = X_full.iloc[train_index]\n",
    "    y_train = y_full[train_index]\n",
    "    X_test = X_full.iloc[test_index]\n",
    "    y_test = y_full[test_index]\n",
    "\n",
    "    # Fit the model on the training data\n",
    "    model.fit(X_train, y_train)\n",
    "\n",
    "    # Make predictions on the test data\n",
    "    y_pred = model.predict(X_test)\n",
    "\n",
    "    # Calculate evaluation metrics\n",
    "    accuracy = accuracy_score(y_test, y_pred)\n",
    "    precision = precision_score(y_test, y_pred, average='macro')\n",
    "    recall = recall_score(y_test, y_pred, average='macro')\n",
    "    f1 = f1_score(y_test, y_pred, average='macro')\n",
    "\n",
    "    # Append metrics to respective lists\n",
    "    fold_accuracies.append(accuracy)\n",
    "    fold_precisions.append(precision)\n",
    "    fold_recalls.append(recall)\n",
    "    fold_f1_scores.append(f1)\n",
    "\n",
    "# Mean evaluation metrics across all folds\n",
    "mean_accuracy = sum(fold_accuracies) / len(fold_accuracies)\n",
    "mean_precision = sum(fold_precisions) / len(fold_precisions)\n",
    "mean_recall = sum(fold_recalls) / len(fold_recalls)\n",
    "mean_f1 = sum(fold_f1_scores) / len(fold_f1_scores)\n",
    "\n",
    "print(f'Mean Macro Accuracy across all folds: {mean_accuracy}')\n",
    "print(f'Mean Macro Precision across all folds: {mean_precision}')\n",
    "print(f'Mean Macro Recall across all folds: {mean_recall}')\n",
    "print(f'Mean Macro F1 Score across all folds: {mean_f1}')"
   ]
  },
  {
   "cell_type": "markdown",
   "id": "6cf40422",
   "metadata": {},
   "source": [
    "## 3.7 Max Leaf Nodes\n",
    "This parameter specifies the maximum number of leaf nodes in the decision tree. If set, the tree will be pruned such that it has no more than this number of leaf nodes."
   ]
  },
  {
   "cell_type": "code",
   "execution_count": 220,
   "id": "9cedb2d4",
   "metadata": {},
   "outputs": [
    {
     "name": "stdout",
     "output_type": "stream",
     "text": [
      "Best Parameters: {'max_leaf_nodes': 100}\n"
     ]
    }
   ],
   "source": [
    "param_grid = {\n",
    "    'max_leaf_nodes': [None, 10, 50, 100, 200, 500, 1000]\n",
    "}\n",
    "\n",
    "\n",
    "# Initialize GridSearchCV\n",
    "grid_search = GridSearchCV(estimator=model_five_features, param_grid=param_grid, cv=5, scoring='f1')\n",
    "\n",
    "# Perform GridSearchCV\n",
    "grid_search.fit(X_train_5, y_train_5)\n",
    "\n",
    "# Get best parameters\n",
    "best_params = grid_search.best_params_\n",
    "\n",
    "# Print best parameters\n",
    "print(\"Best Parameters:\", best_params)"
   ]
  },
  {
   "cell_type": "markdown",
   "id": "e73311be",
   "metadata": {},
   "source": [
    "### 3.7.1 Max Leaf Nodes = 10"
   ]
  },
  {
   "cell_type": "code",
   "execution_count": 253,
   "id": "8d89c0bb",
   "metadata": {},
   "outputs": [
    {
     "name": "stdout",
     "output_type": "stream",
     "text": [
      "Training set classification report with Max Leaf Nodes 10:\n",
      "              precision    recall  f1-score   support\n",
      "\n",
      "           0       0.99      0.97      0.98      3608\n",
      "           1       0.91      0.95      0.93      1082\n",
      "\n",
      "    accuracy                           0.97      4690\n",
      "   macro avg       0.95      0.96      0.95      4690\n",
      "weighted avg       0.97      0.97      0.97      4690\n",
      "\n",
      "Validation set classification report with Max Leaf Nodes 10:\n",
      "              precision    recall  f1-score   support\n",
      "\n",
      "           0       0.99      0.96      0.98       767\n",
      "           1       0.26      0.71      0.38        14\n",
      "\n",
      "    accuracy                           0.96       781\n",
      "   macro avg       0.63      0.84      0.68       781\n",
      "weighted avg       0.98      0.96      0.97       781\n",
      "\n"
     ]
    }
   ],
   "source": [
    "# Define the max leaf nodes\n",
    "max_leaf_nodes = 10\n",
    "\n",
    "# Initialize Decision Tree Classifier \n",
    "model_max_leaf_nodes_10= DecisionTreeClassifier(random_state=42, max_leaf_nodes=max_leaf_nodes)\n",
    "\n",
    "# Fit the model on the full training data\n",
    "model_max_leaf_nodes_10.fit(X_train_5, y_train_5)\n",
    "\n",
    "# Make predictions on the validation set\n",
    "y_val_pred_max_leaf_nodes_10 = model_max_leaf_nodes_10.predict(X_val_5)\n",
    "\n",
    "# Print classification report for train set \n",
    "print(\"Training set classification report with Max Leaf Nodes 10:\")\n",
    "print(classification_report(y_train_5, model_max_leaf_nodes_10.predict(X_train_5))) \n",
    "\n",
    "# Print classification report for validation set \n",
    "print(\"Validation set classification report with Max Leaf Nodes 10:\")\n",
    "print(classification_report(y_val_5, y_val_pred_max_leaf_nodes_10)) "
   ]
  },
  {
   "cell_type": "code",
   "execution_count": 399,
   "id": "72ed5085",
   "metadata": {},
   "outputs": [
    {
     "name": "stdout",
     "output_type": "stream",
     "text": [
      "Mean Macro Accuracy across all folds: 0.9544011815042266\n",
      "Mean Macro Precision across all folds: 0.9237114034737788\n",
      "Mean Macro Recall across all folds: 0.9560571268872972\n",
      "Mean Macro F1 Score across all folds: 0.9383293765871397\n"
     ]
    }
   ],
   "source": [
    "X_full = df_full[['distance', 'orbital_radius', 'mass_earth', 'radius_earth', 'stellar_magnitude']]\n",
    "y_full = df_full['Habitable']\n",
    "\n",
    "kf = KFold(n_splits=5, shuffle=True, random_state=42)\n",
    "\n",
    "# Define the criterion\n",
    "max_leaf_nodes = 10\n",
    "\n",
    "# Initialize Decision Tree Classifier \n",
    "model = DecisionTreeClassifier(random_state=42, max_leaf_nodes=max_leaf_nodes)\n",
    "\n",
    "# Store evaluation metrics for each fold\n",
    "fold_accuracies= []\n",
    "fold_precisions = []\n",
    "fold_recalls = []\n",
    "fold_f1_scores = []\n",
    "\n",
    "for fold, (train_index, test_index) in enumerate(kf.split(X_full), 1):\n",
    "    X_train = X_full.iloc[train_index]\n",
    "    y_train = y_full[train_index]\n",
    "    X_test = X_full.iloc[test_index]\n",
    "    y_test = y_full[test_index]\n",
    "\n",
    "    # Fit the model on the training data\n",
    "    model.fit(X_train, y_train)\n",
    "\n",
    "    # Make predictions on the test data\n",
    "    y_pred = model.predict(X_test)\n",
    "\n",
    "    # Calculate evaluation metrics\n",
    "    accuracy = accuracy_score(y_test, y_pred)\n",
    "    precision = precision_score(y_test, y_pred, average='macro')\n",
    "    recall = recall_score(y_test, y_pred, average='macro')\n",
    "    f1 = f1_score(y_test, y_pred, average='macro')\n",
    "\n",
    "    # Append metrics to respective lists\n",
    "    fold_accuracies.append(accuracy)\n",
    "    fold_precisions.append(precision)\n",
    "    fold_recalls.append(recall)\n",
    "    fold_f1_scores.append(f1)\n",
    "\n",
    "# Mean evaluation metrics across all folds\n",
    "mean_accuracy = sum(fold_accuracies) / len(fold_accuracies)\n",
    "mean_precision = sum(fold_precisions) / len(fold_precisions)\n",
    "mean_recall = sum(fold_recalls) / len(fold_recalls)\n",
    "mean_f1 = sum(fold_f1_scores) / len(fold_f1_scores)\n",
    "\n",
    "print(f'Mean Macro Accuracy across all folds: {mean_accuracy}')\n",
    "print(f'Mean Macro Precision across all folds: {mean_precision}')\n",
    "print(f'Mean Macro Recall across all folds: {mean_recall}')\n",
    "print(f'Mean Macro F1 Score across all folds: {mean_f1}')"
   ]
  },
  {
   "cell_type": "markdown",
   "id": "1fb47227",
   "metadata": {},
   "source": [
    "### 3.7.2 Max Leaf Nodes = 50"
   ]
  },
  {
   "cell_type": "code",
   "execution_count": 255,
   "id": "eb422f51",
   "metadata": {},
   "outputs": [
    {
     "name": "stdout",
     "output_type": "stream",
     "text": [
      "Training set classification report with Max Leaf Nodes 50:\n",
      "              precision    recall  f1-score   support\n",
      "\n",
      "           0       1.00      1.00      1.00      3608\n",
      "           1       0.99      1.00      0.99      1082\n",
      "\n",
      "    accuracy                           1.00      4690\n",
      "   macro avg       0.99      1.00      0.99      4690\n",
      "weighted avg       1.00      1.00      1.00      4690\n",
      "\n",
      "Validation set classification report with Max Leaf Nodes 50:\n",
      "              precision    recall  f1-score   support\n",
      "\n",
      "           0       0.99      0.99      0.99       767\n",
      "           1       0.44      0.57      0.50        14\n",
      "\n",
      "    accuracy                           0.98       781\n",
      "   macro avg       0.72      0.78      0.74       781\n",
      "weighted avg       0.98      0.98      0.98       781\n",
      "\n"
     ]
    }
   ],
   "source": [
    "# Define the max leaf nodes\n",
    "max_leaf_nodes = 50\n",
    "\n",
    "# Initialize Decision Tree Classifier \n",
    "model_max_leaf_nodes_50= DecisionTreeClassifier(random_state=42, max_leaf_nodes=max_leaf_nodes)\n",
    "\n",
    "# Fit the model on the full training data\n",
    "model_max_leaf_nodes_50.fit(X_train_5, y_train_5)\n",
    "\n",
    "# Make predictions on the validation set\n",
    "y_val_pred_max_leaf_nodes_50 = model_max_leaf_nodes_50.predict(X_val_5)\n",
    "\n",
    "# Print classification report for train set \n",
    "print(\"Training set classification report with Max Leaf Nodes 50:\")\n",
    "print(classification_report(y_train_5, model_max_leaf_nodes_50.predict(X_train_5))) \n",
    "\n",
    "# Print classification report for validation set \n",
    "print(\"Validation set classification report with Max Leaf Nodes 50:\")\n",
    "print(classification_report(y_val_5, y_val_pred_max_leaf_nodes_50)) "
   ]
  },
  {
   "cell_type": "code",
   "execution_count": 400,
   "id": "180e3dc9",
   "metadata": {},
   "outputs": [
    {
     "name": "stdout",
     "output_type": "stream",
     "text": [
      "Mean Macro Accuracy across all folds: 0.9787708241796942\n",
      "Mean Macro Precision across all folds: 0.9667054202586115\n",
      "Mean Macro Recall across all folds: 0.9741919740247201\n",
      "Mean Macro F1 Score across all folds: 0.9703493371252119\n"
     ]
    }
   ],
   "source": [
    "X_full = df_full[['distance', 'orbital_radius', 'mass_earth', 'radius_earth', 'stellar_magnitude']]\n",
    "y_full = df_full['Habitable']\n",
    "\n",
    "kf = KFold(n_splits=5, shuffle=True, random_state=42)\n",
    "\n",
    "# Define the criterion\n",
    "max_leaf_nodes = 50\n",
    "\n",
    "# Initialize Decision Tree Classifier \n",
    "model= DecisionTreeClassifier(random_state=42, max_leaf_nodes=max_leaf_nodes)\n",
    "\n",
    "# Store evaluation metrics for each fold\n",
    "fold_accuracies= []\n",
    "fold_precisions = []\n",
    "fold_recalls = []\n",
    "fold_f1_scores = []\n",
    "\n",
    "for fold, (train_index, test_index) in enumerate(kf.split(X_full), 1):\n",
    "    X_train = X_full.iloc[train_index]\n",
    "    y_train = y_full[train_index]\n",
    "    X_test = X_full.iloc[test_index]\n",
    "    y_test = y_full[test_index]\n",
    "\n",
    "    # Fit the model on the training data\n",
    "    model.fit(X_train, y_train)\n",
    "\n",
    "    # Make predictions on the test data\n",
    "    y_pred = model.predict(X_test)\n",
    "\n",
    "    # Calculate evaluation metrics\n",
    "    accuracy = accuracy_score(y_test, y_pred)\n",
    "    precision = precision_score(y_test, y_pred, average='macro')\n",
    "    recall = recall_score(y_test, y_pred, average='macro')\n",
    "    f1 = f1_score(y_test, y_pred, average='macro')\n",
    "\n",
    "    # Append metrics to respective lists\n",
    "    fold_accuracies.append(accuracy)\n",
    "    fold_precisions.append(precision)\n",
    "    fold_recalls.append(recall)\n",
    "    fold_f1_scores.append(f1)\n",
    "\n",
    "# Mean evaluation metrics across all folds\n",
    "mean_accuracy = sum(fold_accuracies) / len(fold_accuracies)\n",
    "mean_precision = sum(fold_precisions) / len(fold_precisions)\n",
    "mean_recall = sum(fold_recalls) / len(fold_recalls)\n",
    "mean_f1 = sum(fold_f1_scores) / len(fold_f1_scores)\n",
    "\n",
    "print(f'Mean Macro Accuracy across all folds: {mean_accuracy}')\n",
    "print(f'Mean Macro Precision across all folds: {mean_precision}')\n",
    "print(f'Mean Macro Recall across all folds: {mean_recall}')\n",
    "print(f'Mean Macro F1 Score across all folds: {mean_f1}')"
   ]
  },
  {
   "cell_type": "markdown",
   "id": "e6616e30",
   "metadata": {},
   "source": [
    "### 3.7.3 Max Leaf Nodes = 100"
   ]
  },
  {
   "cell_type": "code",
   "execution_count": 257,
   "id": "3b1b165d",
   "metadata": {},
   "outputs": [
    {
     "name": "stdout",
     "output_type": "stream",
     "text": [
      "Training set classification report with Max Leaf Nodes 100:\n",
      "              precision    recall  f1-score   support\n",
      "\n",
      "           0       1.00      1.00      1.00      3608\n",
      "           1       1.00      1.00      1.00      1082\n",
      "\n",
      "    accuracy                           1.00      4690\n",
      "   macro avg       1.00      1.00      1.00      4690\n",
      "weighted avg       1.00      1.00      1.00      4690\n",
      "\n",
      "Validation set classification report with Max Leaf Nodes 100:\n",
      "              precision    recall  f1-score   support\n",
      "\n",
      "           0       0.99      0.99      0.99       767\n",
      "           1       0.47      0.50      0.48        14\n",
      "\n",
      "    accuracy                           0.98       781\n",
      "   macro avg       0.73      0.74      0.74       781\n",
      "weighted avg       0.98      0.98      0.98       781\n",
      "\n"
     ]
    }
   ],
   "source": [
    "# Define the max leaf nodes\n",
    "max_leaf_nodes = 100\n",
    "\n",
    "# Initialize Decision Tree Classifier \n",
    "model_max_leaf_nodes_100= DecisionTreeClassifier(random_state=42, max_leaf_nodes=max_leaf_nodes)\n",
    "\n",
    "# Fit the model on the full training data\n",
    "model_max_leaf_nodes_100.fit(X_train_5, y_train_5)\n",
    "\n",
    "# Make predictions on the validation set\n",
    "y_val_pred_max_leaf_nodes_100 = model_max_leaf_nodes_100.predict(X_val_5)\n",
    "\n",
    "# Print classification report for train set \n",
    "print(\"Training set classification report with Max Leaf Nodes 100:\")\n",
    "print(classification_report(y_train_5, model_max_leaf_nodes_100.predict(X_train_5))) \n",
    "\n",
    "# Print classification report for validation set \n",
    "print(\"Validation set classification report with Max Leaf Nodes 100:\")\n",
    "print(classification_report(y_val_5, y_val_pred_max_leaf_nodes_100)) "
   ]
  },
  {
   "cell_type": "code",
   "execution_count": 401,
   "id": "4f81acaf",
   "metadata": {},
   "outputs": [
    {
     "name": "stdout",
     "output_type": "stream",
     "text": [
      "Mean Macro Accuracy across all folds: 0.9844520617628876\n",
      "Mean Macro Precision across all folds: 0.9765023793186683\n",
      "Mean Macro Recall across all folds: 0.9799211671969289\n",
      "Mean Macro F1 Score across all folds: 0.9781788055034651\n"
     ]
    }
   ],
   "source": [
    "X_full = df_full[['distance', 'orbital_radius', 'mass_earth', 'radius_earth', 'stellar_magnitude']]\n",
    "y_full = df_full['Habitable']\n",
    "\n",
    "kf = KFold(n_splits=5, shuffle=True, random_state=42)\n",
    "\n",
    "# Define the criterion\n",
    "max_leaf_nodes = 100\n",
    "\n",
    "# Initialize Decision Tree Classifier \n",
    "model = DecisionTreeClassifier(random_state=42, max_leaf_nodes=max_leaf_nodes)\n",
    "\n",
    "# Store evaluation metrics for each fold\n",
    "fold_accuracies= []\n",
    "fold_precisions = []\n",
    "fold_recalls = []\n",
    "fold_f1_scores = []\n",
    "\n",
    "for fold, (train_index, test_index) in enumerate(kf.split(X_full), 1):\n",
    "    X_train = X_full.iloc[train_index]\n",
    "    y_train = y_full[train_index]\n",
    "    X_test = X_full.iloc[test_index]\n",
    "    y_test = y_full[test_index]\n",
    "\n",
    "    # Fit the model on the training data\n",
    "    model.fit(X_train, y_train)\n",
    "\n",
    "    # Make predictions on the test data\n",
    "    y_pred = model.predict(X_test)\n",
    "\n",
    "    # Calculate evaluation metrics\n",
    "    accuracy = accuracy_score(y_test, y_pred)\n",
    "    precision = precision_score(y_test, y_pred, average='macro')\n",
    "    recall = recall_score(y_test, y_pred, average='macro')\n",
    "    f1 = f1_score(y_test, y_pred, average='macro')\n",
    "\n",
    "    # Append metrics to respective lists\n",
    "    fold_accuracies.append(accuracy)\n",
    "    fold_precisions.append(precision)\n",
    "    fold_recalls.append(recall)\n",
    "    fold_f1_scores.append(f1)\n",
    "\n",
    "# Mean evaluation metrics across all folds\n",
    "mean_accuracy = sum(fold_accuracies) / len(fold_accuracies)\n",
    "mean_precision = sum(fold_precisions) / len(fold_precisions)\n",
    "mean_recall = sum(fold_recalls) / len(fold_recalls)\n",
    "mean_f1 = sum(fold_f1_scores) / len(fold_f1_scores)\n",
    "\n",
    "print(f'Mean Macro Accuracy across all folds: {mean_accuracy}')\n",
    "print(f'Mean Macro Precision across all folds: {mean_precision}')\n",
    "print(f'Mean Macro Recall across all folds: {mean_recall}')\n",
    "print(f'Mean Macro F1 Score across all folds: {mean_f1}')"
   ]
  },
  {
   "cell_type": "markdown",
   "id": "9fbe096a",
   "metadata": {},
   "source": [
    "## 3.8 Min impurity decrease\n",
    "This parameter specifies a threshold for early stopping of tree growth. A split will only be considered if it induces a decrease of the impurity greater than or equal to this value."
   ]
  },
  {
   "cell_type": "code",
   "execution_count": 229,
   "id": "ac797640",
   "metadata": {},
   "outputs": [
    {
     "name": "stdout",
     "output_type": "stream",
     "text": [
      "Best Parameters: {'min_impurity_decrease': 0.0}\n"
     ]
    }
   ],
   "source": [
    "param_grid = {\n",
    "    'min_impurity_decrease': [0.0, 0.01, 0.05, 0.1, 0.2, 0.5]\n",
    "}\n",
    "\n",
    "\n",
    "# Initialize GridSearchCV\n",
    "grid_search = GridSearchCV(estimator=model_five_features, param_grid=param_grid, cv=5, scoring='f1')\n",
    "\n",
    "# Perform GridSearchCV\n",
    "grid_search.fit(X_train_5, y_train_5)\n",
    "\n",
    "# Get best parameters\n",
    "best_params = grid_search.best_params_\n",
    "\n",
    "# Print best parameters\n",
    "print(\"Best Parameters:\", best_params)"
   ]
  },
  {
   "cell_type": "markdown",
   "id": "c13cf7cd",
   "metadata": {},
   "source": [
    "### 3.8.1 Min impurity decrease = 0.0"
   ]
  },
  {
   "cell_type": "code",
   "execution_count": 259,
   "id": "72695628",
   "metadata": {},
   "outputs": [
    {
     "name": "stdout",
     "output_type": "stream",
     "text": [
      "Training set classification report with Min impurity decrease 0.0:\n",
      "              precision    recall  f1-score   support\n",
      "\n",
      "           0       1.00      1.00      1.00      3608\n",
      "           1       1.00      1.00      1.00      1082\n",
      "\n",
      "    accuracy                           1.00      4690\n",
      "   macro avg       1.00      1.00      1.00      4690\n",
      "weighted avg       1.00      1.00      1.00      4690\n",
      "\n",
      "Validation set classification report with Min impurity decrease 0.0:\n",
      "              precision    recall  f1-score   support\n",
      "\n",
      "           0       0.99      0.99      0.99       767\n",
      "           1       0.41      0.50      0.45        14\n",
      "\n",
      "    accuracy                           0.98       781\n",
      "   macro avg       0.70      0.74      0.72       781\n",
      "weighted avg       0.98      0.98      0.98       781\n",
      "\n"
     ]
    }
   ],
   "source": [
    "# Define the min impurity decrease\n",
    "min_impurity_decrease = 0.0\n",
    "\n",
    "# Initialize Decision Tree Classifier \n",
    "model_min_impurity_decrease_0= DecisionTreeClassifier(random_state=42,min_impurity_decrease=min_impurity_decrease )\n",
    "\n",
    "# Fit the model on the full training data\n",
    "model_min_impurity_decrease_0.fit(X_train_5, y_train_5)\n",
    "\n",
    "# Make predictions on the validation set\n",
    "y_val_pred_min_impurity_decrease_0 = model_min_impurity_decrease_0.predict(X_val_5)\n",
    "\n",
    "# Print classification report for train set \n",
    "print(\"Training set classification report with Min impurity decrease 0.0:\")\n",
    "print(classification_report(y_train_5, model_min_impurity_decrease_0.predict(X_train_5))) \n",
    "\n",
    "# Print classification report for validation set \n",
    "print(\"Validation set classification report with Min impurity decrease 0.0:\")\n",
    "print(classification_report(y_val_5, y_val_pred_min_impurity_decrease_0)) "
   ]
  },
  {
   "cell_type": "code",
   "execution_count": 402,
   "id": "62b22abe",
   "metadata": {},
   "outputs": [
    {
     "name": "stdout",
     "output_type": "stream",
     "text": [
      "Mean Macro Accuracy across all folds: 0.9832560235138124\n",
      "Mean Macro Precision across all folds: 0.9744511141707222\n",
      "Mean Macro Recall across all folds: 0.9786795899451987\n",
      "Mean Macro F1 Score across all folds: 0.9765242241110277\n"
     ]
    }
   ],
   "source": [
    "X_full = df_full[['distance', 'orbital_radius', 'mass_earth', 'radius_earth', 'stellar_magnitude']]\n",
    "y_full = df_full['Habitable']\n",
    "\n",
    "kf = KFold(n_splits=5, shuffle=True, random_state=42)\n",
    "\n",
    "# Define the criterion\n",
    "min_impurity_decrease = 0.0\n",
    "\n",
    "# Initialize Decision Tree Classifier \n",
    "model = DecisionTreeClassifier(random_state=42, min_impurity_decrease=min_impurity_decrease)\n",
    "\n",
    "# Store evaluation metrics for each fold\n",
    "fold_accuracies= []\n",
    "fold_precisions = []\n",
    "fold_recalls = []\n",
    "fold_f1_scores = []\n",
    "\n",
    "for fold, (train_index, test_index) in enumerate(kf.split(X_full), 1):\n",
    "    X_train = X_full.iloc[train_index]\n",
    "    y_train = y_full[train_index]\n",
    "    X_test = X_full.iloc[test_index]\n",
    "    y_test = y_full[test_index]\n",
    "\n",
    "    # Fit the model on the training data\n",
    "    model.fit(X_train, y_train)\n",
    "\n",
    "    # Make predictions on the test data\n",
    "    y_pred = model.predict(X_test)\n",
    "\n",
    "    # Calculate evaluation metrics\n",
    "    accuracy = accuracy_score(y_test, y_pred)\n",
    "    precision = precision_score(y_test, y_pred, average='macro')\n",
    "    recall = recall_score(y_test, y_pred, average='macro')\n",
    "    f1 = f1_score(y_test, y_pred, average='macro')\n",
    "\n",
    "    # Append metrics to respective lists\n",
    "    fold_accuracies.append(accuracy)\n",
    "    fold_precisions.append(precision)\n",
    "    fold_recalls.append(recall)\n",
    "    fold_f1_scores.append(f1)\n",
    "\n",
    "# Mean evaluation metrics across all folds\n",
    "mean_accuracy = sum(fold_accuracies) / len(fold_accuracies)\n",
    "mean_precision = sum(fold_precisions) / len(fold_precisions)\n",
    "mean_recall = sum(fold_recalls) / len(fold_recalls)\n",
    "mean_f1 = sum(fold_f1_scores) / len(fold_f1_scores)\n",
    "\n",
    "print(f'Mean Macro Accuracy across all folds: {mean_accuracy}')\n",
    "print(f'Mean Macro Precision across all folds: {mean_precision}')\n",
    "print(f'Mean Macro Recall across all folds: {mean_recall}')\n",
    "print(f'Mean Macro F1 Score across all folds: {mean_f1}')"
   ]
  },
  {
   "cell_type": "markdown",
   "id": "cfe909f3",
   "metadata": {},
   "source": [
    "### 3.8.2 Min impurity decrease = 0.01"
   ]
  },
  {
   "cell_type": "code",
   "execution_count": 261,
   "id": "5c121f17",
   "metadata": {},
   "outputs": [
    {
     "name": "stdout",
     "output_type": "stream",
     "text": [
      "Training set classification report with Min impurity decrease 0.01:\n",
      "              precision    recall  f1-score   support\n",
      "\n",
      "           0       0.97      0.97      0.97      3608\n",
      "           1       0.89      0.91      0.90      1082\n",
      "\n",
      "    accuracy                           0.95      4690\n",
      "   macro avg       0.93      0.94      0.93      4690\n",
      "weighted avg       0.95      0.95      0.95      4690\n",
      "\n",
      "Validation set classification report with Min impurity decrease 0.01:\n",
      "              precision    recall  f1-score   support\n",
      "\n",
      "           0       0.99      0.97      0.98       767\n",
      "           1       0.26      0.64      0.37        14\n",
      "\n",
      "    accuracy                           0.96       781\n",
      "   macro avg       0.63      0.80      0.67       781\n",
      "weighted avg       0.98      0.96      0.97       781\n",
      "\n"
     ]
    }
   ],
   "source": [
    "# Define the min impurity decrease\n",
    "min_impurity_decrease = 0.01\n",
    "\n",
    "# Initialize Decision Tree Classifier \n",
    "model_min_impurity_decrease_01= DecisionTreeClassifier(random_state=42, min_impurity_decrease=min_impurity_decrease)\n",
    "\n",
    "# Fit the model on the full training data\n",
    "model_min_impurity_decrease_01.fit(X_train_5, y_train_5)\n",
    "\n",
    "# Make predictions on the validation set\n",
    "y_val_pred_min_impurity_decrease_01 = model_min_impurity_decrease_01.predict(X_val_5)\n",
    "\n",
    "# Print classification report for train set \n",
    "print(\"Training set classification report with Min impurity decrease 0.01:\")\n",
    "print(classification_report(y_train_5, model_min_impurity_decrease_01.predict(X_train_5))) \n",
    "\n",
    "# Print classification report for validation set \n",
    "print(\"Validation set classification report with Min impurity decrease 0.01:\")\n",
    "print(classification_report(y_val_5, y_val_pred_min_impurity_decrease_01)) "
   ]
  },
  {
   "cell_type": "code",
   "execution_count": 403,
   "id": "38415ecd",
   "metadata": {},
   "outputs": [
    {
     "name": "stdout",
     "output_type": "stream",
     "text": [
      "Mean Macro Accuracy across all folds: 0.95156056271263\n",
      "Mean Macro Precision across all folds: 0.9183514998164422\n",
      "Mean Macro Recall across all folds: 0.9555872269936243\n",
      "Mean Macro F1 Score across all folds: 0.9348968031534944\n"
     ]
    }
   ],
   "source": [
    "X_full = df_full[['distance', 'orbital_radius', 'mass_earth', 'radius_earth', 'stellar_magnitude']]\n",
    "y_full = df_full['Habitable']\n",
    "\n",
    "kf = KFold(n_splits=5, shuffle=True, random_state=42)\n",
    "\n",
    "# Define the criterion\n",
    "min_impurity_decrease = 0.01\n",
    "\n",
    "# Initialize Decision Tree Classifier \n",
    "model = DecisionTreeClassifier(random_state=42, min_impurity_decrease=min_impurity_decrease)\n",
    "\n",
    "# Store evaluation metrics for each fold\n",
    "fold_accuracies= []\n",
    "fold_precisions = []\n",
    "fold_recalls = []\n",
    "fold_f1_scores = []\n",
    "\n",
    "for fold, (train_index, test_index) in enumerate(kf.split(X_full), 1):\n",
    "    X_train = X_full.iloc[train_index]\n",
    "    y_train = y_full[train_index]\n",
    "    X_test = X_full.iloc[test_index]\n",
    "    y_test = y_full[test_index]\n",
    "\n",
    "    # Fit the model on the training data\n",
    "    model.fit(X_train, y_train)\n",
    "\n",
    "    # Make predictions on the test data\n",
    "    y_pred = model.predict(X_test)\n",
    "\n",
    "    # Calculate evaluation metrics\n",
    "    accuracy = accuracy_score(y_test, y_pred)\n",
    "    precision = precision_score(y_test, y_pred, average='macro')\n",
    "    recall = recall_score(y_test, y_pred, average='macro')\n",
    "    f1 = f1_score(y_test, y_pred, average='macro')\n",
    "\n",
    "    # Append metrics to respective lists\n",
    "    fold_accuracies.append(accuracy)\n",
    "    fold_precisions.append(precision)\n",
    "    fold_recalls.append(recall)\n",
    "    fold_f1_scores.append(f1)\n",
    "\n",
    "# Mean evaluation metrics across all folds\n",
    "mean_accuracy = sum(fold_accuracies) / len(fold_accuracies)\n",
    "mean_precision = sum(fold_precisions) / len(fold_precisions)\n",
    "mean_recall = sum(fold_recalls) / len(fold_recalls)\n",
    "mean_f1 = sum(fold_f1_scores) / len(fold_f1_scores)\n",
    "\n",
    "print(f'Mean Macro Accuracy across all folds: {mean_accuracy}')\n",
    "print(f'Mean Macro Precision across all folds: {mean_precision}')\n",
    "print(f'Mean Macro Recall across all folds: {mean_recall}')\n",
    "print(f'Mean Macro F1 Score across all folds: {mean_f1}')"
   ]
  },
  {
   "cell_type": "markdown",
   "id": "6031c7c8",
   "metadata": {},
   "source": [
    "## 3.9 Min Samples Leaf\n",
    "This parameter specifies the minimum number of samples required to be at a leaf node. If set to an integer, it ensures that each leaf node has at least that number of samples."
   ]
  },
  {
   "cell_type": "code",
   "execution_count": 16,
   "id": "f6ac9cbf",
   "metadata": {},
   "outputs": [
    {
     "name": "stdout",
     "output_type": "stream",
     "text": [
      "Best Parameters: {'min_samples_leaf': 1}\n"
     ]
    }
   ],
   "source": [
    "param_grid = {\n",
    "    'min_samples_leaf': [1, 2, 3, 4, 5, 10, 15, 20, 25, 30]\n",
    "}\n",
    "\n",
    "\n",
    "# Initialize GridSearchCV\n",
    "grid_search = GridSearchCV(estimator=model_five_features, param_grid=param_grid, cv=5, scoring='f1')\n",
    "\n",
    "# Perform GridSearchCV\n",
    "grid_search.fit(X_train_5, y_train_5)\n",
    "\n",
    "# Get best parameters\n",
    "best_params = grid_search.best_params_\n",
    "\n",
    "# Print best parameters\n",
    "print(\"Best Parameters:\", best_params)"
   ]
  },
  {
   "cell_type": "markdown",
   "id": "2626b6cc",
   "metadata": {},
   "source": [
    "### 3.9.1 Min Samples Leaf = 2"
   ]
  },
  {
   "cell_type": "code",
   "execution_count": 263,
   "id": "45cd5444",
   "metadata": {},
   "outputs": [
    {
     "name": "stdout",
     "output_type": "stream",
     "text": [
      "Training set classification report with Min Samples Leaf of 2\n",
      "              precision    recall  f1-score   support\n",
      "\n",
      "           0       1.00      1.00      1.00      3608\n",
      "           1       1.00      0.98      0.99      1082\n",
      "\n",
      "    accuracy                           1.00      4690\n",
      "   macro avg       1.00      0.99      0.99      4690\n",
      "weighted avg       1.00      1.00      1.00      4690\n",
      "\n",
      "Validation set classification report with Min Samples Leaf of 2\n",
      "              precision    recall  f1-score   support\n",
      "\n",
      "           0       0.99      0.99      0.99       767\n",
      "           1       0.38      0.43      0.40        14\n",
      "\n",
      "    accuracy                           0.98       781\n",
      "   macro avg       0.68      0.71      0.69       781\n",
      "weighted avg       0.98      0.98      0.98       781\n",
      "\n"
     ]
    }
   ],
   "source": [
    "# Define the min samples leaf\n",
    "min_samples_leaf = 2\n",
    "\n",
    "# Initialize Decision Tree Classifier \n",
    "model_min_samples_leaf_2= DecisionTreeClassifier(random_state=42, min_samples_leaf=min_samples_leaf)\n",
    "\n",
    "# Fit the model on the full training data\n",
    "model_min_samples_leaf_2.fit(X_train_5, y_train_5)\n",
    "\n",
    "# Make predictions on the validation set\n",
    "y_val_pred_min_samples_leaf_2 = model_min_samples_leaf_2.predict(X_val_5)\n",
    "\n",
    "# Print classification report for train set \n",
    "print(\"Training set classification report with Min Samples Leaf of 2\")\n",
    "print(classification_report(y_train_5, model_min_samples_leaf_2.predict(X_train_5))) \n",
    "\n",
    "# Print classification report for validation set \n",
    "print(\"Validation set classification report with Min Samples Leaf of 2\")\n",
    "print(classification_report(y_val_5, y_val_pred_min_samples_leaf_2)) "
   ]
  },
  {
   "cell_type": "code",
   "execution_count": 404,
   "id": "d0a359b8",
   "metadata": {},
   "outputs": [
    {
     "name": "stdout",
     "output_type": "stream",
     "text": [
      "Mean Macro Accuracy across all folds: 0.9783223936864207\n",
      "Mean Macro Precision across all folds: 0.9696147059479218\n",
      "Mean Macro Recall across all folds: 0.9693905744670716\n",
      "Mean Macro F1 Score across all folds: 0.96946408096941\n"
     ]
    }
   ],
   "source": [
    "X_full = df_full[['distance', 'orbital_radius', 'mass_earth', 'radius_earth', 'stellar_magnitude']]\n",
    "y_full = df_full['Habitable']\n",
    "\n",
    "kf = KFold(n_splits=5, shuffle=True, random_state=42)\n",
    "\n",
    "# Define the min samples leaf\n",
    "min_samples_leaf=2\n",
    "\n",
    "# Initialize Decision Tree Classifier \n",
    "model = DecisionTreeClassifier(random_state=42, min_samples_leaf=min_samples_leaf)\n",
    "\n",
    "# Store evaluation metrics for each fold\n",
    "fold_accuracies= []\n",
    "fold_precisions = []\n",
    "fold_recalls = []\n",
    "fold_f1_scores = []\n",
    "\n",
    "for fold, (train_index, test_index) in enumerate(kf.split(X_full), 1):\n",
    "    X_train = X_full.iloc[train_index]\n",
    "    y_train = y_full[train_index]\n",
    "    X_test = X_full.iloc[test_index]\n",
    "    y_test = y_full[test_index]\n",
    "\n",
    "    # Fit the model on the training data\n",
    "    model.fit(X_train, y_train)\n",
    "\n",
    "    # Make predictions on the test data\n",
    "    y_pred = model.predict(X_test)\n",
    "\n",
    "    # Calculate evaluation metrics\n",
    "    accuracy = accuracy_score(y_test, y_pred)\n",
    "    precision = precision_score(y_test, y_pred, average='macro')\n",
    "    recall = recall_score(y_test, y_pred, average='macro')\n",
    "    f1 = f1_score(y_test, y_pred, average='macro')\n",
    "\n",
    "    # Append metrics to respective lists\n",
    "    fold_accuracies.append(accuracy)\n",
    "    fold_precisions.append(precision)\n",
    "    fold_recalls.append(recall)\n",
    "    fold_f1_scores.append(f1)\n",
    "\n",
    "# Mean evaluation metrics across all folds\n",
    "mean_accuracy = sum(fold_accuracies) / len(fold_accuracies)\n",
    "mean_precision = sum(fold_precisions) / len(fold_precisions)\n",
    "mean_recall = sum(fold_recalls) / len(fold_recalls)\n",
    "mean_f1 = sum(fold_f1_scores) / len(fold_f1_scores)\n",
    "\n",
    "print(f'Mean Macro Accuracy across all folds: {mean_accuracy}')\n",
    "print(f'Mean Macro Precision across all folds: {mean_precision}')\n",
    "print(f'Mean Macro Recall across all folds: {mean_recall}')\n",
    "print(f'Mean Macro F1 Score across all folds: {mean_f1}')"
   ]
  },
  {
   "cell_type": "markdown",
   "id": "609ea028",
   "metadata": {},
   "source": [
    "### 3.9.2 Min Samples Leaf = 5"
   ]
  },
  {
   "cell_type": "code",
   "execution_count": 266,
   "id": "8a2f9c5a",
   "metadata": {},
   "outputs": [
    {
     "name": "stdout",
     "output_type": "stream",
     "text": [
      "Training set classification report with Min Samples Leaf of 5\n",
      "              precision    recall  f1-score   support\n",
      "\n",
      "           0       1.00      0.99      0.99      3608\n",
      "           1       0.98      0.98      0.98      1082\n",
      "\n",
      "    accuracy                           0.99      4690\n",
      "   macro avg       0.99      0.99      0.99      4690\n",
      "weighted avg       0.99      0.99      0.99      4690\n",
      "\n",
      "Validation set classification report with Min Samples Leaf of 5\n",
      "              precision    recall  f1-score   support\n",
      "\n",
      "           0       0.99      0.98      0.99       767\n",
      "           1       0.40      0.57      0.47        14\n",
      "\n",
      "    accuracy                           0.98       781\n",
      "   macro avg       0.70      0.78      0.73       781\n",
      "weighted avg       0.98      0.98      0.98       781\n",
      "\n"
     ]
    }
   ],
   "source": [
    "# Define the min samples leaf\n",
    "min_samples_leaf = 5\n",
    "\n",
    "# Initialize Decision Tree Classifier \n",
    "model_min_samples_leaf_5= DecisionTreeClassifier(random_state=42, min_samples_leaf=min_samples_leaf)\n",
    "\n",
    "# Fit the model on the full training data\n",
    "model_min_samples_leaf_5.fit(X_train_5, y_train_5)\n",
    "\n",
    "# Make predictions on the validation set\n",
    "y_val_pred_min_samples_leaf_5 = model_min_samples_leaf_5.predict(X_val_5)\n",
    "\n",
    "# Print classification report for train set \n",
    "print(\"Training set classification report with Min Samples Leaf of 5\")\n",
    "print(classification_report(y_train_5, model_min_samples_leaf_5.predict(X_train_5))) \n",
    "\n",
    "# Print classification report for validation set \n",
    "print(\"Validation set classification report with Min Samples Leaf of 5\")\n",
    "print(classification_report(y_val_5, y_val_pred_min_samples_leaf_5)) "
   ]
  },
  {
   "cell_type": "code",
   "execution_count": 405,
   "id": "57a145d4",
   "metadata": {},
   "outputs": [
    {
     "name": "stdout",
     "output_type": "stream",
     "text": [
      "Mean Macro Accuracy across all folds: 0.9783225054865934\n",
      "Mean Macro Precision across all folds: 0.9691725210592539\n",
      "Mean Macro Recall across all folds: 0.9698051543560158\n",
      "Mean Macro F1 Score across all folds: 0.9694654644806568\n"
     ]
    }
   ],
   "source": [
    "X_full = df_full[['distance', 'orbital_radius', 'mass_earth', 'radius_earth', 'stellar_magnitude']]\n",
    "y_full = df_full['Habitable']\n",
    "\n",
    "kf = KFold(n_splits=5, shuffle=True, random_state=42)\n",
    "\n",
    "# Define the min samples leaf\n",
    "min_samples_leaf=5\n",
    "\n",
    "# Initialize Decision Tree Classifier \n",
    "model = DecisionTreeClassifier(random_state=42, min_samples_leaf=min_samples_leaf)\n",
    "\n",
    "# Store evaluation metrics for each fold\n",
    "fold_accuracies= []\n",
    "fold_precisions = []\n",
    "fold_recalls = []\n",
    "fold_f1_scores = []\n",
    "\n",
    "for fold, (train_index, test_index) in enumerate(kf.split(X_full), 1):\n",
    "    X_train = X_full.iloc[train_index]\n",
    "    y_train = y_full[train_index]\n",
    "    X_test = X_full.iloc[test_index]\n",
    "    y_test = y_full[test_index]\n",
    "\n",
    "    # Fit the model on the training data\n",
    "    model.fit(X_train, y_train)\n",
    "\n",
    "    # Make predictions on the test data\n",
    "    y_pred = model.predict(X_test)\n",
    "\n",
    "    # Calculate evaluation metrics\n",
    "    accuracy = accuracy_score(y_test, y_pred)\n",
    "    precision = precision_score(y_test, y_pred, average='macro')\n",
    "    recall = recall_score(y_test, y_pred, average='macro')\n",
    "    f1 = f1_score(y_test, y_pred, average='macro')\n",
    "\n",
    "    # Append metrics to respective lists\n",
    "    fold_accuracies.append(accuracy)\n",
    "    fold_precisions.append(precision)\n",
    "    fold_recalls.append(recall)\n",
    "    fold_f1_scores.append(f1)\n",
    "\n",
    "# Mean evaluation metrics across all folds\n",
    "mean_accuracy = sum(fold_accuracies) / len(fold_accuracies)\n",
    "mean_precision = sum(fold_precisions) / len(fold_precisions)\n",
    "mean_recall = sum(fold_recalls) / len(fold_recalls)\n",
    "mean_f1 = sum(fold_f1_scores) / len(fold_f1_scores)\n",
    "\n",
    "print(f'Mean Macro Accuracy across all folds: {mean_accuracy}')\n",
    "print(f'Mean Macro Precision across all folds: {mean_precision}')\n",
    "print(f'Mean Macro Recall across all folds: {mean_recall}')\n",
    "print(f'Mean Macro F1 Score across all folds: {mean_f1}')"
   ]
  },
  {
   "cell_type": "markdown",
   "id": "7aa88f45",
   "metadata": {},
   "source": [
    "### 3.9.3 Min Samples Leaf = 10"
   ]
  },
  {
   "cell_type": "code",
   "execution_count": 268,
   "id": "00041c37",
   "metadata": {},
   "outputs": [
    {
     "name": "stdout",
     "output_type": "stream",
     "text": [
      "Training set classification report with Min Samples Leaf of 10\n",
      "              precision    recall  f1-score   support\n",
      "\n",
      "           0       1.00      0.99      0.99      3608\n",
      "           1       0.97      0.99      0.98      1082\n",
      "\n",
      "    accuracy                           0.99      4690\n",
      "   macro avg       0.98      0.99      0.99      4690\n",
      "weighted avg       0.99      0.99      0.99      4690\n",
      "\n",
      "Validation set classification report with Min Samples Leaf of 10\n",
      "              precision    recall  f1-score   support\n",
      "\n",
      "           0       1.00      0.98      0.99       767\n",
      "           1       0.42      0.79      0.55        14\n",
      "\n",
      "    accuracy                           0.98       781\n",
      "   macro avg       0.71      0.88      0.77       781\n",
      "weighted avg       0.99      0.98      0.98       781\n",
      "\n"
     ]
    }
   ],
   "source": [
    "# Define the min samples leaf\n",
    "min_samples_leaf = 10\n",
    "\n",
    "# Initialize Decision Tree Classifier \n",
    "model_min_samples_leaf_10= DecisionTreeClassifier(random_state=42, min_samples_leaf=min_samples_leaf)\n",
    "\n",
    "# Fit the model on the full training data\n",
    "model_min_samples_leaf_10.fit(X_train_5, y_train_5)\n",
    "\n",
    "# Make predictions on the validation set\n",
    "y_val_pred_min_samples_leaf_10 = model_min_samples_leaf_10.predict(X_val_5)\n",
    "\n",
    "# Print classification report for train set \n",
    "print(\"Training set classification report with Min Samples Leaf of 10\")\n",
    "print(classification_report(y_train_5, model_min_samples_leaf_10.predict(X_train_5))) \n",
    "\n",
    "# Print classification report for validation set \n",
    "print(\"Validation set classification report with Min Samples Leaf of 10\")\n",
    "print(classification_report(y_val_5, y_val_pred_min_samples_leaf_10)) "
   ]
  },
  {
   "cell_type": "code",
   "execution_count": 406,
   "id": "9b909ad5",
   "metadata": {},
   "outputs": [
    {
     "name": "stdout",
     "output_type": "stream",
     "text": [
      "Mean Macro Accuracy across all folds: 0.9733889874593746\n",
      "Mean Macro Precision across all folds: 0.9627198910162218\n",
      "Mean Macro Recall across all folds: 0.9623061576783994\n",
      "Mean Macro F1 Score across all folds: 0.9624889591091517\n"
     ]
    }
   ],
   "source": [
    "X_full = df_full[['distance', 'orbital_radius', 'mass_earth', 'radius_earth', 'stellar_magnitude']]\n",
    "y_full = df_full['Habitable']\n",
    "\n",
    "kf = KFold(n_splits=5, shuffle=True, random_state=42)\n",
    "\n",
    "# Define the min samples leaf\n",
    "min_samples_leaf=10\n",
    "\n",
    "# Initialize Decision Tree Classifier \n",
    "model = DecisionTreeClassifier(random_state=42, min_samples_leaf=min_samples_leaf)\n",
    "\n",
    "# Store evaluation metrics for each fold\n",
    "fold_accuracies= []\n",
    "fold_precisions = []\n",
    "fold_recalls = []\n",
    "fold_f1_scores = []\n",
    "\n",
    "for fold, (train_index, test_index) in enumerate(kf.split(X_full), 1):\n",
    "    X_train = X_full.iloc[train_index]\n",
    "    y_train = y_full[train_index]\n",
    "    X_test = X_full.iloc[test_index]\n",
    "    y_test = y_full[test_index]\n",
    "\n",
    "    # Fit the model on the training data\n",
    "    model.fit(X_train, y_train)\n",
    "\n",
    "    # Make predictions on the test data\n",
    "    y_pred = model.predict(X_test)\n",
    "\n",
    "    # Calculate evaluation metrics\n",
    "    accuracy = accuracy_score(y_test, y_pred)\n",
    "    precision = precision_score(y_test, y_pred, average='macro')\n",
    "    recall = recall_score(y_test, y_pred, average='macro')\n",
    "    f1 = f1_score(y_test, y_pred, average='macro')\n",
    "\n",
    "    # Append metrics to respective lists\n",
    "    fold_accuracies.append(accuracy)\n",
    "    fold_precisions.append(precision)\n",
    "    fold_recalls.append(recall)\n",
    "    fold_f1_scores.append(f1)\n",
    "\n",
    "# Mean evaluation metrics across all folds\n",
    "mean_accuracy = sum(fold_accuracies) / len(fold_accuracies)\n",
    "mean_precision = sum(fold_precisions) / len(fold_precisions)\n",
    "mean_recall = sum(fold_recalls) / len(fold_recalls)\n",
    "mean_f1 = sum(fold_f1_scores) / len(fold_f1_scores)\n",
    "\n",
    "print(f'Mean Macro Accuracy across all folds: {mean_accuracy}')\n",
    "print(f'Mean Macro Precision across all folds: {mean_precision}')\n",
    "print(f'Mean Macro Recall across all folds: {mean_recall}')\n",
    "print(f'Mean Macro F1 Score across all folds: {mean_f1}')"
   ]
  },
  {
   "cell_type": "markdown",
   "id": "ae43432f",
   "metadata": {},
   "source": [
    "## 3.10 Min Weight Fraction Leaf\n",
    "This parameter specifies the minimum weighted fraction of the total number of samples required to be at a leaf node. It works similarly to min_samples_leaf, but the samples are weighted."
   ]
  },
  {
   "cell_type": "code",
   "execution_count": 29,
   "id": "fea80205",
   "metadata": {},
   "outputs": [
    {
     "name": "stdout",
     "output_type": "stream",
     "text": [
      "Best Parameters: {'min_weight_fraction_leaf': 0.0}\n"
     ]
    }
   ],
   "source": [
    "param_grid = {\n",
    "    'min_weight_fraction_leaf': [0.0, 0.01, 0.05, 0.1, 0.15, 0.2]\n",
    "}\n",
    "\n",
    "\n",
    "# Initialize GridSearchCV\n",
    "grid_search = GridSearchCV(estimator=model_five_features, param_grid=param_grid, cv=5, scoring='f1')\n",
    "\n",
    "# Perform GridSearchCV\n",
    "grid_search.fit(X_train_5, y_train_5)\n",
    "\n",
    "# Get best parameters\n",
    "best_params = grid_search.best_params_\n",
    "\n",
    "# Print best parameters\n",
    "print(\"Best Parameters:\", best_params)"
   ]
  },
  {
   "cell_type": "markdown",
   "id": "108fb0f8",
   "metadata": {},
   "source": [
    "### 3.10.1 Min Weight Fraction Leaf = 0.01"
   ]
  },
  {
   "cell_type": "code",
   "execution_count": 270,
   "id": "dbe13df1",
   "metadata": {},
   "outputs": [
    {
     "name": "stdout",
     "output_type": "stream",
     "text": [
      "Training set classification report with Min Weight Fraction Leaf of 0.01\n",
      "              precision    recall  f1-score   support\n",
      "\n",
      "           0       0.98      0.97      0.97      3608\n",
      "           1       0.90      0.93      0.92      1082\n",
      "\n",
      "    accuracy                           0.96      4690\n",
      "   macro avg       0.94      0.95      0.95      4690\n",
      "weighted avg       0.96      0.96      0.96      4690\n",
      "\n",
      "Validation set classification report with Min Weight Fraction Leaf of 0.01\n",
      "              precision    recall  f1-score   support\n",
      "\n",
      "           0       0.99      0.96      0.98       767\n",
      "           1       0.26      0.71      0.38        14\n",
      "\n",
      "    accuracy                           0.96       781\n",
      "   macro avg       0.63      0.84      0.68       781\n",
      "weighted avg       0.98      0.96      0.97       781\n",
      "\n"
     ]
    }
   ],
   "source": [
    "# Define the min samples leaf\n",
    "min_weight_fraction_leaf = 0.01\n",
    "\n",
    "# Initialize Decision Tree Classifier \n",
    "model_min_weight_fraction_leaf_01= DecisionTreeClassifier(random_state=42, min_weight_fraction_leaf=min_weight_fraction_leaf)\n",
    "\n",
    "# Fit the model on the full training data\n",
    "model_min_weight_fraction_leaf_01.fit(X_train_5, y_train_5)\n",
    "\n",
    "# Make predictions on the validation set\n",
    "y_val_pred_min_weight_fraction_leaf_01 = model_min_weight_fraction_leaf_01.predict(X_val_5)\n",
    "\n",
    "# Print classification report for train set \n",
    "print(\"Training set classification report with Min Weight Fraction Leaf of 0.01\")\n",
    "print(classification_report(y_train_5, model_min_weight_fraction_leaf_01.predict(X_train_5))) \n",
    "\n",
    "# Print classification report for validation set \n",
    "print(\"Validation set classification report with Min Weight Fraction Leaf of 0.01\")\n",
    "print(classification_report(y_val_5, y_val_pred_min_weight_fraction_leaf_01)) "
   ]
  },
  {
   "cell_type": "code",
   "execution_count": 407,
   "id": "ee6c6cab",
   "metadata": {},
   "outputs": [
    {
     "name": "stdout",
     "output_type": "stream",
     "text": [
      "Mean Macro Accuracy across all folds: 0.9500655708013725\n",
      "Mean Macro Precision across all folds: 0.923858726472473\n",
      "Mean Macro Recall across all folds: 0.9401168210853887\n",
      "Mean Macro F1 Score across all folds: 0.931220782707163\n"
     ]
    }
   ],
   "source": [
    "X_full = df_full[['distance', 'orbital_radius', 'mass_earth', 'radius_earth', 'stellar_magnitude']]\n",
    "y_full = df_full['Habitable']\n",
    "\n",
    "kf = KFold(n_splits=5, shuffle=True, random_state=42)\n",
    "\n",
    "# Define the min samples leaf\n",
    "min_weight_fraction_leaf = 0.01\n",
    "\n",
    "# Initialize Decision Tree Classifier \n",
    "model = DecisionTreeClassifier(random_state=42, min_weight_fraction_leaf=min_weight_fraction_leaf)\n",
    "\n",
    "# Store evaluation metrics for each fold\n",
    "fold_accuracies= []\n",
    "fold_precisions = []\n",
    "fold_recalls = []\n",
    "fold_f1_scores = []\n",
    "\n",
    "for fold, (train_index, test_index) in enumerate(kf.split(X_full), 1):\n",
    "    X_train = X_full.iloc[train_index]\n",
    "    y_train = y_full[train_index]\n",
    "    X_test = X_full.iloc[test_index]\n",
    "    y_test = y_full[test_index]\n",
    "\n",
    "    # Fit the model on the training data\n",
    "    model.fit(X_train, y_train)\n",
    "\n",
    "    # Make predictions on the test data\n",
    "    y_pred = model.predict(X_test)\n",
    "\n",
    "    # Calculate evaluation metrics\n",
    "    accuracy = accuracy_score(y_test, y_pred)\n",
    "    precision = precision_score(y_test, y_pred, average='macro')\n",
    "    recall = recall_score(y_test, y_pred, average='macro')\n",
    "    f1 = f1_score(y_test, y_pred, average='macro')\n",
    "\n",
    "    # Append metrics to respective lists\n",
    "    fold_accuracies.append(accuracy)\n",
    "    fold_precisions.append(precision)\n",
    "    fold_recalls.append(recall)\n",
    "    fold_f1_scores.append(f1)\n",
    "\n",
    "# Mean evaluation metrics across all folds\n",
    "mean_accuracy = sum(fold_accuracies) / len(fold_accuracies)\n",
    "mean_precision = sum(fold_precisions) / len(fold_precisions)\n",
    "mean_recall = sum(fold_recalls) / len(fold_recalls)\n",
    "mean_f1 = sum(fold_f1_scores) / len(fold_f1_scores)\n",
    "\n",
    "print(f'Mean Macro Accuracy across all folds: {mean_accuracy}')\n",
    "print(f'Mean Macro Precision across all folds: {mean_precision}')\n",
    "print(f'Mean Macro Recall across all folds: {mean_recall}')\n",
    "print(f'Mean Macro F1 Score across all folds: {mean_f1}')"
   ]
  },
  {
   "cell_type": "markdown",
   "id": "d467c23f",
   "metadata": {},
   "source": [
    "### 3.10.2 Min Weight Fraction Leaf = 0.1"
   ]
  },
  {
   "cell_type": "code",
   "execution_count": 272,
   "id": "6a1b3964",
   "metadata": {},
   "outputs": [
    {
     "name": "stdout",
     "output_type": "stream",
     "text": [
      "Training set classification report with Min Weight Fraction Leaf of 0.1\n",
      "              precision    recall  f1-score   support\n",
      "\n",
      "           0       0.97      0.90      0.93      3608\n",
      "           1       0.74      0.91      0.81      1082\n",
      "\n",
      "    accuracy                           0.90      4690\n",
      "   macro avg       0.85      0.90      0.87      4690\n",
      "weighted avg       0.92      0.90      0.91      4690\n",
      "\n",
      "Validation set classification report with Min Weight Fraction Leaf of 0.1\n",
      "              precision    recall  f1-score   support\n",
      "\n",
      "           0       1.00      0.89      0.94       767\n",
      "           1       0.12      0.79      0.20        14\n",
      "\n",
      "    accuracy                           0.89       781\n",
      "   macro avg       0.56      0.84      0.57       781\n",
      "weighted avg       0.98      0.89      0.93       781\n",
      "\n"
     ]
    }
   ],
   "source": [
    "# Define the min samples leaf\n",
    "min_weight_fraction_leaf = 0.1\n",
    "\n",
    "# Initialize Decision Tree Classifier \n",
    "model_min_weight_fraction_leaf_1= DecisionTreeClassifier(random_state=42, min_weight_fraction_leaf=min_weight_fraction_leaf)\n",
    "\n",
    "# Fit the model on the full training data\n",
    "model_min_weight_fraction_leaf_1.fit(X_train_5, y_train_5)\n",
    "\n",
    "# Make predictions on the validation set\n",
    "y_val_pred_min_weight_fraction_leaf_1 = model_min_weight_fraction_leaf_1.predict(X_val_5)\n",
    "\n",
    "# Print classification report for train set \n",
    "print(\"Training set classification report with Min Weight Fraction Leaf of 0.1\")\n",
    "print(classification_report(y_train_5, model_min_weight_fraction_leaf_1.predict(X_train_5))) \n",
    "\n",
    "# Print classification report for validation set \n",
    "print(\"Validation set classification report with Min Weight Fraction Leaf of 0.1\")\n",
    "print(classification_report(y_val_5, y_val_pred_min_weight_fraction_leaf_1)) "
   ]
  },
  {
   "cell_type": "code",
   "execution_count": 408,
   "id": "47dad567",
   "metadata": {},
   "outputs": [
    {
     "name": "stdout",
     "output_type": "stream",
     "text": [
      "Mean Macro Accuracy across all folds: 0.8886213138085512\n",
      "Mean Macro Precision across all folds: 0.8346131810652592\n",
      "Mean Macro Recall across all folds: 0.8899970911213071\n",
      "Mean Macro F1 Score across all folds: 0.8559323111336876\n"
     ]
    }
   ],
   "source": [
    "X_full = df_full[['distance', 'orbital_radius', 'mass_earth', 'radius_earth', 'stellar_magnitude']]\n",
    "y_full = df_full['Habitable']\n",
    "\n",
    "kf = KFold(n_splits=5, shuffle=True, random_state=42)\n",
    "\n",
    "# Define the min samples leaf\n",
    "min_weight_fraction_leaf = 0.1\n",
    "\n",
    "# Initialize Decision Tree Classifier \n",
    "model= DecisionTreeClassifier(random_state=42, min_weight_fraction_leaf=min_weight_fraction_leaf)\n",
    "\n",
    "# Store evaluation metrics for each fold\n",
    "fold_accuracies= []\n",
    "fold_precisions = []\n",
    "fold_recalls = []\n",
    "fold_f1_scores = []\n",
    "\n",
    "for fold, (train_index, test_index) in enumerate(kf.split(X_full), 1):\n",
    "    X_train = X_full.iloc[train_index]\n",
    "    y_train = y_full[train_index]\n",
    "    X_test = X_full.iloc[test_index]\n",
    "    y_test = y_full[test_index]\n",
    "\n",
    "    # Fit the model on the training data\n",
    "    model.fit(X_train, y_train)\n",
    "\n",
    "    # Make predictions on the test data\n",
    "    y_pred = model.predict(X_test)\n",
    "\n",
    "    # Calculate evaluation metrics\n",
    "    accuracy = accuracy_score(y_test, y_pred)\n",
    "    precision = precision_score(y_test, y_pred, average='macro')\n",
    "    recall = recall_score(y_test, y_pred, average='macro')\n",
    "    f1 = f1_score(y_test, y_pred, average='macro')\n",
    "\n",
    "    # Append metrics to respective lists\n",
    "    fold_accuracies.append(accuracy)\n",
    "    fold_precisions.append(precision)\n",
    "    fold_recalls.append(recall)\n",
    "    fold_f1_scores.append(f1)\n",
    "\n",
    "# Mean evaluation metrics across all folds\n",
    "mean_accuracy = sum(fold_accuracies) / len(fold_accuracies)\n",
    "mean_precision = sum(fold_precisions) / len(fold_precisions)\n",
    "mean_recall = sum(fold_recalls) / len(fold_recalls)\n",
    "mean_f1 = sum(fold_f1_scores) / len(fold_f1_scores)\n",
    "\n",
    "print(f'Mean Macro Accuracy across all folds: {mean_accuracy}')\n",
    "print(f'Mean Macro Precision across all folds: {mean_precision}')\n",
    "print(f'Mean Macro Recall across all folds: {mean_recall}')\n",
    "print(f'Mean Macro F1 Score across all folds: {mean_f1}')"
   ]
  },
  {
   "cell_type": "markdown",
   "id": "28520342",
   "metadata": {},
   "source": [
    "## 3.11 Splitter\n",
    "This parameter specifies the strategy used to choose the split at each node. It can take two values: 'best' to choose the best split based on the selected criterion, or 'random' to choose the best random split."
   ]
  },
  {
   "cell_type": "code",
   "execution_count": 38,
   "id": "0b123b9d",
   "metadata": {},
   "outputs": [
    {
     "name": "stdout",
     "output_type": "stream",
     "text": [
      "Best Parameters: {'splitter': 'best'}\n"
     ]
    }
   ],
   "source": [
    "param_grid = {\n",
    "    'splitter': ['best', 'random']\n",
    "}\n",
    "\n",
    "\n",
    "# Initialize GridSearchCV\n",
    "grid_search = GridSearchCV(estimator=model_five_features, param_grid=param_grid, cv=5, scoring='f1')\n",
    "\n",
    "# Perform GridSearchCV\n",
    "grid_search.fit(X_train_5, y_train_5)\n",
    "\n",
    "# Get best parameters\n",
    "best_params = grid_search.best_params_\n",
    "\n",
    "# Print best parameters\n",
    "print(\"Best Parameters:\", best_params)"
   ]
  },
  {
   "cell_type": "markdown",
   "id": "85fcbdb1",
   "metadata": {},
   "source": [
    "### 3.11.1 Splitter = Best"
   ]
  },
  {
   "cell_type": "code",
   "execution_count": 274,
   "id": "0acc91e0",
   "metadata": {},
   "outputs": [
    {
     "name": "stdout",
     "output_type": "stream",
     "text": [
      "Training set classification report with Splitter Best\n",
      "              precision    recall  f1-score   support\n",
      "\n",
      "           0       1.00      1.00      1.00      3608\n",
      "           1       1.00      1.00      1.00      1082\n",
      "\n",
      "    accuracy                           1.00      4690\n",
      "   macro avg       1.00      1.00      1.00      4690\n",
      "weighted avg       1.00      1.00      1.00      4690\n",
      "\n",
      "Validation set classification report with Splitter Best\n",
      "              precision    recall  f1-score   support\n",
      "\n",
      "           0       0.99      0.99      0.99       767\n",
      "           1       0.41      0.50      0.45        14\n",
      "\n",
      "    accuracy                           0.98       781\n",
      "   macro avg       0.70      0.74      0.72       781\n",
      "weighted avg       0.98      0.98      0.98       781\n",
      "\n"
     ]
    }
   ],
   "source": [
    "# Define the splitter\n",
    "splitter= 'best'\n",
    "\n",
    "# Initialize Decision Tree Classifier \n",
    "model_splitter_best= DecisionTreeClassifier(random_state=42, splitter=splitter)\n",
    "\n",
    "# Fit the model on the full training data\n",
    "model_splitter_best.fit(X_train_5, y_train_5)\n",
    "\n",
    "# Make predictions on the validation set\n",
    "y_val_pred_splitter_best = model_splitter_best.predict(X_val_5)\n",
    "\n",
    "# Print classification report for train set \n",
    "print(\"Training set classification report with Splitter Best\")\n",
    "print(classification_report(y_train_5, model_splitter_best.predict(X_train_5))) \n",
    "\n",
    "# Print classification report for validation set \n",
    "print(\"Validation set classification report with Splitter Best\")\n",
    "print(classification_report(y_val_5, y_val_pred_splitter_best)) "
   ]
  },
  {
   "cell_type": "code",
   "execution_count": 409,
   "id": "5dc94934",
   "metadata": {},
   "outputs": [
    {
     "name": "stdout",
     "output_type": "stream",
     "text": [
      "Mean Macro Accuracy across all folds: 0.9832560235138124\n",
      "Mean Macro Precision across all folds: 0.9744511141707222\n",
      "Mean Macro Recall across all folds: 0.9786795899451987\n",
      "Mean Macro F1 Score across all folds: 0.9765242241110277\n"
     ]
    }
   ],
   "source": [
    "X_full = df_full[['distance', 'orbital_radius', 'mass_earth', 'radius_earth', 'stellar_magnitude']]\n",
    "y_full = df_full['Habitable']\n",
    "\n",
    "kf = KFold(n_splits=5, shuffle=True, random_state=42)\n",
    "\n",
    "# Define the splitter\n",
    "splitter = 'best'\n",
    "\n",
    "# Initialize Decision Tree Classifier \n",
    "model = DecisionTreeClassifier(random_state=42, splitter=splitter)\n",
    "\n",
    "# Store evaluation metrics for each fold\n",
    "fold_accuracies= []\n",
    "fold_precisions = []\n",
    "fold_recalls = []\n",
    "fold_f1_scores = []\n",
    "\n",
    "for fold, (train_index, test_index) in enumerate(kf.split(X_full), 1):\n",
    "    X_train = X_full.iloc[train_index]\n",
    "    y_train = y_full[train_index]\n",
    "    X_test = X_full.iloc[test_index]\n",
    "    y_test = y_full[test_index]\n",
    "\n",
    "    # Fit the model on the training data\n",
    "    model.fit(X_train, y_train)\n",
    "\n",
    "    # Make predictions on the test data\n",
    "    y_pred = model.predict(X_test)\n",
    "\n",
    "    # Calculate evaluation metrics\n",
    "    accuracy = accuracy_score(y_test, y_pred)\n",
    "    precision = precision_score(y_test, y_pred, average='macro')\n",
    "    recall = recall_score(y_test, y_pred, average='macro')\n",
    "    f1 = f1_score(y_test, y_pred, average='macro')\n",
    "\n",
    "    # Append metrics to respective lists\n",
    "    fold_accuracies.append(accuracy)\n",
    "    fold_precisions.append(precision)\n",
    "    fold_recalls.append(recall)\n",
    "    fold_f1_scores.append(f1)\n",
    "\n",
    "# Mean evaluation metrics across all folds\n",
    "mean_accuracy = sum(fold_accuracies) / len(fold_accuracies)\n",
    "mean_precision = sum(fold_precisions) / len(fold_precisions)\n",
    "mean_recall = sum(fold_recalls) / len(fold_recalls)\n",
    "mean_f1 = sum(fold_f1_scores) / len(fold_f1_scores)\n",
    "\n",
    "print(f'Mean Macro Accuracy across all folds: {mean_accuracy}')\n",
    "print(f'Mean Macro Precision across all folds: {mean_precision}')\n",
    "print(f'Mean Macro Recall across all folds: {mean_recall}')\n",
    "print(f'Mean Macro F1 Score across all folds: {mean_f1}')"
   ]
  },
  {
   "cell_type": "markdown",
   "id": "1f7d2d0a",
   "metadata": {},
   "source": [
    "### 3.11.2 Splitter = Random"
   ]
  },
  {
   "cell_type": "code",
   "execution_count": 276,
   "id": "22c2d3fd",
   "metadata": {},
   "outputs": [
    {
     "name": "stdout",
     "output_type": "stream",
     "text": [
      "Training set classification report with Splitter Random\n",
      "              precision    recall  f1-score   support\n",
      "\n",
      "           0       1.00      1.00      1.00      3608\n",
      "           1       1.00      1.00      1.00      1082\n",
      "\n",
      "    accuracy                           1.00      4690\n",
      "   macro avg       1.00      1.00      1.00      4690\n",
      "weighted avg       1.00      1.00      1.00      4690\n",
      "\n",
      "Validation set classification report with Splitter Random\n",
      "              precision    recall  f1-score   support\n",
      "\n",
      "           0       0.99      0.98      0.99       767\n",
      "           1       0.40      0.57      0.47        14\n",
      "\n",
      "    accuracy                           0.98       781\n",
      "   macro avg       0.70      0.78      0.73       781\n",
      "weighted avg       0.98      0.98      0.98       781\n",
      "\n"
     ]
    }
   ],
   "source": [
    "# Define the splitter\n",
    "splitter= 'random'\n",
    "\n",
    "# Initialize Decision Tree Classifier \n",
    "model_splitter_random= DecisionTreeClassifier(random_state=42, splitter=splitter)\n",
    "\n",
    "# Fit the model on the full training data\n",
    "model_splitter_random.fit(X_train_5, y_train_5)\n",
    "\n",
    "# Make predictions on the validation set\n",
    "y_val_pred_splitter_random = model_splitter_random.predict(X_val_5)\n",
    "\n",
    "# Print classification report for train set \n",
    "print(\"Training set classification report with Splitter Random\")\n",
    "print(classification_report(y_train_5, model_splitter_random.predict(X_train_5))) \n",
    "\n",
    "# Print classification report for validation set \n",
    "print(\"Validation set classification report with Splitter Random\")\n",
    "print(classification_report(y_val_5, y_val_pred_splitter_random)) "
   ]
  },
  {
   "cell_type": "code",
   "execution_count": 410,
   "id": "86d9d089",
   "metadata": {},
   "outputs": [
    {
     "name": "stdout",
     "output_type": "stream",
     "text": [
      "Mean Macro Accuracy across all folds: 0.981611442971291\n",
      "Mean Macro Precision across all folds: 0.9693907017878496\n",
      "Mean Macro Recall across all folds: 0.9796694516088633\n",
      "Mean Macro F1 Score across all folds: 0.974389887254939\n"
     ]
    }
   ],
   "source": [
    "X_full = df_full[['distance', 'orbital_radius', 'mass_earth', 'radius_earth', 'stellar_magnitude']]\n",
    "y_full = df_full['Habitable']\n",
    "\n",
    "kf = KFold(n_splits=5, shuffle=True, random_state=42)\n",
    "\n",
    "# Define the splitter\n",
    "splitter = 'random'\n",
    "\n",
    "# Initialize Decision Tree Classifier \n",
    "model= DecisionTreeClassifier(random_state=42, splitter=splitter)\n",
    "\n",
    "# Store evaluation metrics for each fold\n",
    "fold_accuracies= []\n",
    "fold_precisions = []\n",
    "fold_recalls = []\n",
    "fold_f1_scores = []\n",
    "\n",
    "for fold, (train_index, test_index) in enumerate(kf.split(X_full), 1):\n",
    "    X_train = X_full.iloc[train_index]\n",
    "    y_train = y_full[train_index]\n",
    "    X_test = X_full.iloc[test_index]\n",
    "    y_test = y_full[test_index]\n",
    "\n",
    "    # Fit the model on the training data\n",
    "    model.fit(X_train, y_train)\n",
    "\n",
    "    # Make predictions on the test data\n",
    "    y_pred = model.predict(X_test)\n",
    "\n",
    "    # Calculate evaluation metrics\n",
    "    accuracy = accuracy_score(y_test, y_pred)\n",
    "    precision = precision_score(y_test, y_pred, average='macro')\n",
    "    recall = recall_score(y_test, y_pred, average='macro')\n",
    "    f1 = f1_score(y_test, y_pred, average='macro')\n",
    "\n",
    "    # Append metrics to respective lists\n",
    "    fold_accuracies.append(accuracy)\n",
    "    fold_precisions.append(precision)\n",
    "    fold_recalls.append(recall)\n",
    "    fold_f1_scores.append(f1)\n",
    "\n",
    "# Mean evaluation metrics across all folds\n",
    "mean_accuracy = sum(fold_accuracies) / len(fold_accuracies)\n",
    "mean_precision = sum(fold_precisions) / len(fold_precisions)\n",
    "mean_recall = sum(fold_recalls) / len(fold_recalls)\n",
    "mean_f1 = sum(fold_f1_scores) / len(fold_f1_scores)\n",
    "\n",
    "print(f'Mean Macro Accuracy across all folds: {mean_accuracy}')\n",
    "print(f'Mean Macro Precision across all folds: {mean_precision}')\n",
    "print(f'Mean Macro Recall across all folds: {mean_recall}')\n",
    "print(f'Mean Macro F1 Score across all folds: {mean_f1}')"
   ]
  },
  {
   "cell_type": "markdown",
   "id": "e9f3fd6e",
   "metadata": {},
   "source": [
    "# 4. Model Selection"
   ]
  },
  {
   "cell_type": "markdown",
   "id": "7adcdd10",
   "metadata": {},
   "source": [
    "## 4.1 Best Model based on individual performance\n",
    "\n",
    "When individually tuning the individual parameters of the decision tree model, the following parameters produced the best performance:\n",
    "- class_weight={0: 1, 1: 10}\n",
    "- max_depth=25\n",
    "- min_samples_split=50\n",
    "- ccp_alpha=0.005\n",
    "- max_leaf_nodes=10\n",
    "- min_impurity_decrease=0.01\n",
    "- min_samples_leaf=10\n",
    "-  min_weight_fraction_leaf=0.1\n",
    "- criterion='entropy'\n",
    "- max_features=None\n"
   ]
  },
  {
   "cell_type": "code",
   "execution_count": 467,
   "id": "92a5942c",
   "metadata": {},
   "outputs": [
    {
     "name": "stdout",
     "output_type": "stream",
     "text": [
      "Training set classification report with best features:\n",
      "              precision    recall  f1-score   support\n",
      "\n",
      "           0       0.99      0.83      0.90      3608\n",
      "           1       0.62      0.96      0.76      1082\n",
      "\n",
      "    accuracy                           0.86      4690\n",
      "   macro avg       0.80      0.89      0.83      4690\n",
      "weighted avg       0.90      0.86      0.87      4690\n",
      "\n",
      "Validation set classification report with best features:\n",
      "              precision    recall  f1-score   support\n",
      "\n",
      "           0       0.99      0.83      0.91       767\n",
      "           1       0.07      0.64      0.12        14\n",
      "\n",
      "    accuracy                           0.83       781\n",
      "   macro avg       0.53      0.74      0.51       781\n",
      "weighted avg       0.98      0.83      0.89       781\n",
      "\n",
      "Test set classification report with best features:\n",
      "              precision    recall  f1-score   support\n",
      "\n",
      "           0       1.00      0.80      0.89       770\n",
      "           1       0.06      0.75      0.10        12\n",
      "\n",
      "    accuracy                           0.80       782\n",
      "   macro avg       0.53      0.78      0.50       782\n",
      "weighted avg       0.98      0.80      0.88       782\n",
      "\n"
     ]
    }
   ],
   "source": [
    "# Initialize Decision Tree Classifier \n",
    "model_best_features = DecisionTreeClassifier(random_state=42, \n",
    "                                             class_weight={0: 1, 1: 10},\n",
    "                                             max_depth=25,\n",
    "                                             min_samples_split=50,\n",
    "                                             ccp_alpha=0.005,\n",
    "                                             max_leaf_nodes=10,\n",
    "                                             min_impurity_decrease=0.01,\n",
    "                                             min_samples_leaf=10,\n",
    "                                             min_weight_fraction_leaf=0.1,\n",
    "                                             criterion='entropy',\n",
    "                                             max_features=None)\n",
    "\n",
    "                                            \n",
    "\n",
    "# Fit the model on the full training data\n",
    "model_best_features.fit(X_train_5, y_train_5)\n",
    "\n",
    "# Make predictions on the validation set\n",
    "y_val_pred_best_features = model_best_features.predict(X_val_5)\n",
    "\n",
    "# Print classification report for train set \n",
    "print(\"Training set classification report with best features:\")\n",
    "print(classification_report(y_train_5, model_best_features.predict(X_train_5))) \n",
    "\n",
    "# Print classification report for validation set \n",
    "print(\"Validation set classification report with best features:\")\n",
    "print(classification_report(y_val_5, y_val_pred_best_features)) \n",
    "\n",
    "# Make predictions on the test set\n",
    "y_test_pred_best_features = model_best_features.predict(X_test_5)\n",
    "\n",
    "# Print classification report for test set\n",
    "print(\"Test set classification report with best features:\")\n",
    "print(classification_report(y_test_5, y_test_pred_best_features))\n"
   ]
  },
  {
   "cell_type": "code",
   "execution_count": 469,
   "id": "4ae52b54",
   "metadata": {},
   "outputs": [
    {
     "name": "stdout",
     "output_type": "stream",
     "text": [
      "Mean Macro Accuracy across all folds: 0.824935016149535\n",
      "Mean Macro Precision across all folds: 0.7706298402562786\n",
      "Mean Macro Recall across all folds: 0.8500641434229197\n",
      "Mean Macro F1 Score across all folds: 0.7893955387366047\n"
     ]
    }
   ],
   "source": [
    "X_full = df_full[['distance', 'orbital_radius', 'mass_earth', 'radius_earth', 'stellar_magnitude']]\n",
    "y_full = df_full['Habitable']\n",
    "\n",
    "kf = KFold(n_splits=5, shuffle=True, random_state=42)\n",
    "\n",
    "\n",
    "# Initialize Decision Tree Classifier \n",
    "model= DecisionTreeClassifier(random_state=42, \n",
    "                                             class_weight={0: 1, 1: 10},\n",
    "                                             max_depth=25,\n",
    "                                             min_samples_split=50,\n",
    "                                             ccp_alpha=0.005,\n",
    "                                             max_leaf_nodes=10,\n",
    "                                             min_impurity_decrease=0.01,\n",
    "                                             min_samples_leaf=10,\n",
    "                                             min_weight_fraction_leaf=0.1,\n",
    "                                             criterion='entropy',\n",
    "                                             max_features=None)\n",
    "\n",
    "\n",
    "# Store evaluation metrics for each fold\n",
    "fold_accuracies= []\n",
    "fold_precisions = []\n",
    "fold_recalls = []\n",
    "fold_f1_scores = []\n",
    "\n",
    "for fold, (train_index, test_index) in enumerate(kf.split(X_full), 1):\n",
    "    X_train = X_full.iloc[train_index]\n",
    "    y_train = y_full[train_index]\n",
    "    X_test = X_full.iloc[test_index]\n",
    "    y_test = y_full[test_index]\n",
    "\n",
    "    # Fit the model on the training data\n",
    "    model.fit(X_train, y_train)\n",
    "\n",
    "    # Make predictions on the test data\n",
    "    y_pred = model.predict(X_test)\n",
    "\n",
    "    # Calculate evaluation metrics\n",
    "    accuracy = accuracy_score(y_test, y_pred)\n",
    "    precision = precision_score(y_test, y_pred, average='macro')\n",
    "    recall = recall_score(y_test, y_pred, average='macro')\n",
    "    f1 = f1_score(y_test, y_pred, average='macro')\n",
    "\n",
    "    # Append metrics to respective lists\n",
    "    fold_accuracies.append(accuracy)\n",
    "    fold_precisions.append(precision)\n",
    "    fold_recalls.append(recall)\n",
    "    fold_f1_scores.append(f1)\n",
    "\n",
    "# Mean evaluation metrics across all folds\n",
    "mean_accuracy = sum(fold_accuracies) / len(fold_accuracies)\n",
    "mean_precision = sum(fold_precisions) / len(fold_precisions)\n",
    "mean_recall = sum(fold_recalls) / len(fold_recalls)\n",
    "mean_f1 = sum(fold_f1_scores) / len(fold_f1_scores)\n",
    "\n",
    "print(f'Mean Macro Accuracy across all folds: {mean_accuracy}')\n",
    "print(f'Mean Macro Precision across all folds: {mean_precision}')\n",
    "print(f'Mean Macro Recall across all folds: {mean_recall}')\n",
    "print(f'Mean Macro F1 Score across all folds: {mean_f1}')"
   ]
  },
  {
   "cell_type": "markdown",
   "id": "2daf4280",
   "metadata": {},
   "source": [
    "## 4.3 Best Model based on Grid Search"
   ]
  },
  {
   "cell_type": "code",
   "execution_count": 171,
   "id": "7db1df90",
   "metadata": {},
   "outputs": [
    {
     "name": "stdout",
     "output_type": "stream",
     "text": [
      "Best Parameters: {'ccp_alpha': 0.0, 'class_weight': {0: 1, 1: 10}, 'criterion': 'entropy', 'max_depth': None, 'max_leaf_nodes': 50, 'min_impurity_decrease': 0.0, 'min_samples_leaf': 1, 'min_samples_split': 5, 'min_weight_fraction_leaf': 0.0, 'splitter': 'best'}\n"
     ]
    }
   ],
   "source": [
    "param_grid = {\n",
    "    'class_weight': [None, 'balanced', {0: 1, 1: 2}, {0: 1, 1: 5}, {0: 1, 1: 10}],\n",
    "    'max_depth': [ 2, 3, 5, 11, None],\n",
    "    'min_samples_split': [2, 5, 50],\n",
    "    'ccp_alpha': [0.0, 0.001,0.05],\n",
    "    'criterion': ['gini', 'entropy'],\n",
    "                  #'max_features': ['auto', 'sqrt', 'log2', None],\n",
    "                  'max_leaf_nodes': [None, 10, 50, 100],\n",
    "                  'min_impurity_decrease': [0.0, 0.01],\n",
    "                  'min_samples_leaf': [1, 2, 5, 10],\n",
    "                  'min_weight_fraction_leaf': [0.0, 0.01, 0.05],\n",
    "                  'splitter': ['best', 'random']\n",
    "}\n",
    "\n",
    "# Initialize GridSearchCV\n",
    "grid_search = GridSearchCV(estimator=model_five_features, param_grid=param_grid, cv=5, scoring='f1')\n",
    "\n",
    "# Perform GridSearchCV\n",
    "grid_search.fit(X_train_5, y_train_5)\n",
    "\n",
    "# Get best parameters\n",
    "best_params = grid_search.best_params_\n",
    "\n",
    "# Print best parameters\n",
    "print(\"Best Parameters:\", best_params)"
   ]
  },
  {
   "cell_type": "markdown",
   "id": "41c99bf3",
   "metadata": {},
   "source": [
    "**Grid Search Results:**\n",
    "\n",
    "- class_weight={0: 1, 1: 10}\n",
    "- max_depth=None \n",
    "- max_leaf_nodes=50 \n",
    "- min_impurity_decrease=0\n",
    "- min_samples_leaf=1\n",
    "- min_samples_split=5\n",
    "- min_weight_fraction_leaf=0\n",
    "- splitter='best'\n",
    "- ccp_alpha=0.0\n",
    "- criterion='entropy'\n",
    "- max_features=None"
   ]
  },
  {
   "cell_type": "code",
   "execution_count": 473,
   "id": "25033ce3",
   "metadata": {},
   "outputs": [
    {
     "name": "stdout",
     "output_type": "stream",
     "text": [
      "Training set classification report with best grid search results:\n",
      "              precision    recall  f1-score   support\n",
      "\n",
      "           0       1.00      1.00      1.00      3608\n",
      "           1       0.99      1.00      1.00      1082\n",
      "\n",
      "    accuracy                           1.00      4690\n",
      "   macro avg       1.00      1.00      1.00      4690\n",
      "weighted avg       1.00      1.00      1.00      4690\n",
      "\n",
      "Validation set classification report with best grid search results:\n",
      "              precision    recall  f1-score   support\n",
      "\n",
      "           0       0.99      0.99      0.99       767\n",
      "           1       0.41      0.50      0.45        14\n",
      "\n",
      "    accuracy                           0.98       781\n",
      "   macro avg       0.70      0.74      0.72       781\n",
      "weighted avg       0.98      0.98      0.98       781\n",
      "\n",
      "Test set classification report with best features:\n",
      "              precision    recall  f1-score   support\n",
      "\n",
      "           0       0.99      0.99      0.99       770\n",
      "           1       0.47      0.58      0.52        12\n",
      "\n",
      "    accuracy                           0.98       782\n",
      "   macro avg       0.73      0.79      0.76       782\n",
      "weighted avg       0.99      0.98      0.98       782\n",
      "\n"
     ]
    }
   ],
   "source": [
    "# Initialize Decision Tree Classifier \n",
    "model_best_grid = DecisionTreeClassifier(random_state=42, \n",
    "                                         class_weight={0: 1, 1: 10}, \n",
    "                                         max_depth=None, \n",
    "                                         max_leaf_nodes=50, \n",
    "                                         min_impurity_decrease=0,\n",
    "                                         min_samples_leaf=1,\n",
    "                                         min_samples_split=5,\n",
    "                                         min_weight_fraction_leaf=0,\n",
    "                                         splitter='best',\n",
    "                                         ccp_alpha=0.0, \n",
    "                                         criterion='entropy', \n",
    "                                         max_features=None)\n",
    "\n",
    "# Fit the model on the full training data\n",
    "model_best_grid.fit(X_train_5, y_train_5)\n",
    "\n",
    "# Make predictions on the validation set\n",
    "y_val_pred_best_grid = model_best_grid.predict(X_val_5)\n",
    "\n",
    "# Print classification report for train set \n",
    "print(\"Training set classification report with best grid search results:\")\n",
    "print(classification_report(y_train_5, model_best_grid.predict(X_train_5))) \n",
    "\n",
    "# Print classification report for validation set \n",
    "print(\"Validation set classification report with best grid search results:\")\n",
    "print(classification_report(y_val_5, y_val_pred_best_grid))\n",
    "\n",
    "# Make predictions on the test set\n",
    "y_test_pred_best_grid = model_best_grid.predict(X_test_5)\n",
    "\n",
    "# Print classification report for test set\n",
    "print(\"Test set classification report with best features:\")\n",
    "print(classification_report(y_test_5, y_test_pred_best_grid))\n",
    "\n"
   ]
  },
  {
   "cell_type": "code",
   "execution_count": 470,
   "id": "233ba1c4",
   "metadata": {},
   "outputs": [
    {
     "name": "stdout",
     "output_type": "stream",
     "text": [
      "Mean Macro Accuracy across all folds (weighted): 0.9860963069048905\n",
      "Mean Macro Precision across all folds (weighted): 0.9797420809172899\n",
      "Mean Macro Recall across all folds (weighted): 0.9812722829223588\n",
      "Mean Macro F1 Score across all folds (weighted): 0.9804665984613699\n"
     ]
    }
   ],
   "source": [
    "X_full = df_full[['distance', 'orbital_radius', 'mass_earth', 'radius_earth', 'stellar_magnitude']]\n",
    "y_full = df_full['Habitable']\n",
    "\n",
    "kf = KFold(n_splits=5, shuffle=True, random_state=42)\n",
    "\n",
    "\n",
    "# Initialize Decision Tree Classifier \n",
    "model_grid_search = DecisionTreeClassifier(random_state=42, \n",
    "                                         class_weight={0: 1, 1: 10}, \n",
    "                                         max_depth=None, \n",
    "                                         max_leaf_nodes=50, \n",
    "                                         min_impurity_decrease=0,\n",
    "                                         min_samples_leaf=1,\n",
    "                                         min_samples_split=5,\n",
    "                                         min_weight_fraction_leaf=0,\n",
    "                                         splitter='best',\n",
    "                                         ccp_alpha=0.0, \n",
    "                                         criterion='entropy', \n",
    "                                         max_features=None)\n",
    "\n",
    "# Store evaluation metrics for each fold\n",
    "fold_accuracies_weighted = []\n",
    "fold_precisions_weighted = []\n",
    "fold_recalls_weighted = []\n",
    "fold_f1_scores_weighted = []\n",
    "\n",
    "for fold, (train_index, test_index) in enumerate(kf.split(X_full), 1):\n",
    "    X_train = X_full.iloc[train_index]\n",
    "    y_train = y_full[train_index]\n",
    "    X_test = X_full.iloc[test_index]\n",
    "    y_test = y_full[test_index]\n",
    "\n",
    "    # Fit the model on the training data\n",
    "    model_weighted.fit(X_train, y_train)\n",
    "\n",
    "    # Make predictions on the test data\n",
    "    y_pred = model_weighted.predict(X_test)\n",
    "\n",
    "    # Calculate evaluation metrics\n",
    "    accuracy = accuracy_score(y_test, y_pred)\n",
    "    precision = precision_score(y_test, y_pred, average='macro')\n",
    "    recall = recall_score(y_test, y_pred, average='macro')\n",
    "    f1 = f1_score(y_test, y_pred, average='macro')\n",
    "\n",
    "    # Append metrics to respective lists\n",
    "    fold_accuracies_weighted.append(accuracy)\n",
    "    fold_precisions_weighted.append(precision)\n",
    "    fold_recalls_weighted.append(recall)\n",
    "    fold_f1_scores_weighted.append(f1)\n",
    "\n",
    "# Mean evaluation metrics across all folds\n",
    "mean_accuracy_weighted = sum(fold_accuracies_weighted) / len(fold_accuracies_weighted)\n",
    "mean_precision_weighted = sum(fold_precisions_weighted) / len(fold_precisions_weighted)\n",
    "mean_recall_weighted = sum(fold_recalls_weighted) / len(fold_recalls_weighted)\n",
    "mean_f1_weighted = sum(fold_f1_scores_weighted) / len(fold_f1_scores_weighted)\n",
    "\n",
    "print(f'Mean Macro Accuracy across all folds (weighted): {mean_accuracy_weighted}')\n",
    "print(f'Mean Macro Precision across all folds (weighted): {mean_precision_weighted}')\n",
    "print(f'Mean Macro Recall across all folds (weighted): {mean_recall_weighted}')\n",
    "print(f'Mean Macro F1 Score across all folds (weighted): {mean_f1_weighted}')"
   ]
  },
  {
   "cell_type": "markdown",
   "id": "da6da8c1",
   "metadata": {},
   "source": [
    "# 5. Model Evaluation"
   ]
  },
  {
   "cell_type": "markdown",
   "id": "b39d599d",
   "metadata": {},
   "source": [
    "## 5.1 Best Features"
   ]
  },
  {
   "cell_type": "code",
   "execution_count": 471,
   "id": "6b66a5da",
   "metadata": {},
   "outputs": [
    {
     "name": "stdout",
     "output_type": "stream",
     "text": [
      "Confusion Matrix:\n",
      "[[618 152]\n",
      " [  3   9]]\n",
      "\n"
     ]
    },
    {
     "data": {
      "image/png": "[encoded data removed]",
      "text/plain": [
       "<Figure size 800x600 with 2 Axes>"
      ]
     },
     "metadata": {},
     "output_type": "display_data"
    }
   ],
   "source": [
    "import matplotlib.pyplot as plt\n",
    "import numpy as np\n",
    "\n",
    "\n",
    "y_pred = model_best_features.predict(X_test_5)\n",
    "# Print confusion matrix for best model\n",
    "cm = confusion_matrix(y_test_5, y_pred)\n",
    "print(f'Confusion Matrix:\\n{cm}\\n')\n",
    "\n",
    "# Plot confusion matrix with values in the boxes\n",
    "plt.figure(figsize=(8, 6))\n",
    "plt.imshow(cm, interpolation='nearest', cmap=plt.get_cmap('Blues'))\n",
    "plt.title('Confusion Matrix')\n",
    "plt.colorbar()\n",
    "\n",
    "tick_marks = np.arange(2)\n",
    "plt.xticks(tick_marks, ['Not Habitable', 'Habitable'], rotation=45)\n",
    "plt.yticks(tick_marks, ['Not Habitable', 'Habitable'])\n",
    "\n",
    "plt.ylabel('True label')\n",
    "plt.xlabel('Predicted label')\n",
    "\n",
    "for i in range(2):\n",
    "    for j in range(2):\n",
    "        plt.text(j, i, cm[i, j], ha='center', va='center', color='black')\n",
    "\n",
    "plt.show()\n"
   ]
  },
  {
   "cell_type": "markdown",
   "id": "ac145276",
   "metadata": {},
   "source": [
    "## 5.2 Grid Search"
   ]
  },
  {
   "cell_type": "code",
   "execution_count": 472,
   "id": "a6135144",
   "metadata": {},
   "outputs": [
    {
     "name": "stdout",
     "output_type": "stream",
     "text": [
      "Confusion Matrix:\n",
      "[[762   8]\n",
      " [  5   7]]\n",
      "\n"
     ]
    },
    {
     "data": {
      "image/png": "[encoded data removed]",
      "text/plain": [
       "<Figure size 800x600 with 2 Axes>"
      ]
     },
     "metadata": {},
     "output_type": "display_data"
    }
   ],
   "source": [
    "y_pred = model_best_grid.predict(X_test_5)\n",
    "# Print confusion matrix for best model\n",
    "cm = confusion_matrix(y_test_5, y_pred)\n",
    "print(f'Confusion Matrix:\\n{cm}\\n')\n",
    "\n",
    "# Plot confusion matrix with values in the boxes\n",
    "plt.figure(figsize=(8, 6))\n",
    "plt.imshow(cm, interpolation='nearest', cmap=plt.get_cmap('Blues'))\n",
    "plt.title('Confusion Matrix')\n",
    "plt.colorbar()\n",
    "\n",
    "tick_marks = np.arange(2)\n",
    "plt.xticks(tick_marks, ['Not Habitable', 'Habitable'], rotation=45)\n",
    "plt.yticks(tick_marks, ['Not Habitable', 'Habitable'])\n",
    "\n",
    "plt.ylabel('True label')\n",
    "plt.xlabel('Predicted label')\n",
    "\n",
    "for i in range(2):\n",
    "    for j in range(2):\n",
    "        plt.text(j, i, cm[i, j], ha='center', va='center', color='black')\n",
    "\n",
    "plt.show()"
   ]
  },
  {
   "cell_type": "markdown",
   "id": "6e419e76",
   "metadata": {},
   "source": [
    "## Results\n",
    "\n",
    "Overall, the model based on Grid Search performs significantly better than the model that has been tuned based on the individually best performing parameters. Overall a macro average F1 score of 76% is reached in the test data with this resulting model. "
   ]
  },
  {
   "cell_type": "markdown",
   "id": "9fb6064f",
   "metadata": {},
   "source": [
    "# 6. Run time Complexity"
   ]
  },
  {
   "cell_type": "code",
   "execution_count": 474,
   "id": "41effa33",
   "metadata": {},
   "outputs": [
    {
     "name": "stdout",
     "output_type": "stream",
     "text": [
      "Decision Tree training time: 0.10 seconds\n",
      "Decision Tree prediction time: 0.01 seconds\n"
     ]
    }
   ],
   "source": [
    "import time\n",
    "\n",
    "# Initialize a dictionary to store training and prediction times\n",
    "training_times = {}\n",
    "\n",
    "# Start measuring time for training\n",
    "start_time = time.time()\n",
    "model_best_grid.fit(X_train_5, y_train_5)  # Train the model\n",
    "end_time = time.time()\n",
    "\n",
    "# Calculate training duration\n",
    "training_duration = end_time - start_time\n",
    "\n",
    "# Start measuring time for prediction\n",
    "start_time = time.time()\n",
    "predictions = model_best_grid.predict(X_test_5)\n",
    "prediction_time = time.time() - start_time\n",
    "\n",
    "# Store times in the dictionary\n",
    "training_times['Decision Tree'] = {'Training Time': training_duration, 'Prediction Time': prediction_time}\n",
    "\n",
    "# Print the times\n",
    "print(f\"Decision Tree training time: {training_duration:.2f} seconds\")\n",
    "print(f\"Decision Tree prediction time: {prediction_time:.2f} seconds\")"
   ]
  },
  {
   "cell_type": "code",
   "execution_count": null,
   "id": "62c9927a",
   "metadata": {},
   "outputs": [],
   "source": []
  },
  {
   "cell_type": "code",
   "execution_count": null,
   "id": "0d2ac713",
   "metadata": {},
   "outputs": [],
   "source": []
  }
 ],
 "metadata": {
  "kernelspec": {
   "display_name": "Python 3 (ipykernel)",
   "language": "python",
   "name": "python3"
  },
  "language_info": {
   "codemirror_mode": {
    "name": "ipython",
    "version": 3
   },
   "file_extension": ".py",
   "mimetype": "text/x-python",
   "name": "python",
   "nbconvert_exporter": "python",
   "pygments_lexer": "ipython3",
   "version": "3.11.9"
  }
 },
 "nbformat": 4,
 "nbformat_minor": 5
}
